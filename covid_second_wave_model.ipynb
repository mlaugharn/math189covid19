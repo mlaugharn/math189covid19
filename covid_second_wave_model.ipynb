{
  "nbformat": 4,
  "nbformat_minor": 0,
  "metadata": {
    "colab": {
      "name": "covid second wave model.ipynb",
      "provenance": [],
      "collapsed_sections": [],
      "machine_shape": "hm",
      "authorship_tag": "ABX9TyO8sPPqn0NwPmkqt37Uuqqh",
      "include_colab_link": true
    },
    "kernelspec": {
      "name": "python3",
      "display_name": "Python 3"
    }
  },
  "cells": [
    {
      "cell_type": "markdown",
      "metadata": {
        "id": "view-in-github",
        "colab_type": "text"
      },
      "source": [
        "<a href=\"https://colab.research.google.com/github/mlaugharn/math189covid19/blob/master/covid_second_wave_model.ipynb\" target=\"_parent\"><img src=\"https://colab.research.google.com/assets/colab-badge.svg\" alt=\"Open In Colab\"/></a>"
      ]
    },
    {
      "cell_type": "code",
      "metadata": {
        "id": "QyETqpE0Eg-y",
        "colab_type": "code",
        "colab": {
          "base_uri": "https://localhost:8080/",
          "height": 35
        },
        "outputId": "8f910aa0-ea0c-44fa-926a-96f5489096ed"
      },
      "source": [
        "# data sources\n",
        "# apple maps movement trends\n",
        "# google maps movement trends\n",
        "# global policies dataset\n",
        "# all per state\n",
        "import pandas as pd\n",
        "import numpy as np\n",
        "\n",
        "from tqdm import tqdm_notebook as tqdm\n",
        "\n",
        "import torch\n",
        "import torch.nn as nn\n",
        "import torch.nn.functional as F\n",
        "import torch.optim as optim\n",
        "from sklearn import preprocessing\n",
        "from functools import reduce\n",
        "from sklearn.linear_model import LinearRegression\n",
        "from sklearn.compose import ColumnTransformer\n",
        "from sklearn.linear_model import SGDRegressor\n",
        "from sklearn import preprocessing\n",
        "import pprint\n",
        "import numpy as np\n",
        "from scipy import stats\n",
        "import matplotlib.pyplot as plt\n",
        "%matplotlib inline\n",
        "\n",
        "torch.manual_seed(1)"
      ],
      "execution_count": 1,
      "outputs": [
        {
          "output_type": "execute_result",
          "data": {
            "text/plain": [
              "<torch._C.Generator at 0x7ff87ad514b0>"
            ]
          },
          "metadata": {
            "tags": []
          },
          "execution_count": 1
        }
      ]
    },
    {
      "cell_type": "code",
      "metadata": {
        "id": "wNwXnwgWSGha",
        "colab_type": "code",
        "colab": {}
      },
      "source": [
        "# https://en.wikipedia.org/wiki/County_statistics_of_the_United_States#Most_densely_populated"
      ],
      "execution_count": 0,
      "outputs": []
    },
    {
      "cell_type": "code",
      "metadata": {
        "id": "QUO6f43z1qG4",
        "colab_type": "code",
        "outputId": "ec9449f0-4ced-4c65-c4a6-4f011f146240",
        "colab": {
          "base_uri": "https://localhost:8080/",
          "height": 1000
        }
      },
      "source": [
        "USA = {'Mississippi', 'Virginia', 'South Carolina', 'Massachusetts', 'New Jersey', 'Arkansas', 'Tennessee', 'Hawaii', 'South Dakota', 'Alaska', 'North Dakota', 'Kansas', 'Utah', 'Texas', 'Louisiana', 'District of Columbia', 'Wyoming', 'Oklahoma', 'Pennsylvania', 'Kentucky', 'Connecticut', 'New York', 'Montana', 'Vermont', 'West Virginia', 'Maine', 'Maryland', 'Missouri', 'New Mexico', 'Ohio', 'Illinois', 'Minnesota', 'New Hampshire', 'Oregon', 'Washington', 'Delaware', 'Michigan', 'California', 'Idaho', 'Georgia', 'Nebraska', 'Arizona', 'Florida', 'Alabama', 'North Carolina', 'Colorado', 'Indiana', 'Iowa', 'Wisconsin', 'Nevada', 'Rhode Island'}\n",
        "def get_apple_data(date = None):\n",
        "    # focus on driving data\n",
        "    if date == None: \n",
        "        output = {}\n",
        "        apple_covid_df = pd.read_csv(\"https://covid19-static.cdn-apple.com/covid19-mobility-data/2007HotfixDev48/v2/en-us/applemobilitytrends-2020-05-04.csv\")\n",
        "        apple_covid_df['region'] = apple_covid_df['region'].replace({'Washington DC': 'District of Columbia'})\n",
        "        # filter to US regions\n",
        "        #apple_covid_df = apple_covid_df.iloc[apple_covid_df.index[apple_covid_df['transportation_type'] == 'driving']].reset_index()\n",
        "        #print(apple_covid_df.index[apple_covid_df['region'].isin(USA)])\n",
        "        apple_covid_df = apple_covid_df.iloc[apple_covid_df.index[apple_covid_df['region'].isin(USA)]]\n",
        "        #apple_covid_df = apple_covid_df.drop(columns='geo_type')\n",
        "        # filter to only driving data\n",
        "        # dataset currently has 1 date as 1 column\n",
        "        # now need to make 1 date = 1 row\n",
        "        apple_covid_df = apple_covid_df.melt(id_vars=['geo_type', 'region', 'alternative_name', 'transportation_type'], var_name='date', value_name='driving_percent')\n",
        "        apple_covid_df['date'] = pd.to_datetime(apple_covid_df['date'], errors='coerce')\n",
        "        apple_covid_df = apple_covid_df.iloc[apple_covid_df.index[apple_covid_df['transportation_type'] == 'driving']]\n",
        "        apple_covid_df['driving_percent'] = (apple_covid_df['driving_percent'].astype(float) - 100) * (1/100.)\n",
        "        for region, region_df in apple_covid_df.groupby('region'):\n",
        "            output[region] = region_df\n",
        "        print(output.keys())\n",
        "        assert len(output) == 51, \"Not 51 regions in Apple data\"\n",
        "        return output\n",
        "    else: assert False, \"date specific data not implemented yet\"\n",
        "\n",
        "def get_google_data(date = None):\n",
        "    if date == None: \n",
        "        google_covid_df = pd.read_csv('https://www.gstatic.com/covid19/mobility/Global_Mobility_Report.csv?cachebust=a88b56a24e1a1e25', dtype={'sub_region_2': str}, parse_dates=['date'], infer_datetime_format=True)\n",
        "        states_google_covid_df = google_covid_df.iloc[google_covid_df.index[(google_covid_df['country_region_code'] == 'US') & (google_covid_df.sub_region_1.notnull()) & (google_covid_df.sub_region_2.isnull())]]\n",
        "        cols_to_change = [\"retail_and_recreation_percent_change_from_baseline\",\n",
        "                          \"grocery_and_pharmacy_percent_change_from_baseline\",\n",
        "                          \"parks_percent_change_from_baseline\",\n",
        "                          \"transit_stations_percent_change_from_baseline\",\n",
        "                          \"workplaces_percent_change_from_baseline\",\n",
        "                          \"residential_percent_change_from_baseline\"]\n",
        "        for col_to_change in cols_to_change:\n",
        "            states_google_covid_df[col_to_change] = states_google_covid_df[col_to_change].astype(float) * (1/100.)\n",
        "        output = {}\n",
        "        for region, region_df in states_google_covid_df.groupby('sub_region_1'):\n",
        "            output[region] = region_df\n",
        "\n",
        "        assert len(output) == 51, \"Not 51 regions in Google data\"\n",
        "        return output\n",
        "    else: assert False, \"date specific data not implemented yet\"\n",
        "\n",
        "def get_covid_act_now_data(date = None):\n",
        "    if date == None: \n",
        "        act_now_df = pd.read_csv(\"https://data.covidactnow.org/latest/us/states.OBSERVED_INTERVENTION.timeseries.csv\", parse_dates=['date', 'lastUpdatedDate'], infer_datetime_format=True)\n",
        "        act_now_df['RtIndicator'] = act_now_df['RtIndicator'].fillna(method='bfill')\n",
        "        act_now_df['RtIndicatorCI90'] = act_now_df['RtIndicatorCI90'].fillna(method='bfill')\n",
        "        output = {}\n",
        "        for region, region_df in act_now_df.groupby('stateName'): # split into state dfs\n",
        "            non_future_data = region_df[region_df['date'] <= pd.to_datetime('now')] # remove rows that speculate about future hospital requirements etc.\n",
        "            output[region] = non_future_data\n",
        "        assert len(output) == 51, \"Not 51 regions in Covid Act Now data\" # states + dc\n",
        "        return output\n",
        "\n",
        "def get_states_policies_data(date = None):\n",
        "    '''Here's the methodology:\n",
        "\n",
        "    0. No or few containment measures in place.\n",
        "\n",
        "    1. Ban on public gatherings, cancellation of major events and conferences. It’s not always easy to know when a country goes from step 0 to step 1. I’ve used public announcements by the government and looked at major sporting and cultural events in the country and when they became cancelled.\n",
        "\n",
        "    2. Schools and universities closed. As from the first day of closure, not when the announcement is made. Dates largely match those available from Unesco at the following web address: https://en.unesco.org/themes/education-emergencies/coronavirus-school-closures\n",
        "\n",
        "    3. Non-essential shops, restaurants and bars closed. As from the first day of closure, not when the announcement is made.\n",
        "\n",
        "    4. Night curfew/Partial lockdown in place. Applied for part of the day (usually at night) or for broad population categories (eg, people aged over 60).\n",
        "\n",
        "    5. All-day lockdown. Government requires citizens to shelter in place all day long. Citizens are allowed to come out to buy essential items.\n",
        "\n",
        "    6. Harsh lockdown. Citizens are not allowed to come out of their home, even to buy essential items.\n",
        "    '''\n",
        "    if date == None:\n",
        "        policies_df = pd.read_csv(\"https://raw.githubusercontent.com/OlivierLej/Coronavirus_CounterMeasures/master/dataset.csv\")\n",
        "        print(policies_df.head())\n",
        "        us_policies_df = policies_df.iloc[policies_df.index[policies_df['country_name'] == 'United States']]\n",
        "        us_policies_df.head()\n",
        "        outputs = {}\n",
        "        us_state_abbrev = {\n",
        "            'AL': 'Alabama',\n",
        "            'AK': 'Alaska',\n",
        "            'AZ': 'Arizona',\n",
        "            'AR': 'Arkansas',\n",
        "            'CA': 'California',\n",
        "            'CO': 'Colorado',\n",
        "            'CT': 'Connecticut',\n",
        "            'DC': 'District of Columbia',\n",
        "            'DE': 'Delaware',\n",
        "            'FL': 'Florida',\n",
        "            'GA': 'Georgia',\n",
        "            'HI': 'Hawaii',\n",
        "            'ID': 'Idaho',\n",
        "            'IL': 'Illinois',\n",
        "            'IN': 'Indiana',\n",
        "            'IA': 'Iowa',\n",
        "            'KS': 'Kansas',\n",
        "            'KY': 'Kentucky',\n",
        "            'LA': 'Louisiana',\n",
        "            'ME': 'Maine',\n",
        "            'MD': 'Maryland',\n",
        "            'MA': 'Massachusetts',\n",
        "            'MI': 'Michigan',\n",
        "            'MN': 'Minnesota',\n",
        "            'MS': 'Mississippi',\n",
        "            'MO': 'Missouri',\n",
        "            'MT': 'Montana',\n",
        "            'NE': 'Nebraska',\n",
        "            'NV': 'Nevada',\n",
        "            'NH': 'New Hampshire',\n",
        "            'NJ': 'New Jersey',\n",
        "            'NM': 'New Mexico',\n",
        "            'NY': 'New York',\n",
        "            'NC': 'North Carolina',\n",
        "            'ND': 'North Dakota',\n",
        "            'OH': 'Ohio',\n",
        "            'OK': 'Oklahoma',\n",
        "            'OR': 'Oregon',\n",
        "            'PA': 'Pennsylvania',\n",
        "            'RI': 'Rhode Island',\n",
        "            'SC': 'South Carolina',\n",
        "            'SD': 'South Dakota',\n",
        "            'TN': 'Tennessee',\n",
        "            'TX': 'Texas',\n",
        "            'UT': 'Utah',\n",
        "            'VT': 'Vermont',\n",
        "            'VA': 'Virginia',\n",
        "            'WA': 'Washington',\n",
        "            'WV': 'West Virginia',\n",
        "            'WI': 'Wisconsin',\n",
        "            'WY': 'Wyoming',\n",
        "        }\n",
        "        us_policies_df['country_id'] = us_policies_df['country_id'].replace(us_state_abbrev)\n",
        "        def renamed(colname):\n",
        "            #eg 20200502_date -> 2020-05-02\n",
        "            return f'{colname[:4]}-{colname[4:6]}-{colname[6:8]}'\n",
        "        column_renaming = {datecol: renamed(datecol) for datecol in us_policies_df.columns[1:]}\n",
        "        \n",
        "        us_policies_df = us_policies_df.rename(columns=column_renaming)\n",
        "        us_policies_df = us_policies_df.rename(columns={'country_id': 'state'})\n",
        "        us_policies_df = us_policies_df.melt(id_vars=['state'], var_name='date', value_name='lockdown_level')\n",
        "        us_policies_df['date'] = pd.to_datetime(us_policies_df['date'], errors='coerce')\n",
        "        for region, region_df in us_policies_df.groupby('state'):\n",
        "            outputs[region] = region_df\n",
        "        return outputs\n",
        "\n",
        "def get_health_poverty_data():\n",
        "    health_poverty_df = pd.read_csv(\"https://raw.githubusercontent.com/sherirosalia/Health_by_State/master/assets/data/data.csv\")\n",
        "    health_poverty_df = health_poverty_df.drop(columns=['id', 'abbr'])\n",
        "    health_poverty_df['state'] = health_poverty_df['state'].replace({'Washington D.C.': 'District of Columbia'})\n",
        "    outputs = {}\n",
        "    for region, region_df in health_poverty_df.groupby('state'):\n",
        "        outputs[region] = region_df\n",
        "    return outputs\n",
        "\n",
        "def get_density_data():\n",
        "    density_df = pd.read_csv(\"https://raw.githubusercontent.com/camillol/cs424p3/master/data/Population-Density%20By%20State.csv\")\n",
        "    density_df = density_df.drop(columns=[\"GEO.id\",\"GEO.id2\"])\n",
        "    outputs = {}\n",
        "    for region, region_df in density_df.groupby(\"GEO.display-label\"):\n",
        "        outputs[region] = region_df\n",
        "    return outputs\n",
        "\n",
        "\n",
        "\n",
        "def build_inputs():\n",
        "    # USA = states + dc\n",
        "    apple_covid_df = get_apple_data()\n",
        "    google_covid_df = get_google_data()\n",
        "    act_now_df = get_covid_act_now_data()\n",
        "    policies_df = get_states_policies_data()\n",
        "\n",
        "    health_poverty_df = get_health_poverty_data()\n",
        "    pop_density_df = get_density_data()\n",
        "    # convert all datasets into dict of smaller datasets per state\n",
        "    # per region, get:\n",
        "    #   1. driving data from apple\n",
        "    #   2. retail, grocery/pharmacy, parks, transit, workplace, residential data from google\n",
        "    #   3. hospital beds required, hospital bed capacity, ICU beds in use, ICU beds capacity, \n",
        "    #            ventilators in use, ventilator capacity, R_t indicator, R_t 90% CI,\n",
        "    #            cumulative deaths, cumulative infected, \n",
        "    #            cumulative positive tests, cumulative negative tests, \n",
        "    #            latitude, longitude from Covid Act Now website\n",
        "    #   4. get lockdown strictness timeseries\n",
        "    #   5. poverty data?\n",
        "\n",
        "    # standard format: \n",
        "    # 1. indexed by region name\n",
        "    # 2. 1 date per row\n",
        "    # 3. all features = remaining columns of the row\n",
        "    # per place, use widest range of dates available in all datasets\n",
        "\n",
        "    # modeling response to change in policy as a 'smeared' impulse response to e.g. unit step instantaneous impulse - people need a few days to adapt their behaviors, but also have a few days prior knowledge before new policies go into place\n",
        "\n",
        "    # predicting:\n",
        "    # 1. for different strictness levels, what are the different death/confirmed case predictions\n",
        "    inputs = {}\n",
        "    for region in USA: #\n",
        "        timeseries_frames = [apple_covid_df[region], google_covid_df[region], act_now_df[region], policies_df[region]]\n",
        "        constant_frames = [health_poverty_df[region], pop_density_df[region]]\n",
        "\n",
        "        region_joined_df = reduce(lambda left, right: pd.merge(left, right, on='date'), timeseries_frames)\n",
        "        region_joined_df = region_joined_df.drop(columns=['sub_region_1', 'sub_region_2', 'country_region_code', 'country_region', 'geo_type', 'alternative_name', 'transportation_type', 'intervention', 'fips', 'lastUpdatedDate', 'countryName', 'stateName', 'countyName', 'state'])\n",
        "        \n",
        "\n",
        "        # non-timeseries data, eg. constant columns\n",
        "        for constant_frame in constant_frames:\n",
        "            for i, col in enumerate(constant_frame.columns):\n",
        "                if i > 0: region_joined_df[col] = constant_frame[col].sum()\n",
        "        \n",
        "        region_joined_df['Rt_90_lower_bound'] = region_joined_df['RtIndicator'] - (region_joined_df['RtIndicatorCI90'])\n",
        "        region_joined_df['Rt_90_upper_bound'] = region_joined_df['RtIndicator'] + (region_joined_df['RtIndicatorCI90'])\n",
        "        region_joined_df['cumulativePositiveTests'] = region_joined_df['cumulativePositiveTests'].fillna(method='bfill')\n",
        "        region_joined_df['cumulativeNegativeTests'] = region_joined_df['cumulativeNegativeTests'].fillna(method='bfill')\n",
        "        region_joined_df['positive_test_rate'] = region_joined_df['cumulativePositiveTests'] / (region_joined_df['cumulativePositiveTests'] + region_joined_df['cumulativeNegativeTests'])\n",
        "        region_joined_df['positive_test_rate'] = region_joined_df['positive_test_rate'].fillna(method='bfill')\n",
        "        inputs[region] = region_joined_df\n",
        "    return inputs\n",
        "\n",
        "def build_model(statename):\n",
        "    # try to predict R_t of each day\n",
        "    # for t in days: multiply current # cases by R_t for that day\n",
        "    # do an exponential model given R_t\n",
        "    pass\n",
        "\n",
        "inputs = build_inputs()\n",
        "for region, region_df in inputs.items():\n",
        "    region_df.to_csv(open(f'{region}.csv', 'w'), index=False)\n",
        "    print(f\"wrote {region}.csv\")"
      ],
      "execution_count": 71,
      "outputs": [
        {
          "output_type": "stream",
          "text": [
            "dict_keys(['Alabama', 'Alaska', 'Arizona', 'Arkansas', 'California', 'Colorado', 'Connecticut', 'Delaware', 'District of Columbia', 'Florida', 'Georgia', 'Hawaii', 'Idaho', 'Illinois', 'Indiana', 'Iowa', 'Kansas', 'Kentucky', 'Louisiana', 'Maine', 'Maryland', 'Massachusetts', 'Michigan', 'Minnesota', 'Mississippi', 'Missouri', 'Montana', 'Nebraska', 'Nevada', 'New Hampshire', 'New Jersey', 'New Mexico', 'New York', 'North Carolina', 'North Dakota', 'Ohio', 'Oklahoma', 'Oregon', 'Pennsylvania', 'Rhode Island', 'South Carolina', 'South Dakota', 'Tennessee', 'Texas', 'Utah', 'Vermont', 'Virginia', 'Washington', 'West Virginia', 'Wisconsin', 'Wyoming'])\n"
          ],
          "name": "stdout"
        },
        {
          "output_type": "stream",
          "text": [
            "/usr/local/lib/python3.6/dist-packages/ipykernel_launcher.py:38: SettingWithCopyWarning: \n",
            "A value is trying to be set on a copy of a slice from a DataFrame.\n",
            "Try using .loc[row_indexer,col_indexer] = value instead\n",
            "\n",
            "See the caveats in the documentation: https://pandas.pydata.org/pandas-docs/stable/user_guide/indexing.html#returning-a-view-versus-a-copy\n"
          ],
          "name": "stderr"
        },
        {
          "output_type": "stream",
          "text": [
            "  country_id country_name  ...  20200606_date  20200607_date\n",
            "0        AFG  Afghanistan  ...              4              4\n",
            "1        ALB      Albania  ...              5              5\n",
            "2        DZA      Algeria  ...              2              2\n",
            "3        AND      Andorra  ...              5              5\n",
            "4        AGO       Angola  ...              3              3\n",
            "\n",
            "[5 rows x 139 columns]\n"
          ],
          "name": "stdout"
        },
        {
          "output_type": "stream",
          "text": [
            "/usr/local/lib/python3.6/dist-packages/ipykernel_launcher.py:135: SettingWithCopyWarning: \n",
            "A value is trying to be set on a copy of a slice from a DataFrame.\n",
            "Try using .loc[row_indexer,col_indexer] = value instead\n",
            "\n",
            "See the caveats in the documentation: https://pandas.pydata.org/pandas-docs/stable/user_guide/indexing.html#returning-a-view-versus-a-copy\n"
          ],
          "name": "stderr"
        },
        {
          "output_type": "stream",
          "text": [
            "wrote Delaware.csv\n",
            "wrote Colorado.csv\n",
            "wrote Connecticut.csv\n",
            "wrote Virginia.csv\n",
            "wrote Minnesota.csv\n",
            "wrote Alaska.csv\n",
            "wrote Arizona.csv\n",
            "wrote Vermont.csv\n",
            "wrote Wisconsin.csv\n",
            "wrote Oregon.csv\n",
            "wrote Wyoming.csv\n",
            "wrote New York.csv\n",
            "wrote Washington.csv\n",
            "wrote South Dakota.csv\n",
            "wrote Nebraska.csv\n",
            "wrote Rhode Island.csv\n",
            "wrote Missouri.csv\n",
            "wrote Illinois.csv\n",
            "wrote North Carolina.csv\n",
            "wrote Texas.csv\n",
            "wrote Arkansas.csv\n",
            "wrote North Dakota.csv\n",
            "wrote Louisiana.csv\n",
            "wrote Pennsylvania.csv\n",
            "wrote Michigan.csv\n",
            "wrote Idaho.csv\n",
            "wrote Nevada.csv\n",
            "wrote Montana.csv\n",
            "wrote District of Columbia.csv\n",
            "wrote West Virginia.csv\n",
            "wrote Ohio.csv\n",
            "wrote Utah.csv\n",
            "wrote South Carolina.csv\n",
            "wrote Maine.csv\n",
            "wrote Kentucky.csv\n",
            "wrote Florida.csv\n",
            "wrote New Hampshire.csv\n",
            "wrote Hawaii.csv\n",
            "wrote Maryland.csv\n",
            "wrote New Mexico.csv\n",
            "wrote Oklahoma.csv\n",
            "wrote Kansas.csv\n",
            "wrote Alabama.csv\n",
            "wrote Indiana.csv\n",
            "wrote New Jersey.csv\n",
            "wrote Georgia.csv\n",
            "wrote Iowa.csv\n",
            "wrote Tennessee.csv\n",
            "wrote Massachusetts.csv\n",
            "wrote Mississippi.csv\n",
            "wrote California.csv\n"
          ],
          "name": "stdout"
        }
      ]
    },
    {
      "cell_type": "code",
      "metadata": {
        "id": "uKZvSkoXVBqg",
        "colab_type": "code",
        "outputId": "7d017f21-f336-45df-a465-738445c61028",
        "colab": {
          "base_uri": "https://localhost:8080/",
          "height": 313
        }
      },
      "source": [
        "inputs['Alabama'].head()"
      ],
      "execution_count": 72,
      "outputs": [
        {
          "output_type": "execute_result",
          "data": {
            "text/html": [
              "<div>\n",
              "<style scoped>\n",
              "    .dataframe tbody tr th:only-of-type {\n",
              "        vertical-align: middle;\n",
              "    }\n",
              "\n",
              "    .dataframe tbody tr th {\n",
              "        vertical-align: top;\n",
              "    }\n",
              "\n",
              "    .dataframe thead th {\n",
              "        text-align: right;\n",
              "    }\n",
              "</style>\n",
              "<table border=\"1\" class=\"dataframe\">\n",
              "  <thead>\n",
              "    <tr style=\"text-align: right;\">\n",
              "      <th></th>\n",
              "      <th>region</th>\n",
              "      <th>date</th>\n",
              "      <th>driving_percent</th>\n",
              "      <th>retail_and_recreation_percent_change_from_baseline</th>\n",
              "      <th>grocery_and_pharmacy_percent_change_from_baseline</th>\n",
              "      <th>parks_percent_change_from_baseline</th>\n",
              "      <th>transit_stations_percent_change_from_baseline</th>\n",
              "      <th>workplaces_percent_change_from_baseline</th>\n",
              "      <th>residential_percent_change_from_baseline</th>\n",
              "      <th>hospitalBedsRequired</th>\n",
              "      <th>hospitalBedCapacity</th>\n",
              "      <th>ICUBedsInUse</th>\n",
              "      <th>ICUBedCapacity</th>\n",
              "      <th>ventilatorsInUse</th>\n",
              "      <th>ventilatorCapacity</th>\n",
              "      <th>RtIndicator</th>\n",
              "      <th>RtIndicatorCI90</th>\n",
              "      <th>cumulativeDeaths</th>\n",
              "      <th>cumulativeInfected</th>\n",
              "      <th>cumulativePositiveTests</th>\n",
              "      <th>cumulativeNegativeTests</th>\n",
              "      <th>lat</th>\n",
              "      <th>long</th>\n",
              "      <th>lockdown_level</th>\n",
              "      <th>poverty</th>\n",
              "      <th>povertyMoe</th>\n",
              "      <th>age</th>\n",
              "      <th>ageMoe</th>\n",
              "      <th>income</th>\n",
              "      <th>incomeMoe</th>\n",
              "      <th>healthcare</th>\n",
              "      <th>healthcareLow</th>\n",
              "      <th>healthcareHigh</th>\n",
              "      <th>obesity</th>\n",
              "      <th>obesityLow</th>\n",
              "      <th>obesityHigh</th>\n",
              "      <th>smokes</th>\n",
              "      <th>smokesLow</th>\n",
              "      <th>smokesHigh</th>\n",
              "      <th>Density per square mile of land area</th>\n",
              "      <th>Rt_90_lower_bound</th>\n",
              "      <th>Rt_90_upper_bound</th>\n",
              "      <th>positive_test_rate</th>\n",
              "    </tr>\n",
              "  </thead>\n",
              "  <tbody>\n",
              "    <tr>\n",
              "      <th>0</th>\n",
              "      <td>Alabama</td>\n",
              "      <td>2020-03-03</td>\n",
              "      <td>0.1538</td>\n",
              "      <td>0.20</td>\n",
              "      <td>0.15</td>\n",
              "      <td>0.33</td>\n",
              "      <td>0.05</td>\n",
              "      <td>0.02</td>\n",
              "      <td>-0.01</td>\n",
              "      <td>0</td>\n",
              "      <td>15870</td>\n",
              "      <td>0</td>\n",
              "      <td>465</td>\n",
              "      <td>0</td>\n",
              "      <td>1551</td>\n",
              "      <td>1.5</td>\n",
              "      <td>4.0</td>\n",
              "      <td>0</td>\n",
              "      <td>6</td>\n",
              "      <td>0.0</td>\n",
              "      <td>0.0</td>\n",
              "      <td>32.539527</td>\n",
              "      <td>-86.644082</td>\n",
              "      <td>0</td>\n",
              "      <td>19.3</td>\n",
              "      <td>0.5</td>\n",
              "      <td>38.6</td>\n",
              "      <td>0.2</td>\n",
              "      <td>42830</td>\n",
              "      <td>598</td>\n",
              "      <td>13.9</td>\n",
              "      <td>12.7</td>\n",
              "      <td>15.1</td>\n",
              "      <td>33.5</td>\n",
              "      <td>32.1</td>\n",
              "      <td>35.0</td>\n",
              "      <td>21.1</td>\n",
              "      <td>19.8</td>\n",
              "      <td>22.5</td>\n",
              "      <td>94.4</td>\n",
              "      <td>-2.5</td>\n",
              "      <td>5.5</td>\n",
              "      <td>0.0</td>\n",
              "    </tr>\n",
              "    <tr>\n",
              "      <th>1</th>\n",
              "      <td>Alabama</td>\n",
              "      <td>2020-03-04</td>\n",
              "      <td>0.1090</td>\n",
              "      <td>0.07</td>\n",
              "      <td>0.00</td>\n",
              "      <td>-0.08</td>\n",
              "      <td>0.02</td>\n",
              "      <td>0.00</td>\n",
              "      <td>0.01</td>\n",
              "      <td>0</td>\n",
              "      <td>15870</td>\n",
              "      <td>0</td>\n",
              "      <td>465</td>\n",
              "      <td>0</td>\n",
              "      <td>1551</td>\n",
              "      <td>1.5</td>\n",
              "      <td>4.0</td>\n",
              "      <td>0</td>\n",
              "      <td>15</td>\n",
              "      <td>0.0</td>\n",
              "      <td>0.0</td>\n",
              "      <td>32.539527</td>\n",
              "      <td>-86.644082</td>\n",
              "      <td>0</td>\n",
              "      <td>19.3</td>\n",
              "      <td>0.5</td>\n",
              "      <td>38.6</td>\n",
              "      <td>0.2</td>\n",
              "      <td>42830</td>\n",
              "      <td>598</td>\n",
              "      <td>13.9</td>\n",
              "      <td>12.7</td>\n",
              "      <td>15.1</td>\n",
              "      <td>33.5</td>\n",
              "      <td>32.1</td>\n",
              "      <td>35.0</td>\n",
              "      <td>21.1</td>\n",
              "      <td>19.8</td>\n",
              "      <td>22.5</td>\n",
              "      <td>94.4</td>\n",
              "      <td>-2.5</td>\n",
              "      <td>5.5</td>\n",
              "      <td>0.0</td>\n",
              "    </tr>\n",
              "    <tr>\n",
              "      <th>2</th>\n",
              "      <td>Alabama</td>\n",
              "      <td>2020-03-05</td>\n",
              "      <td>0.2409</td>\n",
              "      <td>0.07</td>\n",
              "      <td>0.06</td>\n",
              "      <td>0.00</td>\n",
              "      <td>0.04</td>\n",
              "      <td>0.02</td>\n",
              "      <td>0.01</td>\n",
              "      <td>0</td>\n",
              "      <td>15870</td>\n",
              "      <td>0</td>\n",
              "      <td>465</td>\n",
              "      <td>0</td>\n",
              "      <td>1551</td>\n",
              "      <td>1.5</td>\n",
              "      <td>4.0</td>\n",
              "      <td>0</td>\n",
              "      <td>25</td>\n",
              "      <td>0.0</td>\n",
              "      <td>0.0</td>\n",
              "      <td>32.539527</td>\n",
              "      <td>-86.644082</td>\n",
              "      <td>0</td>\n",
              "      <td>19.3</td>\n",
              "      <td>0.5</td>\n",
              "      <td>38.6</td>\n",
              "      <td>0.2</td>\n",
              "      <td>42830</td>\n",
              "      <td>598</td>\n",
              "      <td>13.9</td>\n",
              "      <td>12.7</td>\n",
              "      <td>15.1</td>\n",
              "      <td>33.5</td>\n",
              "      <td>32.1</td>\n",
              "      <td>35.0</td>\n",
              "      <td>21.1</td>\n",
              "      <td>19.8</td>\n",
              "      <td>22.5</td>\n",
              "      <td>94.4</td>\n",
              "      <td>-2.5</td>\n",
              "      <td>5.5</td>\n",
              "      <td>0.0</td>\n",
              "    </tr>\n",
              "    <tr>\n",
              "      <th>3</th>\n",
              "      <td>Alabama</td>\n",
              "      <td>2020-03-06</td>\n",
              "      <td>0.5782</td>\n",
              "      <td>0.09</td>\n",
              "      <td>0.04</td>\n",
              "      <td>0.29</td>\n",
              "      <td>0.10</td>\n",
              "      <td>0.02</td>\n",
              "      <td>-0.01</td>\n",
              "      <td>0</td>\n",
              "      <td>15870</td>\n",
              "      <td>0</td>\n",
              "      <td>465</td>\n",
              "      <td>0</td>\n",
              "      <td>1551</td>\n",
              "      <td>1.5</td>\n",
              "      <td>4.0</td>\n",
              "      <td>0</td>\n",
              "      <td>38</td>\n",
              "      <td>0.0</td>\n",
              "      <td>0.0</td>\n",
              "      <td>32.539527</td>\n",
              "      <td>-86.644082</td>\n",
              "      <td>0</td>\n",
              "      <td>19.3</td>\n",
              "      <td>0.5</td>\n",
              "      <td>38.6</td>\n",
              "      <td>0.2</td>\n",
              "      <td>42830</td>\n",
              "      <td>598</td>\n",
              "      <td>13.9</td>\n",
              "      <td>12.7</td>\n",
              "      <td>15.1</td>\n",
              "      <td>33.5</td>\n",
              "      <td>32.1</td>\n",
              "      <td>35.0</td>\n",
              "      <td>21.1</td>\n",
              "      <td>19.8</td>\n",
              "      <td>22.5</td>\n",
              "      <td>94.4</td>\n",
              "      <td>-2.5</td>\n",
              "      <td>5.5</td>\n",
              "      <td>0.0</td>\n",
              "    </tr>\n",
              "    <tr>\n",
              "      <th>4</th>\n",
              "      <td>Alabama</td>\n",
              "      <td>2020-03-07</td>\n",
              "      <td>0.5873</td>\n",
              "      <td>0.12</td>\n",
              "      <td>0.08</td>\n",
              "      <td>0.63</td>\n",
              "      <td>0.18</td>\n",
              "      <td>0.07</td>\n",
              "      <td>-0.02</td>\n",
              "      <td>0</td>\n",
              "      <td>15870</td>\n",
              "      <td>0</td>\n",
              "      <td>465</td>\n",
              "      <td>0</td>\n",
              "      <td>1551</td>\n",
              "      <td>1.5</td>\n",
              "      <td>4.0</td>\n",
              "      <td>0</td>\n",
              "      <td>55</td>\n",
              "      <td>0.0</td>\n",
              "      <td>0.0</td>\n",
              "      <td>32.539527</td>\n",
              "      <td>-86.644082</td>\n",
              "      <td>0</td>\n",
              "      <td>19.3</td>\n",
              "      <td>0.5</td>\n",
              "      <td>38.6</td>\n",
              "      <td>0.2</td>\n",
              "      <td>42830</td>\n",
              "      <td>598</td>\n",
              "      <td>13.9</td>\n",
              "      <td>12.7</td>\n",
              "      <td>15.1</td>\n",
              "      <td>33.5</td>\n",
              "      <td>32.1</td>\n",
              "      <td>35.0</td>\n",
              "      <td>21.1</td>\n",
              "      <td>19.8</td>\n",
              "      <td>22.5</td>\n",
              "      <td>94.4</td>\n",
              "      <td>-2.5</td>\n",
              "      <td>5.5</td>\n",
              "      <td>0.0</td>\n",
              "    </tr>\n",
              "  </tbody>\n",
              "</table>\n",
              "</div>"
            ],
            "text/plain": [
              "    region       date  ...  Rt_90_upper_bound  positive_test_rate\n",
              "0  Alabama 2020-03-03  ...                5.5                 0.0\n",
              "1  Alabama 2020-03-04  ...                5.5                 0.0\n",
              "2  Alabama 2020-03-05  ...                5.5                 0.0\n",
              "3  Alabama 2020-03-06  ...                5.5                 0.0\n",
              "4  Alabama 2020-03-07  ...                5.5                 0.0\n",
              "\n",
              "[5 rows x 43 columns]"
            ]
          },
          "metadata": {
            "tags": []
          },
          "execution_count": 72
        }
      ]
    },
    {
      "cell_type": "code",
      "metadata": {
        "id": "r8UhhxJD4WXY",
        "colab_type": "code",
        "outputId": "0ad9d061-c021-4d91-b45c-2b91630e82c7",
        "colab": {
          "base_uri": "https://localhost:8080/",
          "height": 53
        }
      },
      "source": [
        "params = ['driving_percent', 'retail_and_recreation_percent_change_from_baseline', \n",
        "          'grocery_and_pharmacy_percent_change_from_baseline', \n",
        "          'transit_stations_percent_change_from_baseline',\n",
        "          'workplaces_percent_change_from_baseline', \n",
        "          'residential_percent_change_from_baseline', \n",
        "          'lockdown_level', 'poverty', 'age', 'income',\n",
        "          'healthcare', 'healthcareLow', 'healthcareHigh',\n",
        "          'obesity', 'smokes', 'smokesLow', 'smokesHigh',\n",
        "          'Density per square mile of land area']\n",
        "X = inputs['Alabama'][params].values\n",
        "X = np.hstack((X, np.arange(len(X)).reshape((-1,1))))\n",
        "y = inputs['Alabama'][['RtIndicator']].values\n",
        "print(X.shape,y.shape)\n",
        "reg = LinearRegression(normalize=True).fit(X, y)\n",
        "reg.score(X,y)"
      ],
      "execution_count": 73,
      "outputs": [
        {
          "output_type": "stream",
          "text": [
            "(59, 19) (59, 1)\n"
          ],
          "name": "stdout"
        },
        {
          "output_type": "execute_result",
          "data": {
            "text/plain": [
              "0.9230854352759202"
            ]
          },
          "metadata": {
            "tags": []
          },
          "execution_count": 73
        }
      ]
    },
    {
      "cell_type": "code",
      "metadata": {
        "id": "xnD3-OH471Lf",
        "colab_type": "code",
        "colab": {
          "base_uri": "https://localhost:8080/",
          "height": 1000
        },
        "outputId": "097ea77a-caa0-4bf4-ba1f-c61af9f554da"
      },
      "source": [
        "regression_coefs = {param: [] for param in params + ['t', 't^2']}\n",
        "intercepts = []\n",
        "#X_tot = None\n",
        "#y_tot = np.array([])\n",
        "for region in USA:\n",
        "    #print(f\"cols with nans: {inputs[region][params].columns[inputs[region][params].isna().any()].tolist()}\")\n",
        "    X = inputs[region][params].values\n",
        "    t = np.arange(len(X)).reshape((-1,1))\n",
        "    X = np.hstack((X, t, np.square(t)))\n",
        "    \n",
        "    #y = np.diff(np.log(inputs[region][['cumulativeDeaths']].values + 1e-9), axis=0)\n",
        "    y = inputs[region][['RtIndicator']].values.ravel()\n",
        "    \n",
        "    # if type(X_tot) == type(None): X_tot = X\n",
        "    # else: \n",
        "    #     print(X_tot.shape, X.shape)\n",
        "    #     X_tot = np.concatenate((X_tot, X), axis=0)\n",
        "    # y_tot = np.hstack((y_tot,y))\n",
        "\n",
        "    #X_tot = preprocessing.StandardScaler().fit(X_tot).transform(X_tot)\n",
        "    X = preprocessing.StandardScaler().fit(X).transform(X)\n",
        "    reg = SGDRegressor(max_iter=100000).fit(X, y)\n",
        "    \n",
        "    print(f\"regression for {region}\")\n",
        "    print(reg.score(X,y))\n",
        "    # pprint.pprint({param:reg.coef_[0][i] for i, param in enumerate(params + ['t'])})\n",
        "    for i, param in enumerate(params + ['t', 't^2']):\n",
        "        regression_coefs[param].append(reg.coef_[i])\n",
        "        intercepts.append(reg.intercept_)\n",
        "\n",
        "print(f\"b={sum(intercepts)/len(intercepts)}\")\n",
        "for i, param in enumerate(regression_coefs):\n",
        "    coefs = regression_coefs[param]\n",
        "    if len(coefs) > 0:\n",
        "        print(f\"{param}: \\n\\t median = {np.median(coefs)} \\n\\t min = {np.min(coefs)} \\n\\t mean = {np.mean(coefs)} \\n\\t max = {np.max(coefs)} \\n\")"
      ],
      "execution_count": 74,
      "outputs": [
        {
          "output_type": "stream",
          "text": [
            "regression for Delaware\n",
            "0.8731869999880039\n",
            "regression for Colorado\n",
            "0.7743161499462468\n",
            "regression for Connecticut\n",
            "0.8881515600832239\n",
            "regression for Virginia\n",
            "0.8284482429841145\n",
            "regression for Minnesota\n",
            "0.5723786209447577\n",
            "regression for Alaska\n",
            "0.8360716823109625\n",
            "regression for Arizona\n",
            "0.7661292763804518\n",
            "regression for Vermont\n",
            "0.8507069609082836\n",
            "regression for Wisconsin\n",
            "0.7081802926990274\n",
            "regression for Oregon\n",
            "0.8800135227684488\n",
            "regression for Wyoming\n",
            "0.8125230638124075\n",
            "regression for New York\n",
            "0.8326037106496821\n",
            "regression for Washington\n",
            "0.9242709101481564\n",
            "regression for South Dakota\n",
            "0.7736359279622886\n",
            "regression for Nebraska\n",
            "0.6899277712466108\n",
            "regression for Rhode Island\n",
            "0.9296409546669744\n",
            "regression for Missouri\n",
            "0.8480653043119868\n",
            "regression for Illinois\n",
            "0.773083354791147\n",
            "regression for North Carolina\n",
            "0.8264514306384676\n",
            "regression for Texas\n",
            "0.9123619201359536\n",
            "regression for Arkansas\n",
            "0.6424130219773607\n",
            "regression for North Dakota\n",
            "0.698157037286299\n",
            "regression for Louisiana\n",
            "0.7795721799457211\n",
            "regression for Pennsylvania\n",
            "0.8616481690351167\n",
            "regression for Michigan\n",
            "0.7474389530353838\n",
            "regression for Idaho\n",
            "0.8146907647552208\n",
            "regression for Nevada\n",
            "0.8843808754252619\n",
            "regression for Montana\n",
            "0.8868024677629337\n",
            "regression for District of Columbia\n",
            "0.8680601210654373\n",
            "regression for West Virginia\n",
            "0.884063686379377\n",
            "regression for Ohio\n",
            "0.8482339035165155\n",
            "regression for Utah\n",
            "0.8930090951817884\n",
            "regression for South Carolina\n",
            "0.78339549223004\n",
            "regression for Maine\n",
            "0.9720155608260657\n",
            "regression for Kentucky\n",
            "0.8749515663396544\n",
            "regression for Florida\n",
            "0.8428683534602961\n",
            "regression for New Hampshire\n",
            "0.8187929427956842\n",
            "regression for Hawaii\n",
            "0.8193229368055726\n",
            "regression for Maryland\n",
            "0.8460482157144928\n",
            "regression for New Mexico\n",
            "0.8659633826567651\n",
            "regression for Oklahoma\n",
            "0.8579805494947707\n",
            "regression for Kansas\n",
            "0.8077748932806883\n",
            "regression for Alabama\n",
            "0.8321114808609051\n",
            "regression for Indiana\n",
            "0.7676323606560007\n",
            "regression for New Jersey\n",
            "0.7739048381041267\n",
            "regression for Georgia\n",
            "0.839857629461176\n",
            "regression for Iowa\n",
            "0.6113204376458545\n",
            "regression for Tennessee\n",
            "0.7637310408940289\n",
            "regression for Massachusetts\n",
            "0.8262191411937025\n",
            "regression for Mississippi\n",
            "0.6974384952698868\n",
            "regression for California\n",
            "0.893419192001896\n",
            "b=[0.25735043]\n",
            "driving_percent: \n",
            "\t median = -0.04662602051710171 \n",
            "\t min = -0.14712686952928522 \n",
            "\t mean = -0.05541769074436981 \n",
            "\t max = 0.014935986130765334 \n",
            "\n",
            "retail_and_recreation_percent_change_from_baseline: \n",
            "\t median = -0.022603228310403522 \n",
            "\t min = -0.1130240159817114 \n",
            "\t mean = -0.02176516644601461 \n",
            "\t max = 0.05073855125219986 \n",
            "\n",
            "grocery_and_pharmacy_percent_change_from_baseline: \n",
            "\t median = 0.03040504942475098 \n",
            "\t min = -0.024014346041935586 \n",
            "\t mean = 0.04327419848665336 \n",
            "\t max = 0.1946071299978596 \n",
            "\n",
            "transit_stations_percent_change_from_baseline: \n",
            "\t median = 0.005255334230346904 \n",
            "\t min = -0.03800561729654017 \n",
            "\t mean = 0.0022466179187619678 \n",
            "\t max = 0.033934549865197706 \n",
            "\n",
            "workplaces_percent_change_from_baseline: \n",
            "\t median = 0.006032573714329673 \n",
            "\t min = -0.018103024833330674 \n",
            "\t mean = 0.006485981520929031 \n",
            "\t max = 0.03864354414803019 \n",
            "\n",
            "residential_percent_change_from_baseline: \n",
            "\t median = 0.00939269111185582 \n",
            "\t min = -0.01738415556123096 \n",
            "\t mean = 0.01052717735190738 \n",
            "\t max = 0.033488450336729814 \n",
            "\n",
            "lockdown_level: \n",
            "\t median = -0.02942369733429425 \n",
            "\t min = -0.10899239286504184 \n",
            "\t mean = -0.03191354436477593 \n",
            "\t max = 0.03218629183929148 \n",
            "\n",
            "poverty: \n",
            "\t median = 0.0 \n",
            "\t min = -0.24464234179144506 \n",
            "\t mean = -0.01720461015300605 \n",
            "\t max = 0.31583320777438684 \n",
            "\n",
            "age: \n",
            "\t median = 0.0 \n",
            "\t min = -0.3982436767825889 \n",
            "\t mean = 0.012665570999628072 \n",
            "\t max = 0.49724924467195025 \n",
            "\n",
            "income: \n",
            "\t median = 0.0 \n",
            "\t min = 0.0 \n",
            "\t mean = 0.0 \n",
            "\t max = 0.0 \n",
            "\n",
            "healthcare: \n",
            "\t median = 0.0 \n",
            "\t min = -0.25734931229715774 \n",
            "\t mean = 0.012014489833632845 \n",
            "\t max = 0.3868359500887342 \n",
            "\n",
            "healthcareLow: \n",
            "\t median = 0.0 \n",
            "\t min = -0.2946835078677589 \n",
            "\t mean = -0.02333168612717244 \n",
            "\t max = 0.24302808742540363 \n",
            "\n",
            "healthcareHigh: \n",
            "\t median = 0.0 \n",
            "\t min = -0.49724924467195025 \n",
            "\t mean = 0.022094923512677743 \n",
            "\t max = 0.7994492020854936 \n",
            "\n",
            "obesity: \n",
            "\t median = 0.0 \n",
            "\t min = -0.3982436767825889 \n",
            "\t mean = -0.02858435429957443 \n",
            "\t max = 0.24984501372201046 \n",
            "\n",
            "smokes: \n",
            "\t median = 0.0 \n",
            "\t min = -0.2941220112496317 \n",
            "\t mean = -0.03204049058483236 \n",
            "\t max = 0.31583320777438684 \n",
            "\n",
            "smokesLow: \n",
            "\t median = 0.0 \n",
            "\t min = -0.2386237416303967 \n",
            "\t mean = -0.01369346454047188 \n",
            "\t max = 0.3868359500887342 \n",
            "\n",
            "smokesHigh: \n",
            "\t median = 0.0 \n",
            "\t min = -0.31583320777438684 \n",
            "\t mean = 0.026593173971200063 \n",
            "\t max = 0.3982436767825889 \n",
            "\n",
            "Density per square mile of land area: \n",
            "\t median = 0.0 \n",
            "\t min = -0.2941220112496317 \n",
            "\t mean = 0.01392647858376408 \n",
            "\t max = 0.25734931229715774 \n",
            "\n",
            "t: \n",
            "\t median = -0.0938262705041619 \n",
            "\t min = -0.21650124403662968 \n",
            "\t mean = -0.09937402841668823 \n",
            "\t max = -0.018185863914792245 \n",
            "\n",
            "t^2: \n",
            "\t median = -0.11250569863085094 \n",
            "\t min = -0.2721809404221158 \n",
            "\t mean = -0.12060312221304051 \n",
            "\t max = -0.02793864454985685 \n",
            "\n"
          ],
          "name": "stdout"
        }
      ]
    },
    {
      "cell_type": "code",
      "metadata": {
        "id": "3BiZ_b1gkH3K",
        "colab_type": "code",
        "colab": {
          "base_uri": "https://localhost:8080/",
          "height": 1000
        },
        "outputId": "155b2e83-cf36-4dca-fb3f-6dce1b9eb9ba"
      },
      "source": [
        "\n",
        "for i, param in enumerate(params + ['t', 't^2']):\n",
        "    plt.figure(figsize=(10,5))\n",
        "    plt.hist(regression_coefs[param], bins=25)\n",
        "    plt.title(param)\n",
        "    plt.show()"
      ],
      "execution_count": 75,
      "outputs": [
        {
          "output_type": "display_data",
          "data": {
            "image/png": "[encoded data removed]",
            "text/plain": [
              "<Figure size 720x360 with 1 Axes>"
            ]
          },
          "metadata": {
            "tags": [],
            "needs_background": "light"
          }
        },
        {
          "output_type": "display_data",
          "data": {
            "image/png": "[encoded data removed]",
            "text/plain": [
              "<Figure size 720x360 with 1 Axes>"
            ]
          },
          "metadata": {
            "tags": [],
            "needs_background": "light"
          }
        },
        {
          "output_type": "display_data",
          "data": {
            "image/png": "[encoded data removed]",
            "text/plain": [
              "<Figure size 720x360 with 1 Axes>"
            ]
          },
          "metadata": {
            "tags": [],
            "needs_background": "light"
          }
        },
        {
          "output_type": "display_data",
          "data": {
            "image/png": "[encoded data removed]",
            "text/plain": [
              "<Figure size 720x360 with 1 Axes>"
            ]
          },
          "metadata": {
            "tags": [],
            "needs_background": "light"
          }
        },
        {
          "output_type": "display_data",
          "data": {
            "image/png": "[encoded data removed]",
            "text/plain": [
              "<Figure size 720x360 with 1 Axes>"
            ]
          },
          "metadata": {
            "tags": [],
            "needs_background": "light"
          }
        },
        {
          "output_type": "display_data",
          "data": {
            "image/png": "[encoded data removed]",
            "text/plain": [
              "<Figure size 720x360 with 1 Axes>"
            ]
          },
          "metadata": {
            "tags": [],
            "needs_background": "light"
          }
        },
        {
          "output_type": "display_data",
          "data": {
            "image/png": "[encoded data removed]",
            "text/plain": [
              "<Figure size 720x360 with 1 Axes>"
            ]
          },
          "metadata": {
            "tags": [],
            "needs_background": "light"
          }
        },
        {
          "output_type": "display_data",
          "data": {
            "image/png": "[encoded data removed]",
            "text/plain": [
              "<Figure size 720x360 with 1 Axes>"
            ]
          },
          "metadata": {
            "tags": [],
            "needs_background": "light"
          }
        },
        {
          "output_type": "display_data",
          "data": {
            "image/png": "[encoded data removed]",
            "text/plain": [
              "<Figure size 720x360 with 1 Axes>"
            ]
          },
          "metadata": {
            "tags": [],
            "needs_background": "light"
          }
        },
        {
          "output_type": "display_data",
          "data": {
            "image/png": "[encoded data removed]",
            "text/plain": [
              "<Figure size 720x360 with 1 Axes>"
            ]
          },
          "metadata": {
            "tags": [],
            "needs_background": "light"
          }
        },
        {
          "output_type": "display_data",
          "data": {
            "image/png": "[encoded data removed]",
            "text/plain": [
              "<Figure size 720x360 with 1 Axes>"
            ]
          },
          "metadata": {
            "tags": [],
            "needs_background": "light"
          }
        },
        {
          "output_type": "display_data",
          "data": {
            "image/png": "[encoded data removed]",
            "text/plain": [
              "<Figure size 720x360 with 1 Axes>"
            ]
          },
          "metadata": {
            "tags": [],
            "needs_background": "light"
          }
        },
        {
          "output_type": "display_data",
          "data": {
            "image/png": "[encoded data removed]",
            "text/plain": [
              "<Figure size 720x360 with 1 Axes>"
            ]
          },
          "metadata": {
            "tags": [],
            "needs_background": "light"
          }
        },
        {
          "output_type": "display_data",
          "data": {
            "image/png": "[encoded data removed]",
            "text/plain": [
              "<Figure size 720x360 with 1 Axes>"
            ]
          },
          "metadata": {
            "tags": [],
            "needs_background": "light"
          }
        },
        {
          "output_type": "display_data",
          "data": {
            "image/png": "[encoded data removed]",
            "text/plain": [
              "<Figure size 720x360 with 1 Axes>"
            ]
          },
          "metadata": {
            "tags": [],
            "needs_background": "light"
          }
        },
        {
          "output_type": "display_data",
          "data": {
            "image/png": "[encoded data removed]",
            "text/plain": [
              "<Figure size 720x360 with 1 Axes>"
            ]
          },
          "metadata": {
            "tags": [],
            "needs_background": "light"
          }
        },
        {
          "output_type": "display_data",
          "data": {
            "image/png": "[encoded data removed]",
            "text/plain": [
              "<Figure size 720x360 with 1 Axes>"
            ]
          },
          "metadata": {
            "tags": [],
            "needs_background": "light"
          }
        },
        {
          "output_type": "display_data",
          "data": {
            "image/png": "[encoded data removed]",
            "text/plain": [
              "<Figure size 720x360 with 1 Axes>"
            ]
          },
          "metadata": {
            "tags": [],
            "needs_background": "light"
          }
        },
        {
          "output_type": "display_data",
          "data": {
            "image/png": "[encoded data removed]",
            "text/plain": [
              "<Figure size 720x360 with 1 Axes>"
            ]
          },
          "metadata": {
            "tags": [],
            "needs_background": "light"
          }
        },
        {
          "output_type": "display_data",
          "data": {
            "image/png": "[encoded data removed]",
            "text/plain": [
              "<Figure size 720x360 with 1 Axes>"
            ]
          },
          "metadata": {
            "tags": [],
            "needs_background": "light"
          }
        }
      ]
    },
    {
      "cell_type": "markdown",
      "metadata": {
        "id": "LByisHGnN9d9",
        "colab_type": "text"
      },
      "source": [
        "    prev_hidden                              ----------> |i2o| ---------------> output\n",
        "        +        -----> |input2hidden1| -----|\n",
        "      input                                  ----------> |input2hidden2|------> hidden"
      ]
    },
    {
      "cell_type": "code",
      "metadata": {
        "id": "MOR28mj1ju7d",
        "colab_type": "code",
        "colab": {}
      },
      "source": [
        "\n",
        "import torch.nn.functional as F\n",
        "class LSTM(nn.Module):\n",
        "    # adapted from https://www.jessicayung.com/lstms-for-time-series-in-pytorch/\n",
        "    def __init__(self, input_dim, hidden_dim1, seq_len=14, output_dim = 2, num_layers=2):\n",
        "        super(LSTM, self).__init__()\n",
        "        self.input_dim = input_dim\n",
        "        self.hidden_dim1 = hidden_dim1\n",
        "        self.output_dim = output_dim\n",
        "        self.seq_len = seq_len\n",
        "\n",
        "        self.num_layers = num_layers\n",
        "\n",
        "        # define LSTM layer\n",
        "        self.lstm = nn.LSTM(self.input_dim, self.hidden_dim1, self.num_layers, dropout=0.15)\n",
        "\n",
        "        # define output layer\n",
        "        self.linear1 = nn.Linear(self.hidden_dim1, self.output_dim)\n",
        "        #self.linear2 = nn.Linear(self.hidden_dim2, self.output_dim)\n",
        "\n",
        "    def init_hidden(self):\n",
        "        return (torch.zeros(self.num_layers, self.seq_len, self.hidden_dim1),\n",
        "                torch.zeros(self.num_layers, self.seq_len, self.hidden_dim1))\n",
        "    \n",
        "    def forward(self, input):\n",
        "        # lstm_out shape: [input_size, batch_size, hidden_dim]\n",
        "        # self.hidden shape: (a, b)\n",
        "        # where a and b both have shape (num_layers, batch_size, hidden_dim)\n",
        "        #print(input.shape)\n",
        "        lstm_out, self.hidden = self.lstm(\n",
        "            input.reshape(len(input), self.seq_len, -1))\n",
        "        y_pred = F.softplus(self.linear1(lstm_out.view(self.seq_len, len(input), -1)[-1]))\n",
        "        return y_pred.reshape((-1, self.output_dim))\n",
        "\n",
        "\n",
        "def sliding_windows(X, Y, seq_length):\n",
        "    xs = []\n",
        "    ys = []\n",
        "    for i in range(len(X) - seq_length - 1):\n",
        "        x = X[i:(i+seq_length)]\n",
        "        y = Y[i+seq_length]\n",
        "        xs.append(x)\n",
        "        ys.append(y)\n",
        "    return torch.from_numpy(np.array(xs)), torch.from_numpy(np.array(ys))\n",
        "\n",
        "\n"
      ],
      "execution_count": 0,
      "outputs": []
    },
    {
      "cell_type": "code",
      "metadata": {
        "id": "UmoJzlYTPUW-",
        "colab_type": "code",
        "colab": {}
      },
      "source": [
        "def build_state_model(region):\n",
        "    print(f\"starting {region}\")\n",
        "    input_params = [\n",
        "        'driving_percent', 'retail_and_recreation_percent_change_from_baseline', \n",
        "        'grocery_and_pharmacy_percent_change_from_baseline', \n",
        "        'transit_stations_percent_change_from_baseline',\n",
        "        'workplaces_percent_change_from_baseline', \n",
        "        'residential_percent_change_from_baseline', \n",
        "        'lockdown_level', 'lat', 'long', \n",
        "        'hospitalBedsRequired', 'hospitalBedCapacity',\n",
        "        'ICUBedsInUse', 'ICUBedCapacity',\n",
        "        'poverty', 'age', 'income',\n",
        "        'healthcare', 'healthcareLow', 'healthcareHigh',\n",
        "        'obesity', 'smokes', 'smokesLow', 'smokesHigh',\n",
        "        'Density per square mile of land area',\n",
        "        'positive_test_rate',\n",
        "        'cumulativeDeaths', 'cumulativeInfected', \n",
        "        'cumulativePositiveTests', 'cumulativeNegativeTests']\n",
        "    output_params = ['RtIndicator', ]\n",
        "    seq_len = 4\n",
        "\n",
        "    X = inputs[region][input_params].values.astype('float32')\n",
        "    X = preprocessing.StandardScaler().fit(X).transform(X)\n",
        "    Y = inputs[region][output_params].values.astype('float32')\n",
        "    \n",
        "    test_size = 8\n",
        "    \n",
        "    X_train, X_test = X[:-test_size], X[-test_size:]\n",
        "    Y_train, Y_test = Y[:-test_size], Y[test_size:]\n",
        "\n",
        "    X_train_lstm, y_train_lstm = sliding_windows(X_train, Y_train, seq_len)\n",
        "    X_test_lstm, y_test_lstm = sliding_windows(X_test, Y_test, seq_len)\n",
        "    \n",
        "    hidden1 = 2\n",
        "    print(len(input_params))\n",
        "    model = LSTM(len(input_params), hidden_dim1 = hidden1, seq_len = seq_len, output_dim = len(output_params), num_layers=3)\n",
        "\n",
        "    loss_fn = torch.nn.MSELoss(reduction='mean')\n",
        "    learning_rate = 1e-3\n",
        "    num_epochs = 500\n",
        "    optimiser = torch.optim.Adam(model.parameters(), lr=learning_rate)\n",
        "    \n",
        "    #####################\n",
        "    # Train model\n",
        "    #####################\n",
        "    \n",
        "    train_hist = np.zeros(num_epochs)\n",
        "    test_hist = np.zeros(num_epochs)\n",
        "    train_losses = [] \n",
        "    test_losses = []\n",
        "    for t in range(num_epochs):\n",
        "        # Clear stored gradient\n",
        "\n",
        "        model.zero_grad()\n",
        "        \n",
        "        # Initialise hidden state\n",
        "        # Don't do this if you want your LSTM to be stateful\n",
        "        #model.hidden = model.init_hidden()\n",
        "        \n",
        "        # Forward pass\n",
        "        y_pred = model(X_train_lstm)\n",
        "    \n",
        "        train_loss = loss_fn(y_pred, y_train_lstm)\n",
        "        train_losses.append(train_loss)\n",
        "        \n",
        "        with torch.no_grad():\n",
        "            y_test_pred = model(X_test_lstm)\n",
        "            test_loss = loss_fn(y_test_pred, y_test_lstm)\n",
        "        test_hist[t] = test_loss.item()\n",
        "        train_hist[t] = train_loss.item()\n",
        "    \n",
        "        if t % 50 == 0:\n",
        "            print(\"Epoch \", t, \"train MSE: \", train_loss.item(), \"test MSE: \", test_loss.item())\n",
        "\n",
        "        # Zero out gradient, else they will accumulate between epochs\n",
        "        optimiser.zero_grad()\n",
        "    \n",
        "        # Backward pass\n",
        "        train_loss.backward()\n",
        "        torch.nn.utils.clip_grad_norm_(model.parameters(), 100)\n",
        "        # Update parameters\n",
        "        optimiser.step()\n",
        "    plt.plot(train_losses)\n",
        "    plt.title(f'{region} loss curve')\n",
        "    plt.show()\n",
        "    print(\"prediction vs actual:\")\n",
        "    pprint.pprint(list(zip(y_test_pred.data, y_test_lstm)))\n",
        "    timespan = list(range(1, len(y_test_pred.data)))\n",
        "    extrapolation = extrapolate_r0(y_test_pred.data[-1], current_population=inputs[region]['cumulativeInfected'].values[-1], timespan=timespan)\n",
        "    prev_values = inputs[region]['cumulativeInfected']\n",
        "    series = np.hstack((prev_values,extrapolation.data.numpy()))\n",
        "    print(series)\n",
        "    plt.plot(series)\n",
        "    plt.title(f\"{region} w/ {len(timespan)}-day forecast: r0 = {y_test_pred.data[-1][0]}\")\n",
        "    plt.show()\n",
        "    return model\n"
      ],
      "execution_count": 0,
      "outputs": []
    },
    {
      "cell_type": "code",
      "metadata": {
        "id": "Ivwl4DSRYmkk",
        "colab_type": "code",
        "colab": {
          "base_uri": "https://localhost:8080/",
          "height": 1000
        },
        "outputId": "93b9fce6-d2b4-4b99-f7c1-48cebfdd357a"
      },
      "source": [
        "models = {}\n",
        "for region in USA:\n",
        "    models[region] = build_state_model(region)"
      ],
      "execution_count": 175,
      "outputs": [
        {
          "output_type": "stream",
          "text": [
            "starting Delaware\n",
            "29\n",
            "Epoch  0 train MSE:  0.6945884227752686 test MSE:  0.8072509765625\n",
            "Epoch  50 train MSE:  0.5174965858459473 test MSE:  0.621771514415741\n",
            "Epoch  100 train MSE:  0.29717615246772766 test MSE:  0.41604945063591003\n",
            "Epoch  150 train MSE:  0.11098417639732361 test MSE:  0.2341148853302002\n",
            "Epoch  200 train MSE:  0.02883969433605671 test MSE:  0.1447874754667282\n",
            "Epoch  250 train MSE:  0.021225811913609505 test MSE:  0.09720448404550552\n",
            "Epoch  300 train MSE:  0.015509597025811672 test MSE:  0.10503564029932022\n",
            "Epoch  350 train MSE:  0.015602079220116138 test MSE:  0.11594649404287338\n",
            "Epoch  400 train MSE:  0.01336932834237814 test MSE:  0.09074314683675766\n",
            "Epoch  450 train MSE:  0.010507872328162193 test MSE:  0.07231675833463669\n"
          ],
          "name": "stdout"
        },
        {
          "output_type": "display_data",
          "data": {
            "image/png": "[encoded data removed]",
            "text/plain": [
              "<Figure size 432x288 with 1 Axes>"
            ]
          },
          "metadata": {
            "tags": [],
            "needs_background": "light"
          }
        },
        {
          "output_type": "stream",
          "text": [
            "prediction vs actual:\n",
            "[(tensor([1.2852]), tensor([1.5600])),\n",
            " (tensor([1.2679]), tensor([1.5600])),\n",
            " (tensor([1.2749]), tensor([1.5500]))]\n",
            "[0.00000000e+00 5.00000000e+00 1.10000000e+01 2.00000000e+01\n",
            " 3.00000000e+01 4.30000000e+01 6.00000000e+01 8.10000000e+01\n",
            " 1.07000000e+02 1.40000000e+02 1.82000000e+02 2.35000000e+02\n",
            " 3.01000000e+02 3.86000000e+02 4.92000000e+02 6.26000000e+02\n",
            " 7.95000000e+02 1.00800000e+03 1.27700000e+03 1.61600000e+03\n",
            " 2.04400000e+03 2.58300000e+03 3.25700000e+03 4.08500000e+03\n",
            " 5.08300000e+03 6.26600000e+03 7.64700000e+03 9.23100000e+03\n",
            " 1.10210000e+04 1.30070000e+04 1.51710000e+04 1.74790000e+04\n",
            " 1.99100000e+04 2.23920000e+04 2.48780000e+04 2.73150000e+04\n",
            " 2.96710000e+04 3.19710000e+04 3.42450000e+04 3.65070000e+04\n",
            " 3.87640000e+04 4.10210000e+04 4.32790000e+04 4.55380000e+04\n",
            " 4.77990000e+04 5.00620000e+04 5.23250000e+04 5.45880000e+04\n",
            " 5.68510000e+04 5.91120000e+04 6.13710000e+04 6.36280000e+04\n",
            " 6.58820000e+04 6.81310000e+04 7.03750000e+04 7.26140000e+04\n",
            " 7.48460000e+04 9.54240443e+04 1.21659784e+05]\n"
          ],
          "name": "stdout"
        },
        {
          "output_type": "display_data",
          "data": {
            "image/png": "[encoded data removed]",
            "text/plain": [
              "<Figure size 432x288 with 1 Axes>"
            ]
          },
          "metadata": {
            "tags": [],
            "needs_background": "light"
          }
        },
        {
          "output_type": "stream",
          "text": [
            "starting Colorado\n",
            "29\n",
            "Epoch  0 train MSE:  0.2645373046398163 test MSE:  0.41140785813331604\n",
            "Epoch  50 train MSE:  0.14366821944713593 test MSE:  0.26479747891426086\n",
            "Epoch  100 train MSE:  0.09621715545654297 test MSE:  0.1762385368347168\n",
            "Epoch  150 train MSE:  0.0846317782998085 test MSE:  0.146959125995636\n",
            "Epoch  200 train MSE:  0.06981176137924194 test MSE:  0.1561269313097\n",
            "Epoch  250 train MSE:  0.04413725063204765 test MSE:  0.1748611181974411\n",
            "Epoch  300 train MSE:  0.021737288683652878 test MSE:  0.23354391753673553\n",
            "Epoch  350 train MSE:  0.013792683370411396 test MSE:  0.28872278332710266\n",
            "Epoch  400 train MSE:  0.014764553867280483 test MSE:  0.3382030725479126\n",
            "Epoch  450 train MSE:  0.014620554633438587 test MSE:  0.3484286069869995\n"
          ],
          "name": "stdout"
        },
        {
          "output_type": "display_data",
          "data": {
            "image/png": "[encoded data removed]",
            "text/plain": [
              "<Figure size 432x288 with 1 Axes>"
            ]
          },
          "metadata": {
            "tags": [],
            "needs_background": "light"
          }
        },
        {
          "output_type": "stream",
          "text": [
            "prediction vs actual:\n",
            "[(tensor([1.0967]), tensor([1.7200])),\n",
            " (tensor([1.1615]), tensor([1.7200])),\n",
            " (tensor([1.1133]), tensor([1.7200]))]\n",
            "[9.40000000e+01 1.29000000e+02 1.75000000e+02 2.35000000e+02\n",
            " 3.13000000e+02 4.15000000e+02 5.47000000e+02 7.18000000e+02\n",
            " 9.41000000e+02 1.23000000e+03 1.60600000e+03 2.09500000e+03\n",
            " 2.72900000e+03 3.55400000e+03 4.62600000e+03 6.01800000e+03\n",
            " 7.81900000e+03 1.01000000e+04 1.29330000e+04 1.63900000e+04\n",
            " 2.05330000e+04 2.54150000e+04 3.10570000e+04 3.74500000e+04\n",
            " 4.45600000e+04 5.22980000e+04 6.04590000e+04 6.90720000e+04\n",
            " 7.77040000e+04 8.61950000e+04 9.43820000e+04 1.02332000e+05\n",
            " 1.10170000e+05 1.17960000e+05 1.25740000e+05 1.33531000e+05\n",
            " 1.41340000e+05 1.49172000e+05 1.57028000e+05 1.64908000e+05\n",
            " 1.72812000e+05 1.80739000e+05 1.88687000e+05 1.96656000e+05\n",
            " 2.04645000e+05 2.12651000e+05 2.20674000e+05 2.28711000e+05\n",
            " 2.36763000e+05 2.44825000e+05 2.52897000e+05 2.60977000e+05\n",
            " 2.69063000e+05 2.77154000e+05 2.85248000e+05 2.93344000e+05\n",
            " 3.01440000e+05 3.09534000e+05 3.17625000e+05 3.53612583e+05\n",
            " 3.93677636e+05]\n"
          ],
          "name": "stdout"
        },
        {
          "output_type": "display_data",
          "data": {
            "image/png": "[encoded data removed]",
            "text/plain": [
              "<Figure size 432x288 with 1 Axes>"
            ]
          },
          "metadata": {
            "tags": [],
            "needs_background": "light"
          }
        },
        {
          "output_type": "stream",
          "text": [
            "starting Connecticut\n",
            "29\n",
            "Epoch  0 train MSE:  0.6512888669967651 test MSE:  0.8626305460929871\n",
            "Epoch  50 train MSE:  0.5686019659042358 test MSE:  0.7752874493598938\n",
            "Epoch  100 train MSE:  0.4800768792629242 test MSE:  0.6690489649772644\n",
            "Epoch  150 train MSE:  0.38532355427742004 test MSE:  0.565683126449585\n",
            "Epoch  200 train MSE:  0.306645005941391 test MSE:  0.46628427505493164\n",
            "Epoch  250 train MSE:  0.23017844557762146 test MSE:  0.365252822637558\n",
            "Epoch  300 train MSE:  0.16140250861644745 test MSE:  0.2642322778701782\n",
            "Epoch  350 train MSE:  0.11842275410890579 test MSE:  0.20332948863506317\n",
            "Epoch  400 train MSE:  0.10313799977302551 test MSE:  0.1585315614938736\n",
            "Epoch  450 train MSE:  0.09956277161836624 test MSE:  0.13681983947753906\n"
          ],
          "name": "stdout"
        },
        {
          "output_type": "error",
          "ename": "KeyboardInterrupt",
          "evalue": "ignored",
          "traceback": [
            "\u001b[0;31m---------------------------------------------------------------------------\u001b[0m",
            "\u001b[0;31mKeyboardInterrupt\u001b[0m                         Traceback (most recent call last)",
            "\u001b[0;32m<ipython-input-175-0692ee7742e6>\u001b[0m in \u001b[0;36m<module>\u001b[0;34m()\u001b[0m\n\u001b[1;32m      1\u001b[0m \u001b[0mmodels\u001b[0m \u001b[0;34m=\u001b[0m \u001b[0;34m{\u001b[0m\u001b[0;34m}\u001b[0m\u001b[0;34m\u001b[0m\u001b[0;34m\u001b[0m\u001b[0m\n\u001b[1;32m      2\u001b[0m \u001b[0;32mfor\u001b[0m \u001b[0mregion\u001b[0m \u001b[0;32min\u001b[0m \u001b[0mUSA\u001b[0m\u001b[0;34m:\u001b[0m\u001b[0;34m\u001b[0m\u001b[0;34m\u001b[0m\u001b[0m\n\u001b[0;32m----> 3\u001b[0;31m     \u001b[0mmodels\u001b[0m\u001b[0;34m[\u001b[0m\u001b[0mregion\u001b[0m\u001b[0;34m]\u001b[0m \u001b[0;34m=\u001b[0m \u001b[0mbuild_state_model\u001b[0m\u001b[0;34m(\u001b[0m\u001b[0mregion\u001b[0m\u001b[0;34m)\u001b[0m\u001b[0;34m\u001b[0m\u001b[0;34m\u001b[0m\u001b[0m\n\u001b[0m",
            "\u001b[0;32m<ipython-input-174-42ae8b273568>\u001b[0m in \u001b[0;36mbuild_state_model\u001b[0;34m(region)\u001b[0m\n\u001b[1;32m     77\u001b[0m \u001b[0;34m\u001b[0m\u001b[0m\n\u001b[1;32m     78\u001b[0m         \u001b[0;31m# Backward pass\u001b[0m\u001b[0;34m\u001b[0m\u001b[0;34m\u001b[0m\u001b[0;34m\u001b[0m\u001b[0m\n\u001b[0;32m---> 79\u001b[0;31m         \u001b[0mtrain_loss\u001b[0m\u001b[0;34m.\u001b[0m\u001b[0mbackward\u001b[0m\u001b[0;34m(\u001b[0m\u001b[0;34m)\u001b[0m\u001b[0;34m\u001b[0m\u001b[0;34m\u001b[0m\u001b[0m\n\u001b[0m\u001b[1;32m     80\u001b[0m         \u001b[0mtorch\u001b[0m\u001b[0;34m.\u001b[0m\u001b[0mnn\u001b[0m\u001b[0;34m.\u001b[0m\u001b[0mutils\u001b[0m\u001b[0;34m.\u001b[0m\u001b[0mclip_grad_norm_\u001b[0m\u001b[0;34m(\u001b[0m\u001b[0mmodel\u001b[0m\u001b[0;34m.\u001b[0m\u001b[0mparameters\u001b[0m\u001b[0;34m(\u001b[0m\u001b[0;34m)\u001b[0m\u001b[0;34m,\u001b[0m \u001b[0;36m100\u001b[0m\u001b[0;34m)\u001b[0m\u001b[0;34m\u001b[0m\u001b[0;34m\u001b[0m\u001b[0m\n\u001b[1;32m     81\u001b[0m         \u001b[0;31m# Update parameters\u001b[0m\u001b[0;34m\u001b[0m\u001b[0;34m\u001b[0m\u001b[0;34m\u001b[0m\u001b[0m\n",
            "\u001b[0;32m/usr/local/lib/python3.6/dist-packages/torch/tensor.py\u001b[0m in \u001b[0;36mbackward\u001b[0;34m(self, gradient, retain_graph, create_graph)\u001b[0m\n\u001b[1;32m    196\u001b[0m                 \u001b[0mproducts\u001b[0m\u001b[0;34m.\u001b[0m \u001b[0mDefaults\u001b[0m \u001b[0mto\u001b[0m\u001b[0;31m \u001b[0m\u001b[0;31m`\u001b[0m\u001b[0;31m`\u001b[0m\u001b[0;32mFalse\u001b[0m\u001b[0;31m`\u001b[0m\u001b[0;31m`\u001b[0m\u001b[0;34m.\u001b[0m\u001b[0;34m\u001b[0m\u001b[0;34m\u001b[0m\u001b[0m\n\u001b[1;32m    197\u001b[0m         \"\"\"\n\u001b[0;32m--> 198\u001b[0;31m         \u001b[0mtorch\u001b[0m\u001b[0;34m.\u001b[0m\u001b[0mautograd\u001b[0m\u001b[0;34m.\u001b[0m\u001b[0mbackward\u001b[0m\u001b[0;34m(\u001b[0m\u001b[0mself\u001b[0m\u001b[0;34m,\u001b[0m \u001b[0mgradient\u001b[0m\u001b[0;34m,\u001b[0m \u001b[0mretain_graph\u001b[0m\u001b[0;34m,\u001b[0m \u001b[0mcreate_graph\u001b[0m\u001b[0;34m)\u001b[0m\u001b[0;34m\u001b[0m\u001b[0;34m\u001b[0m\u001b[0m\n\u001b[0m\u001b[1;32m    199\u001b[0m \u001b[0;34m\u001b[0m\u001b[0m\n\u001b[1;32m    200\u001b[0m     \u001b[0;32mdef\u001b[0m \u001b[0mregister_hook\u001b[0m\u001b[0;34m(\u001b[0m\u001b[0mself\u001b[0m\u001b[0;34m,\u001b[0m \u001b[0mhook\u001b[0m\u001b[0;34m)\u001b[0m\u001b[0;34m:\u001b[0m\u001b[0;34m\u001b[0m\u001b[0;34m\u001b[0m\u001b[0m\n",
            "\u001b[0;32m/usr/local/lib/python3.6/dist-packages/torch/autograd/__init__.py\u001b[0m in \u001b[0;36mbackward\u001b[0;34m(tensors, grad_tensors, retain_graph, create_graph, grad_variables)\u001b[0m\n\u001b[1;32m     98\u001b[0m     Variable._execution_engine.run_backward(\n\u001b[1;32m     99\u001b[0m         \u001b[0mtensors\u001b[0m\u001b[0;34m,\u001b[0m \u001b[0mgrad_tensors\u001b[0m\u001b[0;34m,\u001b[0m \u001b[0mretain_graph\u001b[0m\u001b[0;34m,\u001b[0m \u001b[0mcreate_graph\u001b[0m\u001b[0;34m,\u001b[0m\u001b[0;34m\u001b[0m\u001b[0;34m\u001b[0m\u001b[0m\n\u001b[0;32m--> 100\u001b[0;31m         allow_unreachable=True)  # allow_unreachable flag\n\u001b[0m\u001b[1;32m    101\u001b[0m \u001b[0;34m\u001b[0m\u001b[0m\n\u001b[1;32m    102\u001b[0m \u001b[0;34m\u001b[0m\u001b[0m\n",
            "\u001b[0;31mKeyboardInterrupt\u001b[0m: "
          ]
        }
      ]
    },
    {
      "cell_type": "code",
      "metadata": {
        "id": "DhdcvpyaYn6S",
        "colab_type": "code",
        "colab": {
          "base_uri": "https://localhost:8080/",
          "height": 710
        },
        "outputId": "c0ff939b-a57e-40da-a14e-f9400552cc74"
      },
      "source": [
        "build_state_model('California')"
      ],
      "execution_count": 141,
      "outputs": [
        {
          "output_type": "stream",
          "text": [
            "starting California\n",
            "29\n",
            "Epoch  0 train MSE:  1.3100827932357788 test MSE:  0.5734129548072815\n",
            "Epoch  50 train MSE:  1.0145050287246704 test MSE:  0.4302370548248291\n",
            "Epoch  100 train MSE:  0.5849700570106506 test MSE:  0.2572646141052246\n",
            "Epoch  150 train MSE:  0.18481625616550446 test MSE:  0.06852581351995468\n",
            "Epoch  200 train MSE:  0.0629415512084961 test MSE:  0.014877255074679852\n",
            "Epoch  250 train MSE:  0.059719957411289215 test MSE:  0.04686730355024338\n",
            "Epoch  300 train MSE:  0.0543953999876976 test MSE:  0.02695322409272194\n",
            "Epoch  350 train MSE:  0.06263114511966705 test MSE:  0.025503814220428467\n",
            "Epoch  400 train MSE:  0.061205632984638214 test MSE:  0.032639820128679276\n",
            "Epoch  450 train MSE:  0.061479952186346054 test MSE:  0.01636568270623684\n"
          ],
          "name": "stdout"
        },
        {
          "output_type": "display_data",
          "data": {
            "image/png": "[encoded data removed]",
            "text/plain": [
              "<Figure size 432x288 with 1 Axes>"
            ]
          },
          "metadata": {
            "tags": [],
            "needs_background": "light"
          }
        },
        {
          "output_type": "stream",
          "text": [
            "prediction vs actual:\n",
            "[(tensor([1.2808]), tensor([1.3100])),\n",
            " (tensor([1.1784]), tensor([1.2800])),\n",
            " (tensor([1.2528]), tensor([1.2500])),\n",
            " (tensor([1.1755]), tensor([1.2200])),\n",
            " (tensor([1.0422]), tensor([1.1900])),\n",
            " (tensor([1.1824]), tensor([1.1800])),\n",
            " (tensor([1.0686]), tensor([1.1400]))]\n"
          ],
          "name": "stdout"
        },
        {
          "output_type": "execute_result",
          "data": {
            "text/plain": [
              "LSTM(\n",
              "  (lstm): LSTM(29, 5, num_layers=3, dropout=0.5)\n",
              "  (linear1): Linear(in_features=5, out_features=1, bias=True)\n",
              ")"
            ]
          },
          "metadata": {
            "tags": []
          },
          "execution_count": 141
        }
      ]
    },
    {
      "cell_type": "code",
      "metadata": {
        "id": "LhRP6jmJC4va",
        "colab_type": "code",
        "colab": {}
      },
      "source": [
        "inputs['Colorado'].tail(n=22)"
      ],
      "execution_count": 0,
      "outputs": []
    },
    {
      "cell_type": "code",
      "metadata": {
        "id": "xJtl7W2MK9Rc",
        "colab_type": "code",
        "outputId": "4e89d4d3-b59e-4d99-ada7-ac846a3defbd",
        "colab": {
          "base_uri": "https://localhost:8080/",
          "height": 1000
        }
      },
      "source": [
        "input_params = [\n",
        "        'driving_percent', 'retail_and_recreation_percent_change_from_baseline', \n",
        "        'grocery_and_pharmacy_percent_change_from_baseline', \n",
        "        'transit_stations_percent_change_from_baseline',\n",
        "        'workplaces_percent_change_from_baseline', \n",
        "        'residential_percent_change_from_baseline', \n",
        "        'lockdown_level', 'lat', 'long', \n",
        "        'hospitalBedsRequired', 'hospitalBedCapacity',\n",
        "        'ICUBedsInUse', 'ICUBedCapacity',\n",
        "        'poverty', 'age', 'income',\n",
        "        'healthcare', 'healthcareLow', 'healthcareHigh',\n",
        "        'obesity', 'smokes', 'smokesLow', 'smokesHigh',\n",
        "        'Density per square mile of land area',\n",
        "        'positive_test_rate',\n",
        "        'cumulativeDeaths', 'cumulativeInfected', \n",
        "        'cumulativePositiveTests', 'cumulativeNegativeTests'] + [f'state{i}' for i in range(len(USA))]\n",
        "\n",
        "inputs_USA = []\n",
        "for i, (region, region_df) in enumerate(inputs.items()):\n",
        "    for statenumbervec in range(len(USA)):\n",
        "        region_df[f\"state{statenumbervec}\"] = 0\n",
        "    region_df[f'state{i}'] = 1\n",
        "    inputs_USA.append(region_df)\n",
        "inputs_USA = pd.concat(inputs_USA, ignore_index=True)\n",
        "print(f\"all columns available: {inputs_USA.columns}\")\n",
        "print(f\"input params: {input_params}\")\n",
        "output_params = ['RtIndicator']\n",
        "print(f\"output params: {output_params}\")\n",
        "seq_len = 12\n",
        "X = inputs_USA[input_params].values.astype('float32')\n",
        "X = preprocessing.MinMaxScaler().fit(X).transform(X)\n",
        "Y = np.log(inputs_USA[output_params].values.astype('float32'))\n",
        "test_size = 20\n",
        "\n",
        "X_train, X_test = X[:-test_size], X[-test_size:]\n",
        "Y_train, Y_test = Y[:-test_size], Y[test_size:]\n",
        "\n",
        "X_train_lstm, y_train_lstm = sliding_windows(X_train, Y_train, seq_len)\n",
        "X_test_lstm, y_test_lstm = sliding_windows(X_test, Y_test, seq_len)\n",
        "\n",
        "hidden1 = 5\n",
        "print(len(input_params))\n",
        "model = LSTM(len(input_params), hidden_dim1 = hidden1, seq_len = seq_len, output_dim = len(output_params), num_layers=3)\n",
        "\n",
        "loss_fn = torch.nn.MSELoss(reduction='mean')\n",
        "learning_rate = 1.5e-3\n",
        "num_epochs = 10\n",
        "optimiser = torch.optim.Adam(model.parameters(), lr=learning_rate)\n",
        "\n",
        "#####################\n",
        "# Train model\n",
        "#####################\n",
        "\n",
        "train_hist = np.zeros(num_epochs)\n",
        "test_hist = np.zeros(num_epochs)\n",
        "train_losses = [] \n",
        "test_losses = []\n",
        "for t in range(num_epochs):\n",
        "    # Clear stored gradient\n",
        "\n",
        "    model.zero_grad()\n",
        "    \n",
        "    # Initialise hidden state\n",
        "    # Don't do this if you want your LSTM to be stateful\n",
        "    #model.hidden = model.init_hidden()\n",
        "    \n",
        "    # Forward pass\n",
        "    y_pred = model(X_train_lstm)\n",
        "\n",
        "    train_loss = loss_fn(y_pred, y_train_lstm)\n",
        "    train_losses.append(train_loss)\n",
        "    \n",
        "    with torch.no_grad():\n",
        "        y_test_pred = model(X_test_lstm)\n",
        "        test_loss = loss_fn(y_test_pred, y_test_lstm)\n",
        "    test_hist[t] = test_loss.item()\n",
        "    train_hist[t] = train_loss.item()\n",
        "\n",
        "    if t % 2 == 0:\n",
        "        print(\"Epoch \", t, \"train MSE: \", train_loss.item(), \"test MSE: \", test_loss.item())\n",
        "\n",
        "    # Zero out gradient, else they will accumulate between epochs\n",
        "    optimiser.zero_grad()\n",
        "\n",
        "    # Backward pass\n",
        "    train_loss.backward()\n",
        "    torch.nn.utils.clip_grad_norm_(model.parameters(), 100)\n",
        "    # Update parameters\n",
        "    optimiser.step()\n",
        "plt.plot(train_losses)\n",
        "plt.plot(test_losses)\n",
        "plt.show()\n",
        "print(\"prediction vs actual:\")\n",
        "pprint.pprint(list(zip(y_test_pred.data, y_test_lstm)))\n",
        "for i, input_param in enumerate(input_params):\n",
        "    print(f\"{input_param}: {X_test_lstm[-1, -1, i]}\")\n"
      ],
      "execution_count": 135,
      "outputs": [
        {
          "output_type": "stream",
          "text": [
            "all columns available: Index(['region', 'date', 'driving_percent',\n",
            "       'retail_and_recreation_percent_change_from_baseline',\n",
            "       'grocery_and_pharmacy_percent_change_from_baseline',\n",
            "       'parks_percent_change_from_baseline',\n",
            "       'transit_stations_percent_change_from_baseline',\n",
            "       'workplaces_percent_change_from_baseline',\n",
            "       'residential_percent_change_from_baseline', 'hospitalBedsRequired',\n",
            "       'hospitalBedCapacity', 'ICUBedsInUse', 'ICUBedCapacity',\n",
            "       'ventilatorsInUse', 'ventilatorCapacity', 'RtIndicator',\n",
            "       'RtIndicatorCI90', 'cumulativeDeaths', 'cumulativeInfected',\n",
            "       'cumulativePositiveTests', 'cumulativeNegativeTests', 'lat', 'long',\n",
            "       'lockdown_level', 'poverty', 'povertyMoe', 'age', 'ageMoe', 'income',\n",
            "       'incomeMoe', 'healthcare', 'healthcareLow', 'healthcareHigh', 'obesity',\n",
            "       'obesityLow', 'obesityHigh', 'smokes', 'smokesLow', 'smokesHigh',\n",
            "       'Density per square mile of land area', 'Rt_90_lower_bound',\n",
            "       'Rt_90_upper_bound', 'positive_test_rate', 'state0', 'state1', 'state2',\n",
            "       'state3', 'state4', 'state5', 'state6', 'state7', 'state8', 'state9',\n",
            "       'state10', 'state11', 'state12', 'state13', 'state14', 'state15',\n",
            "       'state16', 'state17', 'state18', 'state19', 'state20', 'state21',\n",
            "       'state22', 'state23', 'state24', 'state25', 'state26', 'state27',\n",
            "       'state28', 'state29', 'state30', 'state31', 'state32', 'state33',\n",
            "       'state34', 'state35', 'state36', 'state37', 'state38', 'state39',\n",
            "       'state40', 'state41', 'state42', 'state43', 'state44', 'state45',\n",
            "       'state46', 'state47', 'state48', 'state49', 'state50'],\n",
            "      dtype='object')\n",
            "input params: ['driving_percent', 'retail_and_recreation_percent_change_from_baseline', 'grocery_and_pharmacy_percent_change_from_baseline', 'transit_stations_percent_change_from_baseline', 'workplaces_percent_change_from_baseline', 'residential_percent_change_from_baseline', 'lockdown_level', 'lat', 'long', 'hospitalBedsRequired', 'hospitalBedCapacity', 'ICUBedsInUse', 'ICUBedCapacity', 'poverty', 'age', 'income', 'healthcare', 'healthcareLow', 'healthcareHigh', 'obesity', 'smokes', 'smokesLow', 'smokesHigh', 'Density per square mile of land area', 'positive_test_rate', 'cumulativeDeaths', 'cumulativeInfected', 'cumulativePositiveTests', 'cumulativeNegativeTests', 'state0', 'state1', 'state2', 'state3', 'state4', 'state5', 'state6', 'state7', 'state8', 'state9', 'state10', 'state11', 'state12', 'state13', 'state14', 'state15', 'state16', 'state17', 'state18', 'state19', 'state20', 'state21', 'state22', 'state23', 'state24', 'state25', 'state26', 'state27', 'state28', 'state29', 'state30', 'state31', 'state32', 'state33', 'state34', 'state35', 'state36', 'state37', 'state38', 'state39', 'state40', 'state41', 'state42', 'state43', 'state44', 'state45', 'state46', 'state47', 'state48', 'state49', 'state50']\n",
            "output params: ['RtIndicator']\n",
            "80\n",
            "Epoch  0 train MSE:  0.0789855495095253 test MSE:  0.021862464025616646\n",
            "Epoch  2 train MSE:  0.07688625156879425 test MSE:  0.02001103200018406\n",
            "Epoch  4 train MSE:  0.07478970289230347 test MSE:  0.018028808757662773\n",
            "Epoch  6 train MSE:  0.07272402942180634 test MSE:  0.016993027180433273\n",
            "Epoch  8 train MSE:  0.07084397971630096 test MSE:  0.015159646980464458\n"
          ],
          "name": "stdout"
        },
        {
          "output_type": "display_data",
          "data": {
            "image/png": "[encoded data removed]",
            "text/plain": [
              "<Figure size 432x288 with 1 Axes>"
            ]
          },
          "metadata": {
            "tags": [],
            "needs_background": "light"
          }
        },
        {
          "output_type": "stream",
          "text": [
            "prediction vs actual:\n",
            "[(tensor([0.4983]), tensor([0.4447])),\n",
            " (tensor([0.4969]), tensor([0.4187])),\n",
            " (tensor([0.4998]), tensor([0.3988])),\n",
            " (tensor([0.4906]), tensor([0.3853])),\n",
            " (tensor([0.4965]), tensor([0.3577])),\n",
            " (tensor([0.5029]), tensor([0.3436])),\n",
            " (tensor([0.5022]), tensor([0.3365]))]\n",
            "driving_percent: 0.2711464762687683\n",
            "retail_and_recreation_percent_change_from_baseline: 0.2626262307167053\n",
            "grocery_and_pharmacy_percent_change_from_baseline: 0.4363636374473572\n",
            "transit_stations_percent_change_from_baseline: 0.28318583965301514\n",
            "workplaces_percent_change_from_baseline: 0.2592592239379883\n",
            "residential_percent_change_from_baseline: 0.4444444179534912\n",
            "lockdown_level: 1.0\n",
            "lat: 0.43431082367897034\n",
            "long: 0.3941535949707031\n",
            "hospitalBedsRequired: 0.27413904666900635\n",
            "hospitalBedCapacity: 0.9999999403953552\n",
            "ICUBedsInUse: 0.20085731148719788\n",
            "ICUBedCapacity: 1.0\n",
            "poverty: 0.5853658318519592\n",
            "age: 0.40441179275512695\n",
            "income: 0.6489458084106445\n",
            "healthcare: 0.5024631023406982\n",
            "healthcareLow: 0.4974619150161743\n",
            "healthcareHigh: 0.5071770548820496\n",
            "obesity: 0.23287677764892578\n",
            "smokes: 0.18823528289794922\n",
            "smokesLow: 0.17901229858398438\n",
            "smokesHigh: 0.19662922620773315\n",
            "Density per square mile of land area: 0.024139298126101494\n",
            "positive_test_rate: 0.08432535082101822\n",
            "cumulativeDeaths: 0.13375897705554962\n",
            "cumulativeInfected: 0.22526521980762482\n",
            "cumulativePositiveTests: 0.1479472517967224\n",
            "cumulativeNegativeTests: 0.8931899070739746\n",
            "state0: 0.0\n",
            "state1: 0.0\n",
            "state2: 0.0\n",
            "state3: 0.0\n",
            "state4: 0.0\n",
            "state5: 0.0\n",
            "state6: 0.0\n",
            "state7: 0.0\n",
            "state8: 0.0\n",
            "state9: 0.0\n",
            "state10: 0.0\n",
            "state11: 0.0\n",
            "state12: 0.0\n",
            "state13: 0.0\n",
            "state14: 0.0\n",
            "state15: 0.0\n",
            "state16: 0.0\n",
            "state17: 0.0\n",
            "state18: 0.0\n",
            "state19: 0.0\n",
            "state20: 0.0\n",
            "state21: 0.0\n",
            "state22: 0.0\n",
            "state23: 0.0\n",
            "state24: 0.0\n",
            "state25: 0.0\n",
            "state26: 0.0\n",
            "state27: 0.0\n",
            "state28: 0.0\n",
            "state29: 0.0\n",
            "state30: 0.0\n",
            "state31: 0.0\n",
            "state32: 0.0\n",
            "state33: 0.0\n",
            "state34: 0.0\n",
            "state35: 0.0\n",
            "state36: 0.0\n",
            "state37: 0.0\n",
            "state38: 0.0\n",
            "state39: 0.0\n",
            "state40: 0.0\n",
            "state41: 0.0\n",
            "state42: 0.0\n",
            "state43: 0.0\n",
            "state44: 0.0\n",
            "state45: 0.0\n",
            "state46: 0.0\n",
            "state47: 0.0\n",
            "state48: 0.0\n",
            "state49: 0.0\n",
            "state50: 1.0\n"
          ],
          "name": "stdout"
        }
      ]
    },
    {
      "cell_type": "code",
      "metadata": {
        "id": "ynhPaMsvw8M-",
        "colab_type": "code",
        "outputId": "8a3a1f1f-0372-46da-dda4-622c11d52a28",
        "colab": {
          "base_uri": "https://localhost:8080/",
          "height": 323
        }
      },
      "source": [
        "{param: X_lstm[-1][-1][i] for i, param in enumerate(params)}"
      ],
      "execution_count": 0,
      "outputs": [
        {
          "output_type": "execute_result",
          "data": {
            "text/plain": [
              "{'Density per square mile of land area': tensor(0.),\n",
              " 'age': tensor(0.),\n",
              " 'driving_percent': tensor(-0.0139),\n",
              " 'grocery_and_pharmacy_percent_change_from_baseline': tensor(-0.2063),\n",
              " 'healthcare': tensor(0.),\n",
              " 'healthcareHigh': tensor(0.),\n",
              " 'healthcareLow': tensor(0.),\n",
              " 'income': tensor(0.),\n",
              " 'lockdown_level': tensor(0.6364),\n",
              " 'obesity': tensor(0.),\n",
              " 'poverty': tensor(0.),\n",
              " 'residential_percent_change_from_baseline': tensor(0.0215),\n",
              " 'retail_and_recreation_percent_change_from_baseline': tensor(-0.4084),\n",
              " 'smokes': tensor(0.),\n",
              " 'smokesHigh': tensor(0.),\n",
              " 'smokesLow': tensor(0.),\n",
              " 'transit_stations_percent_change_from_baseline': tensor(-0.4709),\n",
              " 'workplaces_percent_change_from_baseline': tensor(-0.6537)}"
            ]
          },
          "metadata": {
            "tags": []
          },
          "execution_count": 226
        }
      ]
    },
    {
      "cell_type": "code",
      "metadata": {
        "id": "nfU3vETo2L-3",
        "colab_type": "code",
        "outputId": "f5c9037f-8b0a-4ca7-b272-a7f4360c8fda",
        "colab": {
          "base_uri": "https://localhost:8080/",
          "height": 1000
        }
      },
      "source": [
        "#import gc; gc.collect()\n",
        "X_lstm[-1]"
      ],
      "execution_count": 0,
      "outputs": [
        {
          "output_type": "execute_result",
          "data": {
            "text/plain": [
              "tensor([[0.0855, 0.2353, 0.2500, 0.0921, 0.0833, 0.8182, 1.0000, 0.0000, 0.0000,\n",
              "         0.0000, 0.0000, 0.0000, 0.0000, 0.0000, 0.0000, 0.0000, 0.0000, 0.0000],\n",
              "        [0.0983, 0.2353, 0.2778, 0.0921, 0.0694, 0.8182, 1.0000, 0.0000, 0.0000,\n",
              "         0.0000, 0.0000, 0.0000, 0.0000, 0.0000, 0.0000, 0.0000, 0.0000, 0.0000],\n",
              "        [0.1207, 0.2706, 0.3611, 0.1184, 0.0694, 0.8182, 1.0000, 0.0000, 0.0000,\n",
              "         0.0000, 0.0000, 0.0000, 0.0000, 0.0000, 0.0000, 0.0000, 0.0000, 0.0000],\n",
              "        [0.1187, 0.2471, 0.3333, 0.0921, 0.0556, 0.8485, 1.0000, 0.0000, 0.0000,\n",
              "         0.0000, 0.0000, 0.0000, 0.0000, 0.0000, 0.0000, 0.0000, 0.0000, 0.0000],\n",
              "        [0.1503, 0.2118, 0.3056, 0.0789, 0.0556, 0.9394, 1.0000, 0.0000, 0.0000,\n",
              "         0.0000, 0.0000, 0.0000, 0.0000, 0.0000, 0.0000, 0.0000, 0.0000, 0.0000],\n",
              "        [0.1308, 0.2000, 0.3194, 0.1447, 0.2639, 0.5758, 1.0000, 0.0000, 0.0000,\n",
              "         0.0000, 0.0000, 0.0000, 0.0000, 0.0000, 0.0000, 0.0000, 0.0000, 0.0000],\n",
              "        [0.0431, 0.1882, 0.2222, 0.1053, 0.2639, 0.4848, 1.0000, 0.0000, 0.0000,\n",
              "         0.0000, 0.0000, 0.0000, 0.0000, 0.0000, 0.0000, 0.0000, 0.0000, 0.0000],\n",
              "        [0.1347, 0.2588, 0.3194, 0.0921, 0.0556, 0.8182, 1.0000, 0.0000, 0.0000,\n",
              "         0.0000, 0.0000, 0.0000, 0.0000, 0.0000, 0.0000, 0.0000, 0.0000, 0.0000],\n",
              "        [0.1401, 0.1765, 0.4583, 0.0921, 0.0417, 0.8182, 1.0000, 0.0000, 0.0000,\n",
              "         0.0000, 0.0000, 0.0000, 0.0000, 0.0000, 0.0000, 0.0000, 0.0000, 0.0000],\n",
              "        [0.1214, 0.1529, 0.4444, 0.0789, 0.0417, 0.8485, 1.0000, 0.0000, 0.0000,\n",
              "         0.0000, 0.0000, 0.0000, 0.0000, 0.0000, 0.0000, 0.0000, 0.0000, 0.0000],\n",
              "        [0.1063, 0.1176, 0.4028, 0.0395, 0.0139, 0.9091, 1.0000, 0.0000, 0.0000,\n",
              "         0.0000, 0.0000, 0.0000, 0.0000, 0.0000, 0.0000, 0.0000, 0.0000, 0.0000],\n",
              "        [0.1694, 0.1176, 0.4306, 0.0526, 0.0000, 1.0000, 1.0000, 0.0000, 0.0000,\n",
              "         0.0000, 0.0000, 0.0000, 0.0000, 0.0000, 0.0000, 0.0000, 0.0000, 0.0000],\n",
              "        [0.1641, 0.1529, 0.5556, 0.1447, 0.2500, 0.5758, 1.0000, 0.0000, 0.0000,\n",
              "         0.0000, 0.0000, 0.0000, 0.0000, 0.0000, 0.0000, 0.0000, 0.0000, 0.0000],\n",
              "        [0.0038, 0.0000, 0.0000, 0.1053, 0.2083, 0.4848, 1.0000, 0.0000, 0.0000,\n",
              "         0.0000, 0.0000, 0.0000, 0.0000, 0.0000, 0.0000, 0.0000, 0.0000, 0.0000],\n",
              "        [0.0751, 0.0588, 0.0694, 0.0000, 0.0278, 0.9091, 1.0000, 0.0000, 0.0000,\n",
              "         0.0000, 0.0000, 0.0000, 0.0000, 0.0000, 0.0000, 0.0000, 0.0000, 0.0000],\n",
              "        [0.1729, 0.1765, 0.3472, 0.1053, 0.0694, 0.8182, 1.0000, 0.0000, 0.0000,\n",
              "         0.0000, 0.0000, 0.0000, 0.0000, 0.0000, 0.0000, 0.0000, 0.0000, 0.0000],\n",
              "        [0.1831, 0.1882, 0.3333, 0.0921, 0.0694, 0.8485, 1.0000, 0.0000, 0.0000,\n",
              "         0.0000, 0.0000, 0.0000, 0.0000, 0.0000, 0.0000, 0.0000, 0.0000, 0.0000],\n",
              "        [0.1869, 0.1647, 0.3333, 0.0789, 0.0694, 0.8485, 1.0000, 0.0000, 0.0000,\n",
              "         0.0000, 0.0000, 0.0000, 0.0000, 0.0000, 0.0000, 0.0000, 0.0000, 0.0000],\n",
              "        [0.2409, 0.1529, 0.3056, 0.1053, 0.0833, 0.9091, 1.0000, 0.0000, 0.0000,\n",
              "         0.0000, 0.0000, 0.0000, 0.0000, 0.0000, 0.0000, 0.0000, 0.0000, 0.0000],\n",
              "        [0.1788, 0.1176, 0.2639, 0.1184, 0.2917, 0.5758, 1.0000, 0.0000, 0.0000,\n",
              "         0.0000, 0.0000, 0.0000, 0.0000, 0.0000, 0.0000, 0.0000, 0.0000, 0.0000],\n",
              "        [0.1453, 0.1529, 0.2500, 0.1579, 0.3194, 0.4545, 1.0000, 0.0000, 0.0000,\n",
              "         0.0000, 0.0000, 0.0000, 0.0000, 0.0000, 0.0000, 0.0000, 0.0000, 0.0000],\n",
              "        [0.2015, 0.1882, 0.2917, 0.1053, 0.0972, 0.7879, 1.0000, 0.0000, 0.0000,\n",
              "         0.0000, 0.0000, 0.0000, 0.0000, 0.0000, 0.0000, 0.0000, 0.0000, 0.0000],\n",
              "        [0.1626, 0.1412, 0.2361, 0.0658, 0.0833, 0.8485, 1.0000, 0.0000, 0.0000,\n",
              "         0.0000, 0.0000, 0.0000, 0.0000, 0.0000, 0.0000, 0.0000, 0.0000, 0.0000],\n",
              "        [0.2174, 0.1765, 0.3472, 0.1053, 0.0972, 0.8182, 1.0000, 0.0000, 0.0000,\n",
              "         0.0000, 0.0000, 0.0000, 0.0000, 0.0000, 0.0000, 0.0000, 0.0000, 0.0000],\n",
              "        [0.2162, 0.1765, 0.3333, 0.0921, 0.0972, 0.8182, 1.0000, 0.0000, 0.0000,\n",
              "         0.0000, 0.0000, 0.0000, 0.0000, 0.0000, 0.0000, 0.0000, 0.0000, 0.0000],\n",
              "        [0.2634, 0.1412, 0.2639, 0.0789, 0.0972, 0.9091, 1.0000, 0.0000, 0.0000,\n",
              "         0.0000, 0.0000, 0.0000, 0.0000, 0.0000, 0.0000, 0.0000, 0.0000, 0.0000],\n",
              "        [0.3351, 0.2118, 0.4028, 0.2368, 0.3472, 0.4545, 1.0000, 0.0000, 0.0000,\n",
              "         0.0000, 0.0000, 0.0000, 0.0000, 0.0000, 0.0000, 0.0000, 0.0000, 0.0000],\n",
              "        [0.0932, 0.1059, 0.1528, 0.0789, 0.3056, 0.4848, 1.0000, 0.0000, 0.0000,\n",
              "         0.0000, 0.0000, 0.0000, 0.0000, 0.0000, 0.0000, 0.0000, 0.0000, 0.0000],\n",
              "        [0.2025, 0.1882, 0.2917, 0.1053, 0.1111, 0.7879, 1.0000, 0.0000, 0.0000,\n",
              "         0.0000, 0.0000, 0.0000, 0.0000, 0.0000, 0.0000, 0.0000, 0.0000, 0.0000],\n",
              "        [0.2903, 0.2471, 0.4028, 0.1579, 0.1250, 0.5758, 1.0000, 0.0000, 0.0000,\n",
              "         0.0000, 0.0000, 0.0000, 0.0000, 0.0000, 0.0000, 0.0000, 0.0000, 0.0000]])"
            ]
          },
          "metadata": {
            "tags": []
          },
          "execution_count": 209
        }
      ]
    },
    {
      "cell_type": "code",
      "metadata": {
        "id": "tnUi4wUMGOLH",
        "colab_type": "code",
        "outputId": "91044e28-6c1d-4c9c-97c3-272e3d54c050",
        "colab": {
          "base_uri": "https://localhost:8080/",
          "height": 323
        }
      },
      "source": [
        "params"
      ],
      "execution_count": 0,
      "outputs": [
        {
          "output_type": "execute_result",
          "data": {
            "text/plain": [
              "['driving_percent',\n",
              " 'retail_and_recreation_percent_change_from_baseline',\n",
              " 'grocery_and_pharmacy_percent_change_from_baseline',\n",
              " 'transit_stations_percent_change_from_baseline',\n",
              " 'workplaces_percent_change_from_baseline',\n",
              " 'residential_percent_change_from_baseline',\n",
              " 'lockdown_level',\n",
              " 'poverty',\n",
              " 'age',\n",
              " 'income',\n",
              " 'healthcare',\n",
              " 'healthcareLow',\n",
              " 'healthcareHigh',\n",
              " 'obesity',\n",
              " 'smokes',\n",
              " 'smokesLow',\n",
              " 'smokesHigh',\n",
              " 'Density per square mile of land area']"
            ]
          },
          "metadata": {
            "tags": []
          },
          "execution_count": 227
        }
      ]
    },
    {
      "cell_type": "code",
      "metadata": {
        "id": "qxdZjmzw_5ng",
        "colab_type": "code",
        "outputId": "dea587c8-82d1-4a33-e15d-83fb480aa572",
        "colab": {
          "base_uri": "https://localhost:8080/",
          "height": 333
        }
      },
      "source": [
        "plt.hist([inputs[region]['income'][0] for region in inputs])"
      ],
      "execution_count": 0,
      "outputs": [
        {
          "output_type": "execute_result",
          "data": {
            "text/plain": [
              "(array([ 5.,  5., 10.,  9.,  3.,  5.,  5.,  2.,  3.,  4.]),\n",
              " array([39680. , 43109.1, 46538.2, 49967.3, 53396.4, 56825.5, 60254.6,\n",
              "        63683.7, 67112.8, 70541.9, 73971. ]),\n",
              " <a list of 10 Patch objects>)"
            ]
          },
          "metadata": {
            "tags": []
          },
          "execution_count": 223
        },
        {
          "output_type": "display_data",
          "data": {
            "image/png": "[encoded data removed]",
            "text/plain": [
              "<Figure size 432x288 with 1 Axes>"
            ]
          },
          "metadata": {
            "tags": [],
            "needs_background": "light"
          }
        }
      ]
    },
    {
      "cell_type": "code",
      "metadata": {
        "id": "ZOz6i8WBquzj",
        "colab_type": "code",
        "colab": {}
      },
      "source": [
        "def extrapolate_r0(r0, current_population, timespan=[0,1,2,3,4,5,6]):\n",
        "    infected = np.power(r0, timespan) * current_population\n",
        "    #plt.plot(infected)\n",
        "    return infected\n",
        "#extrapolate_r0(y_pred[-1][0].detach().numpy(), 100)"
      ],
      "execution_count": 0,
      "outputs": []
    },
    {
      "cell_type": "code",
      "metadata": {
        "id": "1lM7uD1Wf1JD",
        "colab_type": "code",
        "outputId": "67be19d3-79df-4523-d275-da0a306258c1",
        "colab": {
          "base_uri": "https://localhost:8080/",
          "height": 1000
        }
      },
      "source": [
        "list(zip(inputs['Michigan']['RtIndicator'], y_pred))"
      ],
      "execution_count": 0,
      "outputs": [
        {
          "output_type": "execute_result",
          "data": {
            "text/plain": [
              "[(1.5, tensor(1.4215, grad_fn=<SelectBackward>)),\n",
              " (1.5, tensor(1.4188, grad_fn=<SelectBackward>)),\n",
              " (1.5, tensor(1.4345, grad_fn=<SelectBackward>)),\n",
              " (1.5, tensor(1.6186, grad_fn=<SelectBackward>)),\n",
              " (1.5, tensor(1.4126, grad_fn=<SelectBackward>)),\n",
              " (1.5, tensor(1.3417, grad_fn=<SelectBackward>)),\n",
              " (1.5, tensor(1.5443, grad_fn=<SelectBackward>)),\n",
              " (1.5, tensor(1.4663, grad_fn=<SelectBackward>)),\n",
              " (1.5, tensor(1.5986, grad_fn=<SelectBackward>)),\n",
              " (1.34, tensor(1.7879, grad_fn=<SelectBackward>)),\n",
              " (3.6, tensor(3.3485, grad_fn=<SelectBackward>)),\n",
              " (3.38, tensor(3.3086, grad_fn=<SelectBackward>)),\n",
              " (2.29, tensor(2.3098, grad_fn=<SelectBackward>)),\n",
              " (2.15, tensor(2.2105, grad_fn=<SelectBackward>)),\n",
              " (2.04, tensor(2.2323, grad_fn=<SelectBackward>)),\n",
              " (2.12, tensor(2.2623, grad_fn=<SelectBackward>)),\n",
              " (2.36, tensor(2.2564, grad_fn=<SelectBackward>)),\n",
              " (2.32, tensor(2.2779, grad_fn=<SelectBackward>)),\n",
              " (2.36, tensor(2.3256, grad_fn=<SelectBackward>)),\n",
              " (2.32, tensor(2.2340, grad_fn=<SelectBackward>)),\n",
              " (2.34, tensor(2.1449, grad_fn=<SelectBackward>)),\n",
              " (2.29, tensor(2.4790, grad_fn=<SelectBackward>)),\n",
              " (2.23, tensor(2.0781, grad_fn=<SelectBackward>)),\n",
              " (2.19, tensor(1.9413, grad_fn=<SelectBackward>)),\n",
              " (2.08, tensor(1.7437, grad_fn=<SelectBackward>)),\n",
              " (2.0, tensor(1.6642, grad_fn=<SelectBackward>)),\n",
              " (1.92, tensor(1.6376, grad_fn=<SelectBackward>)),\n",
              " (1.85, tensor(1.5336, grad_fn=<SelectBackward>)),\n",
              " (1.78, tensor(1.7456, grad_fn=<SelectBackward>)),\n",
              " (1.71, tensor(1.8652, grad_fn=<SelectBackward>)),\n",
              " (1.64, tensor(1.6859, grad_fn=<SelectBackward>)),\n",
              " (1.58, tensor(1.5157, grad_fn=<SelectBackward>)),\n",
              " (1.51, tensor(1.5539, grad_fn=<SelectBackward>)),\n",
              " (1.46, tensor(1.4197, grad_fn=<SelectBackward>)),\n",
              " (1.4, tensor(1.4626, grad_fn=<SelectBackward>)),\n",
              " (1.34, tensor(1.4459, grad_fn=<SelectBackward>)),\n",
              " (1.3, tensor(1.5895, grad_fn=<SelectBackward>)),\n",
              " (1.24, tensor(1.1929, grad_fn=<SelectBackward>)),\n",
              " (1.2, tensor(1.0196, grad_fn=<SelectBackward>)),\n",
              " (1.14, tensor(1.4075, grad_fn=<SelectBackward>)),\n",
              " (1.1, tensor(1.2843, grad_fn=<SelectBackward>)),\n",
              " (1.1, tensor(1.1351, grad_fn=<SelectBackward>)),\n",
              " (1.07, tensor(1.3417, grad_fn=<SelectBackward>)),\n",
              " (1.04, tensor(1.3390, grad_fn=<SelectBackward>)),\n",
              " (1.02, tensor(1.1595, grad_fn=<SelectBackward>)),\n",
              " (1.02, tensor(1.0499, grad_fn=<SelectBackward>)),\n",
              " (1.03, tensor(1.2695, grad_fn=<SelectBackward>)),\n",
              " (1.0, tensor(1.0262, grad_fn=<SelectBackward>)),\n",
              " (0.99, tensor(1.0082, grad_fn=<SelectBackward>)),\n",
              " (0.98, tensor(1.1389, grad_fn=<SelectBackward>)),\n",
              " (0.98, tensor(1.1179, grad_fn=<SelectBackward>)),\n",
              " (0.99, tensor(0.9265, grad_fn=<SelectBackward>)),\n",
              " (0.99, tensor(0.8352, grad_fn=<SelectBackward>)),\n",
              " (1.0, tensor(1.1301, grad_fn=<SelectBackward>)),\n",
              " (1.0, tensor(1.0028, grad_fn=<SelectBackward>)),\n",
              " (1.0, tensor(1.0145, grad_fn=<SelectBackward>)),\n",
              " (0.99, tensor(0.7448, grad_fn=<SelectBackward>)),\n",
              " (0.98, tensor(0.9515, grad_fn=<SelectBackward>)),\n",
              " (0.97, tensor(0.7801, grad_fn=<SelectBackward>))]"
            ]
          },
          "metadata": {
            "tags": []
          },
          "execution_count": 148
        }
      ]
    },
    {
      "cell_type": "code",
      "metadata": {
        "id": "Gw4XHmZCX0Qd",
        "colab_type": "code",
        "colab": {}
      },
      "source": [
        ""
      ],
      "execution_count": 0,
      "outputs": []
    }
  ]
}