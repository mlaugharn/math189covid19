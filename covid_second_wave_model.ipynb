{
  "nbformat": 4,
  "nbformat_minor": 0,
  "metadata": {
    "colab": {
      "name": "covid second wave model.ipynb",
      "provenance": [],
      "collapsed_sections": [],
      "machine_shape": "hm",
      "authorship_tag": "ABX9TyO2JIeq5lFuWHANuBqmwTah",
      "include_colab_link": true
    },
    "kernelspec": {
      "name": "python3",
      "display_name": "Python 3"
    }
  },
  "cells": [
    {
      "cell_type": "markdown",
      "metadata": {
        "id": "view-in-github",
        "colab_type": "text"
      },
      "source": [
        "<a href=\"https://colab.research.google.com/github/mlaugharn/math189covid19/blob/master/covid_second_wave_model.ipynb\" target=\"_parent\"><img src=\"https://colab.research.google.com/assets/colab-badge.svg\" alt=\"Open In Colab\"/></a>"
      ]
    },
    {
      "cell_type": "code",
      "metadata": {
        "id": "QyETqpE0Eg-y",
        "colab_type": "code",
        "colab": {
          "base_uri": "https://localhost:8080/",
          "height": 35
        },
        "outputId": "8f910aa0-ea0c-44fa-926a-96f5489096ed"
      },
      "source": [
        "# data sources\n",
        "# apple maps movement trends\n",
        "# google maps movement trends\n",
        "# global policies dataset\n",
        "# all per state\n",
        "import pandas as pd\n",
        "import numpy as np\n",
        "\n",
        "from tqdm import tqdm_notebook as tqdm\n",
        "\n",
        "import torch\n",
        "import torch.nn as nn\n",
        "import torch.nn.functional as F\n",
        "import torch.optim as optim\n",
        "from sklearn import preprocessing\n",
        "from functools import reduce\n",
        "from sklearn.linear_model import LinearRegression\n",
        "from sklearn.compose import ColumnTransformer\n",
        "from sklearn.linear_model import SGDRegressor\n",
        "from sklearn import preprocessing\n",
        "import pprint\n",
        "import numpy as np\n",
        "from scipy import stats\n",
        "import matplotlib.pyplot as plt\n",
        "%matplotlib inline\n",
        "\n",
        "torch.manual_seed(1)"
      ],
      "execution_count": 1,
      "outputs": [
        {
          "output_type": "execute_result",
          "data": {
            "text/plain": [
              "<torch._C.Generator at 0x7ff87ad514b0>"
            ]
          },
          "metadata": {
            "tags": []
          },
          "execution_count": 1
        }
      ]
    },
    {
      "cell_type": "code",
      "metadata": {
        "id": "QUO6f43z1qG4",
        "colab_type": "code",
        "outputId": "11851817-e03b-4c80-d62b-863ff4cbc75f",
        "colab": {
          "base_uri": "https://localhost:8080/",
          "height": 1000
        }
      },
      "source": [
        "USA = {'Mississippi', 'Virginia', 'South Carolina', 'Massachusetts', 'New Jersey', 'Arkansas', 'Tennessee', 'Hawaii', 'South Dakota', 'Alaska', 'North Dakota', 'Kansas', 'Utah', 'Texas', 'Louisiana', 'District of Columbia', 'Wyoming', 'Oklahoma', 'Pennsylvania', 'Kentucky', 'Connecticut', 'New York', 'Montana', 'Vermont', 'West Virginia', 'Maine', 'Maryland', 'Missouri', 'New Mexico', 'Ohio', 'Illinois', 'Minnesota', 'New Hampshire', 'Oregon', 'Washington', 'Delaware', 'Michigan', 'California', 'Idaho', 'Georgia', 'Nebraska', 'Arizona', 'Florida', 'Alabama', 'North Carolina', 'Colorado', 'Indiana', 'Iowa', 'Wisconsin', 'Nevada', 'Rhode Island'}\n",
        "def get_apple_data(date = None):\n",
        "    # focus on driving data\n",
        "    if date == None: \n",
        "        output = {}\n",
        "        apple_covid_df = pd.read_csv(\"https://covid19-static.cdn-apple.com/covid19-mobility-data/2007HotfixDev48/v2/en-us/applemobilitytrends-2020-05-04.csv\")\n",
        "        apple_covid_df['region'] = apple_covid_df['region'].replace({'Washington DC': 'District of Columbia'})\n",
        "        # filter to US regions\n",
        "        #apple_covid_df = apple_covid_df.iloc[apple_covid_df.index[apple_covid_df['transportation_type'] == 'driving']].reset_index()\n",
        "        #print(apple_covid_df.index[apple_covid_df['region'].isin(USA)])\n",
        "        apple_covid_df = apple_covid_df.iloc[apple_covid_df.index[apple_covid_df['region'].isin(USA)]]\n",
        "        #apple_covid_df = apple_covid_df.drop(columns='geo_type')\n",
        "        # filter to only driving data\n",
        "        # dataset currently has 1 date as 1 column\n",
        "        # now need to make 1 date = 1 row\n",
        "        apple_covid_df = apple_covid_df.melt(id_vars=['geo_type', 'region', 'alternative_name', 'transportation_type'], var_name='date', value_name='driving_percent')\n",
        "        apple_covid_df['date'] = pd.to_datetime(apple_covid_df['date'], errors='coerce')\n",
        "        apple_covid_df = apple_covid_df.iloc[apple_covid_df.index[apple_covid_df['transportation_type'] == 'driving']]\n",
        "        apple_covid_df['driving_percent'] = (apple_covid_df['driving_percent'].astype(float) - 100) * (1/100.)\n",
        "        for region, region_df in apple_covid_df.groupby('region'):\n",
        "            output[region] = region_df\n",
        "        print(output.keys())\n",
        "        assert len(output) == 51, \"Not 51 regions in Apple data\"\n",
        "        return output\n",
        "    else: assert False, \"date specific data not implemented yet\"\n",
        "\n",
        "def get_google_data(date = None):\n",
        "    if date == None: \n",
        "        google_covid_df = pd.read_csv('https://www.gstatic.com/covid19/mobility/Global_Mobility_Report.csv?cachebust=a88b56a24e1a1e25', dtype={'sub_region_2': str}, parse_dates=['date'], infer_datetime_format=True)\n",
        "        states_google_covid_df = google_covid_df.iloc[google_covid_df.index[(google_covid_df['country_region_code'] == 'US') & (google_covid_df.sub_region_1.notnull()) & (google_covid_df.sub_region_2.isnull())]]\n",
        "        cols_to_change = [\"retail_and_recreation_percent_change_from_baseline\",\n",
        "                          \"grocery_and_pharmacy_percent_change_from_baseline\",\n",
        "                          \"parks_percent_change_from_baseline\",\n",
        "                          \"transit_stations_percent_change_from_baseline\",\n",
        "                          \"workplaces_percent_change_from_baseline\",\n",
        "                          \"residential_percent_change_from_baseline\"]\n",
        "        for col_to_change in cols_to_change:\n",
        "            states_google_covid_df[col_to_change] = states_google_covid_df[col_to_change].astype(float) * (1/100.)\n",
        "        output = {}\n",
        "        for region, region_df in states_google_covid_df.groupby('sub_region_1'):\n",
        "            output[region] = region_df\n",
        "\n",
        "        assert len(output) == 51, \"Not 51 regions in Google data\"\n",
        "        return output\n",
        "    else: assert False, \"date specific data not implemented yet\"\n",
        "\n",
        "def get_covid_act_now_data(date = None):\n",
        "    if date == None: \n",
        "        act_now_df = pd.read_csv(\"https://data.covidactnow.org/latest/us/states.OBSERVED_INTERVENTION.timeseries.csv\", parse_dates=['date', 'lastUpdatedDate'], infer_datetime_format=True)\n",
        "        act_now_df['RtIndicator'] = act_now_df['RtIndicator'].fillna(method='bfill')\n",
        "        act_now_df['RtIndicatorCI90'] = act_now_df['RtIndicatorCI90'].fillna(method='bfill')\n",
        "        output = {}\n",
        "        for region, region_df in act_now_df.groupby('stateName'): # split into state dfs\n",
        "            non_future_data = region_df[region_df['date'] <= pd.to_datetime('now')] # remove rows that speculate about future hospital requirements etc.\n",
        "            output[region] = non_future_data\n",
        "        assert len(output) == 51, \"Not 51 regions in Covid Act Now data\" # states + dc\n",
        "        return output\n",
        "\n",
        "def get_states_policies_data(date = None):\n",
        "    '''Here's the methodology:\n",
        "\n",
        "    0. No or few containment measures in place.\n",
        "\n",
        "    1. Ban on public gatherings, cancellation of major events and conferences. It’s not always easy to know when a country goes from step 0 to step 1. I’ve used public announcements by the government and looked at major sporting and cultural events in the country and when they became cancelled.\n",
        "\n",
        "    2. Schools and universities closed. As from the first day of closure, not when the announcement is made. Dates largely match those available from Unesco at the following web address: https://en.unesco.org/themes/education-emergencies/coronavirus-school-closures\n",
        "\n",
        "    3. Non-essential shops, restaurants and bars closed. As from the first day of closure, not when the announcement is made.\n",
        "\n",
        "    4. Night curfew/Partial lockdown in place. Applied for part of the day (usually at night) or for broad population categories (eg, people aged over 60).\n",
        "\n",
        "    5. All-day lockdown. Government requires citizens to shelter in place all day long. Citizens are allowed to come out to buy essential items.\n",
        "\n",
        "    6. Harsh lockdown. Citizens are not allowed to come out of their home, even to buy essential items.\n",
        "    '''\n",
        "    if date == None:\n",
        "        policies_df = pd.read_csv(\"https://raw.githubusercontent.com/OlivierLej/Coronavirus_CounterMeasures/master/dataset.csv\")\n",
        "        print(policies_df.head())\n",
        "        us_policies_df = policies_df.iloc[policies_df.index[policies_df['country_name'] == 'United States']]\n",
        "        us_policies_df.head()\n",
        "        outputs = {}\n",
        "        us_state_abbrev = {\n",
        "            'AL': 'Alabama',\n",
        "            'AK': 'Alaska',\n",
        "            'AZ': 'Arizona',\n",
        "            'AR': 'Arkansas',\n",
        "            'CA': 'California',\n",
        "            'CO': 'Colorado',\n",
        "            'CT': 'Connecticut',\n",
        "            'DC': 'District of Columbia',\n",
        "            'DE': 'Delaware',\n",
        "            'FL': 'Florida',\n",
        "            'GA': 'Georgia',\n",
        "            'HI': 'Hawaii',\n",
        "            'ID': 'Idaho',\n",
        "            'IL': 'Illinois',\n",
        "            'IN': 'Indiana',\n",
        "            'IA': 'Iowa',\n",
        "            'KS': 'Kansas',\n",
        "            'KY': 'Kentucky',\n",
        "            'LA': 'Louisiana',\n",
        "            'ME': 'Maine',\n",
        "            'MD': 'Maryland',\n",
        "            'MA': 'Massachusetts',\n",
        "            'MI': 'Michigan',\n",
        "            'MN': 'Minnesota',\n",
        "            'MS': 'Mississippi',\n",
        "            'MO': 'Missouri',\n",
        "            'MT': 'Montana',\n",
        "            'NE': 'Nebraska',\n",
        "            'NV': 'Nevada',\n",
        "            'NH': 'New Hampshire',\n",
        "            'NJ': 'New Jersey',\n",
        "            'NM': 'New Mexico',\n",
        "            'NY': 'New York',\n",
        "            'NC': 'North Carolina',\n",
        "            'ND': 'North Dakota',\n",
        "            'OH': 'Ohio',\n",
        "            'OK': 'Oklahoma',\n",
        "            'OR': 'Oregon',\n",
        "            'PA': 'Pennsylvania',\n",
        "            'RI': 'Rhode Island',\n",
        "            'SC': 'South Carolina',\n",
        "            'SD': 'South Dakota',\n",
        "            'TN': 'Tennessee',\n",
        "            'TX': 'Texas',\n",
        "            'UT': 'Utah',\n",
        "            'VT': 'Vermont',\n",
        "            'VA': 'Virginia',\n",
        "            'WA': 'Washington',\n",
        "            'WV': 'West Virginia',\n",
        "            'WI': 'Wisconsin',\n",
        "            'WY': 'Wyoming',\n",
        "        }\n",
        "        us_policies_df['country_id'] = us_policies_df['country_id'].replace(us_state_abbrev)\n",
        "        def renamed(colname):\n",
        "            #eg 20200502_date -> 2020-05-02\n",
        "            return f'{colname[:4]}-{colname[4:6]}-{colname[6:8]}'\n",
        "        column_renaming = {datecol: renamed(datecol) for datecol in us_policies_df.columns[1:]}\n",
        "        \n",
        "        us_policies_df = us_policies_df.rename(columns=column_renaming)\n",
        "        us_policies_df = us_policies_df.rename(columns={'country_id': 'state'})\n",
        "        us_policies_df = us_policies_df.melt(id_vars=['state'], var_name='date', value_name='lockdown_level')\n",
        "        us_policies_df['date'] = pd.to_datetime(us_policies_df['date'], errors='coerce')\n",
        "        for region, region_df in us_policies_df.groupby('state'):\n",
        "            outputs[region] = region_df\n",
        "        return outputs\n",
        "\n",
        "def get_health_poverty_data():\n",
        "    health_poverty_df = pd.read_csv(\"https://raw.githubusercontent.com/sherirosalia/Health_by_State/master/assets/data/data.csv\")\n",
        "    health_poverty_df = health_poverty_df.drop(columns=['id', 'abbr'])\n",
        "    health_poverty_df['state'] = health_poverty_df['state'].replace({'Washington D.C.': 'District of Columbia'})\n",
        "    outputs = {}\n",
        "    for region, region_df in health_poverty_df.groupby('state'):\n",
        "        outputs[region] = region_df\n",
        "    return outputs\n",
        "\n",
        "def get_density_data():\n",
        "    density_df = pd.read_csv(\"https://raw.githubusercontent.com/camillol/cs424p3/master/data/Population-Density%20By%20State.csv\")\n",
        "    density_df = density_df.drop(columns=[\"GEO.id\",\"GEO.id2\"])\n",
        "    outputs = {}\n",
        "    for region, region_df in density_df.groupby(\"GEO.display-label\"):\n",
        "        outputs[region] = region_df\n",
        "    return outputs\n",
        "\n",
        "\n",
        "\n",
        "def build_inputs():\n",
        "    # USA = states + dc\n",
        "    apple_covid_df = get_apple_data()\n",
        "    google_covid_df = get_google_data()\n",
        "    act_now_df = get_covid_act_now_data()\n",
        "    policies_df = get_states_policies_data()\n",
        "\n",
        "    health_poverty_df = get_health_poverty_data()\n",
        "    pop_density_df = get_density_data()\n",
        "    # convert all datasets into dict of smaller datasets per state\n",
        "    # per region, get:\n",
        "    #   1. driving data from apple\n",
        "    #   2. retail, grocery/pharmacy, parks, transit, workplace, residential data from google\n",
        "    #   3. hospital beds required, hospital bed capacity, ICU beds in use, ICU beds capacity, \n",
        "    #            ventilators in use, ventilator capacity, R_t indicator, R_t 90% CI,\n",
        "    #            cumulative deaths, cumulative infected, \n",
        "    #            cumulative positive tests, cumulative negative tests, \n",
        "    #            latitude, longitude from Covid Act Now website\n",
        "    #   4. get lockdown strictness timeseries\n",
        "    #   5. poverty data?\n",
        "\n",
        "    # standard format: \n",
        "    # 1. indexed by region name\n",
        "    # 2. 1 date per row\n",
        "    # 3. all features = remaining columns of the row\n",
        "    # per place, use widest range of dates available in all datasets\n",
        "\n",
        "    # modeling response to change in policy as a 'smeared' impulse response to e.g. unit step instantaneous impulse - people need a few days to adapt their behaviors, but also have a few days prior knowledge before new policies go into place\n",
        "\n",
        "    # predicting:\n",
        "    # 1. for different strictness levels, what are the different death/confirmed case predictions\n",
        "    inputs = {}\n",
        "    for region in USA: #\n",
        "        timeseries_frames = [apple_covid_df[region], google_covid_df[region], act_now_df[region], policies_df[region]]\n",
        "        constant_frames = [health_poverty_df[region], pop_density_df[region]]\n",
        "\n",
        "        region_joined_df = reduce(lambda left, right: pd.merge(left, right, on='date'), timeseries_frames)\n",
        "        region_joined_df = region_joined_df.drop(columns=['sub_region_1', 'sub_region_2', 'country_region_code', 'country_region', 'geo_type', 'alternative_name', 'transportation_type', 'intervention', 'fips', 'lastUpdatedDate', 'countryName', 'stateName', 'countyName', 'state'])\n",
        "        \n",
        "\n",
        "        # non-timeseries data, eg. constant columns\n",
        "        for constant_frame in constant_frames:\n",
        "            for i, col in enumerate(constant_frame.columns):\n",
        "                if i > 0: region_joined_df[col] = constant_frame[col].sum()\n",
        "        \n",
        "        region_joined_df['Rt_90_lower_bound'] = region_joined_df['RtIndicator'] - (region_joined_df['RtIndicatorCI90'])\n",
        "        region_joined_df['Rt_90_upper_bound'] = region_joined_df['RtIndicator'] + (region_joined_df['RtIndicatorCI90'])\n",
        "        region_joined_df['positive_test_rate'] = region_joined_df['cumulativePositiveTests'] / (region_joined_df['cumulativePositiveTests'] + region_joined_df['cumulativeNegativeTests'])\n",
        "        region_joined_df['positive_test_rate'] = region_joined_df['positive_test_rate'].fillna(method='bfill')\n",
        "        inputs[region] = region_joined_df\n",
        "    return inputs\n",
        "\n",
        "def build_model(statename):\n",
        "    # try to predict R_t of each day\n",
        "    # for t in days: multiply current # cases by R_t for that day\n",
        "    # do an exponential model given R_t\n",
        "    pass\n",
        "\n",
        "inputs = build_inputs()\n",
        "for region, region_df in inputs.items():\n",
        "    region_df.to_csv(open(f'{region}.csv', 'w'), index=False)\n",
        "    print(f\"wrote {region}.csv\")"
      ],
      "execution_count": 2,
      "outputs": [
        {
          "output_type": "stream",
          "text": [
            "dict_keys(['Alabama', 'Alaska', 'Arizona', 'Arkansas', 'California', 'Colorado', 'Connecticut', 'Delaware', 'District of Columbia', 'Florida', 'Georgia', 'Hawaii', 'Idaho', 'Illinois', 'Indiana', 'Iowa', 'Kansas', 'Kentucky', 'Louisiana', 'Maine', 'Maryland', 'Massachusetts', 'Michigan', 'Minnesota', 'Mississippi', 'Missouri', 'Montana', 'Nebraska', 'Nevada', 'New Hampshire', 'New Jersey', 'New Mexico', 'New York', 'North Carolina', 'North Dakota', 'Ohio', 'Oklahoma', 'Oregon', 'Pennsylvania', 'Rhode Island', 'South Carolina', 'South Dakota', 'Tennessee', 'Texas', 'Utah', 'Vermont', 'Virginia', 'Washington', 'West Virginia', 'Wisconsin', 'Wyoming'])\n"
          ],
          "name": "stdout"
        },
        {
          "output_type": "stream",
          "text": [
            "/usr/local/lib/python3.6/dist-packages/ipykernel_launcher.py:38: SettingWithCopyWarning: \n",
            "A value is trying to be set on a copy of a slice from a DataFrame.\n",
            "Try using .loc[row_indexer,col_indexer] = value instead\n",
            "\n",
            "See the caveats in the documentation: https://pandas.pydata.org/pandas-docs/stable/user_guide/indexing.html#returning-a-view-versus-a-copy\n"
          ],
          "name": "stderr"
        },
        {
          "output_type": "stream",
          "text": [
            "  country_id country_name  ...  20200606_date  20200607_date\n",
            "0        AFG  Afghanistan  ...              4              4\n",
            "1        ALB      Albania  ...              5              5\n",
            "2        DZA      Algeria  ...              2              2\n",
            "3        AND      Andorra  ...              5              5\n",
            "4        AGO       Angola  ...              3              3\n",
            "\n",
            "[5 rows x 139 columns]\n"
          ],
          "name": "stdout"
        },
        {
          "output_type": "stream",
          "text": [
            "/usr/local/lib/python3.6/dist-packages/ipykernel_launcher.py:135: SettingWithCopyWarning: \n",
            "A value is trying to be set on a copy of a slice from a DataFrame.\n",
            "Try using .loc[row_indexer,col_indexer] = value instead\n",
            "\n",
            "See the caveats in the documentation: https://pandas.pydata.org/pandas-docs/stable/user_guide/indexing.html#returning-a-view-versus-a-copy\n"
          ],
          "name": "stderr"
        },
        {
          "output_type": "stream",
          "text": [
            "wrote Delaware.csv\n",
            "wrote Colorado.csv\n",
            "wrote Connecticut.csv\n",
            "wrote Virginia.csv\n",
            "wrote Minnesota.csv\n",
            "wrote Alaska.csv\n",
            "wrote Arizona.csv\n",
            "wrote Vermont.csv\n",
            "wrote Wisconsin.csv\n",
            "wrote Oregon.csv\n",
            "wrote Wyoming.csv\n",
            "wrote New York.csv\n",
            "wrote Washington.csv\n",
            "wrote South Dakota.csv\n",
            "wrote Nebraska.csv\n",
            "wrote Rhode Island.csv\n",
            "wrote Missouri.csv\n",
            "wrote Illinois.csv\n",
            "wrote North Carolina.csv\n",
            "wrote Texas.csv\n",
            "wrote Arkansas.csv\n",
            "wrote North Dakota.csv\n",
            "wrote Louisiana.csv\n",
            "wrote Pennsylvania.csv\n",
            "wrote Michigan.csv\n",
            "wrote Idaho.csv\n",
            "wrote Nevada.csv\n",
            "wrote Montana.csv\n",
            "wrote District of Columbia.csv\n",
            "wrote West Virginia.csv\n",
            "wrote Ohio.csv\n",
            "wrote Utah.csv\n",
            "wrote South Carolina.csv\n",
            "wrote Maine.csv\n",
            "wrote Kentucky.csv\n",
            "wrote Florida.csv\n",
            "wrote New Hampshire.csv\n",
            "wrote Hawaii.csv\n",
            "wrote Maryland.csv\n",
            "wrote New Mexico.csv\n",
            "wrote Oklahoma.csv\n",
            "wrote Kansas.csv\n",
            "wrote Alabama.csv\n",
            "wrote Indiana.csv\n",
            "wrote New Jersey.csv\n",
            "wrote Georgia.csv\n",
            "wrote Iowa.csv\n",
            "wrote Tennessee.csv\n",
            "wrote Massachusetts.csv\n",
            "wrote Mississippi.csv\n",
            "wrote California.csv\n"
          ],
          "name": "stdout"
        }
      ]
    },
    {
      "cell_type": "code",
      "metadata": {
        "id": "uKZvSkoXVBqg",
        "colab_type": "code",
        "outputId": "03ab092d-1452-49b8-fc4a-79176c67810f",
        "colab": {
          "base_uri": "https://localhost:8080/",
          "height": 313
        }
      },
      "source": [
        "inputs['Alabama'].head()"
      ],
      "execution_count": 3,
      "outputs": [
        {
          "output_type": "execute_result",
          "data": {
            "text/html": [
              "<div>\n",
              "<style scoped>\n",
              "    .dataframe tbody tr th:only-of-type {\n",
              "        vertical-align: middle;\n",
              "    }\n",
              "\n",
              "    .dataframe tbody tr th {\n",
              "        vertical-align: top;\n",
              "    }\n",
              "\n",
              "    .dataframe thead th {\n",
              "        text-align: right;\n",
              "    }\n",
              "</style>\n",
              "<table border=\"1\" class=\"dataframe\">\n",
              "  <thead>\n",
              "    <tr style=\"text-align: right;\">\n",
              "      <th></th>\n",
              "      <th>region</th>\n",
              "      <th>date</th>\n",
              "      <th>driving_percent</th>\n",
              "      <th>retail_and_recreation_percent_change_from_baseline</th>\n",
              "      <th>grocery_and_pharmacy_percent_change_from_baseline</th>\n",
              "      <th>parks_percent_change_from_baseline</th>\n",
              "      <th>transit_stations_percent_change_from_baseline</th>\n",
              "      <th>workplaces_percent_change_from_baseline</th>\n",
              "      <th>residential_percent_change_from_baseline</th>\n",
              "      <th>hospitalBedsRequired</th>\n",
              "      <th>hospitalBedCapacity</th>\n",
              "      <th>ICUBedsInUse</th>\n",
              "      <th>ICUBedCapacity</th>\n",
              "      <th>ventilatorsInUse</th>\n",
              "      <th>ventilatorCapacity</th>\n",
              "      <th>RtIndicator</th>\n",
              "      <th>RtIndicatorCI90</th>\n",
              "      <th>cumulativeDeaths</th>\n",
              "      <th>cumulativeInfected</th>\n",
              "      <th>cumulativePositiveTests</th>\n",
              "      <th>cumulativeNegativeTests</th>\n",
              "      <th>lat</th>\n",
              "      <th>long</th>\n",
              "      <th>lockdown_level</th>\n",
              "      <th>poverty</th>\n",
              "      <th>povertyMoe</th>\n",
              "      <th>age</th>\n",
              "      <th>ageMoe</th>\n",
              "      <th>income</th>\n",
              "      <th>incomeMoe</th>\n",
              "      <th>healthcare</th>\n",
              "      <th>healthcareLow</th>\n",
              "      <th>healthcareHigh</th>\n",
              "      <th>obesity</th>\n",
              "      <th>obesityLow</th>\n",
              "      <th>obesityHigh</th>\n",
              "      <th>smokes</th>\n",
              "      <th>smokesLow</th>\n",
              "      <th>smokesHigh</th>\n",
              "      <th>Density per square mile of land area</th>\n",
              "      <th>Rt_90_lower_bound</th>\n",
              "      <th>Rt_90_upper_bound</th>\n",
              "      <th>positive_test_rate</th>\n",
              "    </tr>\n",
              "  </thead>\n",
              "  <tbody>\n",
              "    <tr>\n",
              "      <th>0</th>\n",
              "      <td>Alabama</td>\n",
              "      <td>2020-03-03</td>\n",
              "      <td>0.1538</td>\n",
              "      <td>0.20</td>\n",
              "      <td>0.15</td>\n",
              "      <td>0.33</td>\n",
              "      <td>0.05</td>\n",
              "      <td>0.02</td>\n",
              "      <td>-0.01</td>\n",
              "      <td>0</td>\n",
              "      <td>15870</td>\n",
              "      <td>0</td>\n",
              "      <td>465</td>\n",
              "      <td>0</td>\n",
              "      <td>1551</td>\n",
              "      <td>1.5</td>\n",
              "      <td>4.0</td>\n",
              "      <td>0</td>\n",
              "      <td>6</td>\n",
              "      <td>NaN</td>\n",
              "      <td>NaN</td>\n",
              "      <td>32.539527</td>\n",
              "      <td>-86.644082</td>\n",
              "      <td>0</td>\n",
              "      <td>19.3</td>\n",
              "      <td>0.5</td>\n",
              "      <td>38.6</td>\n",
              "      <td>0.2</td>\n",
              "      <td>42830</td>\n",
              "      <td>598</td>\n",
              "      <td>13.9</td>\n",
              "      <td>12.7</td>\n",
              "      <td>15.1</td>\n",
              "      <td>33.5</td>\n",
              "      <td>32.1</td>\n",
              "      <td>35.0</td>\n",
              "      <td>21.1</td>\n",
              "      <td>19.8</td>\n",
              "      <td>22.5</td>\n",
              "      <td>94.4</td>\n",
              "      <td>-2.5</td>\n",
              "      <td>5.5</td>\n",
              "      <td>0.0</td>\n",
              "    </tr>\n",
              "    <tr>\n",
              "      <th>1</th>\n",
              "      <td>Alabama</td>\n",
              "      <td>2020-03-04</td>\n",
              "      <td>0.1090</td>\n",
              "      <td>0.07</td>\n",
              "      <td>0.00</td>\n",
              "      <td>-0.08</td>\n",
              "      <td>0.02</td>\n",
              "      <td>0.00</td>\n",
              "      <td>0.01</td>\n",
              "      <td>0</td>\n",
              "      <td>15870</td>\n",
              "      <td>0</td>\n",
              "      <td>465</td>\n",
              "      <td>0</td>\n",
              "      <td>1551</td>\n",
              "      <td>1.5</td>\n",
              "      <td>4.0</td>\n",
              "      <td>0</td>\n",
              "      <td>15</td>\n",
              "      <td>NaN</td>\n",
              "      <td>NaN</td>\n",
              "      <td>32.539527</td>\n",
              "      <td>-86.644082</td>\n",
              "      <td>0</td>\n",
              "      <td>19.3</td>\n",
              "      <td>0.5</td>\n",
              "      <td>38.6</td>\n",
              "      <td>0.2</td>\n",
              "      <td>42830</td>\n",
              "      <td>598</td>\n",
              "      <td>13.9</td>\n",
              "      <td>12.7</td>\n",
              "      <td>15.1</td>\n",
              "      <td>33.5</td>\n",
              "      <td>32.1</td>\n",
              "      <td>35.0</td>\n",
              "      <td>21.1</td>\n",
              "      <td>19.8</td>\n",
              "      <td>22.5</td>\n",
              "      <td>94.4</td>\n",
              "      <td>-2.5</td>\n",
              "      <td>5.5</td>\n",
              "      <td>0.0</td>\n",
              "    </tr>\n",
              "    <tr>\n",
              "      <th>2</th>\n",
              "      <td>Alabama</td>\n",
              "      <td>2020-03-05</td>\n",
              "      <td>0.2409</td>\n",
              "      <td>0.07</td>\n",
              "      <td>0.06</td>\n",
              "      <td>0.00</td>\n",
              "      <td>0.04</td>\n",
              "      <td>0.02</td>\n",
              "      <td>0.01</td>\n",
              "      <td>0</td>\n",
              "      <td>15870</td>\n",
              "      <td>0</td>\n",
              "      <td>465</td>\n",
              "      <td>0</td>\n",
              "      <td>1551</td>\n",
              "      <td>1.5</td>\n",
              "      <td>4.0</td>\n",
              "      <td>0</td>\n",
              "      <td>25</td>\n",
              "      <td>NaN</td>\n",
              "      <td>NaN</td>\n",
              "      <td>32.539527</td>\n",
              "      <td>-86.644082</td>\n",
              "      <td>0</td>\n",
              "      <td>19.3</td>\n",
              "      <td>0.5</td>\n",
              "      <td>38.6</td>\n",
              "      <td>0.2</td>\n",
              "      <td>42830</td>\n",
              "      <td>598</td>\n",
              "      <td>13.9</td>\n",
              "      <td>12.7</td>\n",
              "      <td>15.1</td>\n",
              "      <td>33.5</td>\n",
              "      <td>32.1</td>\n",
              "      <td>35.0</td>\n",
              "      <td>21.1</td>\n",
              "      <td>19.8</td>\n",
              "      <td>22.5</td>\n",
              "      <td>94.4</td>\n",
              "      <td>-2.5</td>\n",
              "      <td>5.5</td>\n",
              "      <td>0.0</td>\n",
              "    </tr>\n",
              "    <tr>\n",
              "      <th>3</th>\n",
              "      <td>Alabama</td>\n",
              "      <td>2020-03-06</td>\n",
              "      <td>0.5782</td>\n",
              "      <td>0.09</td>\n",
              "      <td>0.04</td>\n",
              "      <td>0.29</td>\n",
              "      <td>0.10</td>\n",
              "      <td>0.02</td>\n",
              "      <td>-0.01</td>\n",
              "      <td>0</td>\n",
              "      <td>15870</td>\n",
              "      <td>0</td>\n",
              "      <td>465</td>\n",
              "      <td>0</td>\n",
              "      <td>1551</td>\n",
              "      <td>1.5</td>\n",
              "      <td>4.0</td>\n",
              "      <td>0</td>\n",
              "      <td>38</td>\n",
              "      <td>NaN</td>\n",
              "      <td>NaN</td>\n",
              "      <td>32.539527</td>\n",
              "      <td>-86.644082</td>\n",
              "      <td>0</td>\n",
              "      <td>19.3</td>\n",
              "      <td>0.5</td>\n",
              "      <td>38.6</td>\n",
              "      <td>0.2</td>\n",
              "      <td>42830</td>\n",
              "      <td>598</td>\n",
              "      <td>13.9</td>\n",
              "      <td>12.7</td>\n",
              "      <td>15.1</td>\n",
              "      <td>33.5</td>\n",
              "      <td>32.1</td>\n",
              "      <td>35.0</td>\n",
              "      <td>21.1</td>\n",
              "      <td>19.8</td>\n",
              "      <td>22.5</td>\n",
              "      <td>94.4</td>\n",
              "      <td>-2.5</td>\n",
              "      <td>5.5</td>\n",
              "      <td>0.0</td>\n",
              "    </tr>\n",
              "    <tr>\n",
              "      <th>4</th>\n",
              "      <td>Alabama</td>\n",
              "      <td>2020-03-07</td>\n",
              "      <td>0.5873</td>\n",
              "      <td>0.12</td>\n",
              "      <td>0.08</td>\n",
              "      <td>0.63</td>\n",
              "      <td>0.18</td>\n",
              "      <td>0.07</td>\n",
              "      <td>-0.02</td>\n",
              "      <td>0</td>\n",
              "      <td>15870</td>\n",
              "      <td>0</td>\n",
              "      <td>465</td>\n",
              "      <td>0</td>\n",
              "      <td>1551</td>\n",
              "      <td>1.5</td>\n",
              "      <td>4.0</td>\n",
              "      <td>0</td>\n",
              "      <td>55</td>\n",
              "      <td>0.0</td>\n",
              "      <td>NaN</td>\n",
              "      <td>32.539527</td>\n",
              "      <td>-86.644082</td>\n",
              "      <td>0</td>\n",
              "      <td>19.3</td>\n",
              "      <td>0.5</td>\n",
              "      <td>38.6</td>\n",
              "      <td>0.2</td>\n",
              "      <td>42830</td>\n",
              "      <td>598</td>\n",
              "      <td>13.9</td>\n",
              "      <td>12.7</td>\n",
              "      <td>15.1</td>\n",
              "      <td>33.5</td>\n",
              "      <td>32.1</td>\n",
              "      <td>35.0</td>\n",
              "      <td>21.1</td>\n",
              "      <td>19.8</td>\n",
              "      <td>22.5</td>\n",
              "      <td>94.4</td>\n",
              "      <td>-2.5</td>\n",
              "      <td>5.5</td>\n",
              "      <td>0.0</td>\n",
              "    </tr>\n",
              "  </tbody>\n",
              "</table>\n",
              "</div>"
            ],
            "text/plain": [
              "    region       date  ...  Rt_90_upper_bound  positive_test_rate\n",
              "0  Alabama 2020-03-03  ...                5.5                 0.0\n",
              "1  Alabama 2020-03-04  ...                5.5                 0.0\n",
              "2  Alabama 2020-03-05  ...                5.5                 0.0\n",
              "3  Alabama 2020-03-06  ...                5.5                 0.0\n",
              "4  Alabama 2020-03-07  ...                5.5                 0.0\n",
              "\n",
              "[5 rows x 43 columns]"
            ]
          },
          "metadata": {
            "tags": []
          },
          "execution_count": 3
        }
      ]
    },
    {
      "cell_type": "code",
      "metadata": {
        "id": "r8UhhxJD4WXY",
        "colab_type": "code",
        "outputId": "263082a2-5652-4898-f4a3-62c4de756590",
        "colab": {
          "base_uri": "https://localhost:8080/",
          "height": 53
        }
      },
      "source": [
        "params = ['driving_percent', 'retail_and_recreation_percent_change_from_baseline', \n",
        "          'grocery_and_pharmacy_percent_change_from_baseline', \n",
        "          'transit_stations_percent_change_from_baseline',\n",
        "          'workplaces_percent_change_from_baseline', \n",
        "          'residential_percent_change_from_baseline', \n",
        "          'lockdown_level', 'poverty', 'age', 'income',\n",
        "          'healthcare', 'healthcareLow', 'healthcareHigh',\n",
        "          'obesity', 'smokes', 'smokesLow', 'smokesHigh',\n",
        "          'Density per square mile of land area']\n",
        "X = inputs['Alabama'][params].values\n",
        "X = np.hstack((X, np.arange(len(X)).reshape((-1,1))))\n",
        "y = inputs['Alabama'][['RtIndicator']].values\n",
        "print(X.shape,y.shape)\n",
        "reg = LinearRegression(normalize=True).fit(X, y)\n",
        "reg.score(X,y)"
      ],
      "execution_count": 4,
      "outputs": [
        {
          "output_type": "stream",
          "text": [
            "(59, 19) (59, 1)\n"
          ],
          "name": "stdout"
        },
        {
          "output_type": "execute_result",
          "data": {
            "text/plain": [
              "0.9230854352759202"
            ]
          },
          "metadata": {
            "tags": []
          },
          "execution_count": 4
        }
      ]
    },
    {
      "cell_type": "code",
      "metadata": {
        "id": "xnD3-OH471Lf",
        "colab_type": "code",
        "colab": {
          "base_uri": "https://localhost:8080/",
          "height": 1000
        },
        "outputId": "e3f0f431-475d-4930-a7a5-22c482a4690c"
      },
      "source": [
        "regression_coefs = {param: [] for param in params + ['t', 't^2']}\n",
        "intercepts = []\n",
        "#X_tot = None\n",
        "#y_tot = np.array([])\n",
        "for region in USA:\n",
        "    #print(f\"cols with nans: {inputs[region][params].columns[inputs[region][params].isna().any()].tolist()}\")\n",
        "    X = inputs[region][params].values\n",
        "    t = np.arange(len(X)).reshape((-1,1))\n",
        "    X = np.hstack((X, t, np.square(t)))\n",
        "    \n",
        "    #y = np.diff(np.log(inputs[region][['cumulativeDeaths']].values + 1e-9), axis=0)\n",
        "    y = inputs[region][['RtIndicator']].values.ravel()\n",
        "    \n",
        "    # if type(X_tot) == type(None): X_tot = X\n",
        "    # else: \n",
        "    #     print(X_tot.shape, X.shape)\n",
        "    #     X_tot = np.concatenate((X_tot, X), axis=0)\n",
        "    # y_tot = np.hstack((y_tot,y))\n",
        "\n",
        "    #X_tot = preprocessing.StandardScaler().fit(X_tot).transform(X_tot)\n",
        "    X = preprocessing.StandardScaler().fit(X).transform(X)\n",
        "    reg = SGDRegressor(max_iter=100000).fit(X, y)\n",
        "    \n",
        "    print(f\"regression for {region}\")\n",
        "    print(reg.score(X,y))\n",
        "    # pprint.pprint({param:reg.coef_[0][i] for i, param in enumerate(params + ['t'])})\n",
        "    for i, param in enumerate(params + ['t', 't^2']):\n",
        "        regression_coefs[param].append(reg.coef_[i])\n",
        "        intercepts.append(reg.intercept_)\n",
        "\n",
        "print(f\"b={sum(intercepts)/len(intercepts)}\")\n",
        "for i, param in enumerate(regression_coefs):\n",
        "    coefs = regression_coefs[param]\n",
        "    if len(coefs) > 0:\n",
        "        print(f\"{param}: \\n\\t median = {np.median(coefs)} \\n\\t min = {np.min(coefs)} \\n\\t mean = {np.mean(coefs)} \\n\\t max = {np.max(coefs)} \\n\")"
      ],
      "execution_count": 8,
      "outputs": [
        {
          "output_type": "stream",
          "text": [
            "regression for Delaware\n",
            "0.8807104144463452\n",
            "regression for Colorado\n",
            "0.7758148628430025\n",
            "regression for Connecticut\n",
            "0.8871198590243096\n",
            "regression for Virginia\n",
            "0.8386425217476678\n",
            "regression for Minnesota\n",
            "0.5706415620645673\n",
            "regression for Alaska\n",
            "0.8300323391452373\n",
            "regression for Arizona\n",
            "0.7671289738858313\n",
            "regression for Vermont\n",
            "0.8540403754907578\n",
            "regression for Wisconsin\n",
            "0.7018671438375792\n",
            "regression for Oregon\n",
            "0.874134580631053\n",
            "regression for Wyoming\n",
            "0.8173816792155083\n",
            "regression for New York\n",
            "0.8377266737268031\n",
            "regression for Washington\n",
            "0.919597753125018\n",
            "regression for South Dakota\n",
            "0.7728457351559631\n",
            "regression for Nebraska\n",
            "0.679381113842186\n",
            "regression for Rhode Island\n",
            "0.9280744856119353\n",
            "regression for Missouri\n",
            "0.8550219131827796\n",
            "regression for Illinois\n",
            "0.7740239626630588\n",
            "regression for North Carolina\n",
            "0.8211462484682582\n",
            "regression for Texas\n",
            "0.9076221351719054\n",
            "regression for Arkansas\n",
            "0.6202924190119121\n",
            "regression for North Dakota\n",
            "0.6846606475701742\n",
            "regression for Louisiana\n",
            "0.7747227678340582\n",
            "regression for Pennsylvania\n",
            "0.8656067658021914\n",
            "regression for Michigan\n",
            "0.7449059832048741\n",
            "regression for Idaho\n",
            "0.8220316301238008\n",
            "regression for Nevada\n",
            "0.8887699592727994\n",
            "regression for Montana\n",
            "0.880357468748738\n",
            "regression for District of Columbia\n",
            "0.8621523958523584\n",
            "regression for West Virginia\n",
            "0.8835260295725811\n",
            "regression for Ohio\n",
            "0.8416816159486171\n",
            "regression for Utah\n",
            "0.8973798460702287\n",
            "regression for South Carolina\n",
            "0.7833074902268768\n",
            "regression for Maine\n",
            "0.9734246415221937\n",
            "regression for Kentucky\n",
            "0.8776203762065994\n",
            "regression for Florida\n",
            "0.8421295101348494\n",
            "regression for New Hampshire\n",
            "0.8223012669490215\n",
            "regression for Hawaii\n",
            "0.8213407981485632\n",
            "regression for Maryland\n",
            "0.845226999541919\n",
            "regression for New Mexico\n",
            "0.878626236735691\n",
            "regression for Oklahoma\n",
            "0.8530341568293053\n",
            "regression for Kansas\n",
            "0.8064004800127158\n",
            "regression for Alabama\n",
            "0.8419240970137475\n",
            "regression for Indiana\n",
            "0.7651760954224733\n",
            "regression for New Jersey\n",
            "0.7705604672626052\n",
            "regression for Georgia\n",
            "0.8435240421086277\n",
            "regression for Iowa\n",
            "0.6011829310236909\n",
            "regression for Tennessee\n",
            "0.7701293940645544\n",
            "regression for Massachusetts\n",
            "0.8246644153351781\n",
            "regression for Mississippi\n",
            "0.7082107605859658\n",
            "regression for California\n",
            "0.8936558264886424\n",
            "b=[0.25742227]\n",
            "driving_percent: \n",
            "\t median = -0.044385981960912486 \n",
            "\t min = -0.14623474433374023 \n",
            "\t mean = -0.05316571327417998 \n",
            "\t max = 0.010409333729494104 \n",
            "\n",
            "retail_and_recreation_percent_change_from_baseline: \n",
            "\t median = -0.025511554862796396 \n",
            "\t min = -0.10746254383413979 \n",
            "\t mean = -0.02266882739488293 \n",
            "\t max = 0.049320711769162376 \n",
            "\n",
            "grocery_and_pharmacy_percent_change_from_baseline: \n",
            "\t median = 0.03083287977242304 \n",
            "\t min = -0.019491006616915458 \n",
            "\t mean = 0.04302756421494972 \n",
            "\t max = 0.21096241300184942 \n",
            "\n",
            "transit_stations_percent_change_from_baseline: \n",
            "\t median = 0.005866655548207545 \n",
            "\t min = -0.03881503995802879 \n",
            "\t mean = 0.003145689280183606 \n",
            "\t max = 0.032044595454642416 \n",
            "\n",
            "workplaces_percent_change_from_baseline: \n",
            "\t median = 0.006352604614943864 \n",
            "\t min = -0.02039625648098639 \n",
            "\t mean = 0.005965251430484195 \n",
            "\t max = 0.0429227554161058 \n",
            "\n",
            "residential_percent_change_from_baseline: \n",
            "\t median = 0.010621109875986443 \n",
            "\t min = -0.024747397791906125 \n",
            "\t mean = 0.011813851601546457 \n",
            "\t max = 0.04076359820481365 \n",
            "\n",
            "lockdown_level: \n",
            "\t median = -0.028589021424125404 \n",
            "\t min = -0.11454699910324304 \n",
            "\t mean = -0.031262001630154294 \n",
            "\t max = 0.029487177598083846 \n",
            "\n",
            "poverty: \n",
            "\t median = 0.0 \n",
            "\t min = -0.2446849633402382 \n",
            "\t mean = -0.017233503105275473 \n",
            "\t max = 0.3159760472483828 \n",
            "\n",
            "age: \n",
            "\t median = 0.0 \n",
            "\t min = -0.3981673563835043 \n",
            "\t mean = 0.012664495111175253 \n",
            "\t max = 0.49711207534664503 \n",
            "\n",
            "income: \n",
            "\t median = 0.0 \n",
            "\t min = 0.0 \n",
            "\t mean = 0.0 \n",
            "\t max = 0.0 \n",
            "\n",
            "healthcare: \n",
            "\t median = 0.0 \n",
            "\t min = -0.2574435702487758 \n",
            "\t mean = 0.01201181638081527 \n",
            "\t max = 0.3873961253587227 \n",
            "\n",
            "healthcareLow: \n",
            "\t median = 0.0 \n",
            "\t min = -0.29492471957399974 \n",
            "\t mean = -0.023289213537103757 \n",
            "\t max = 0.2424922565091519 \n",
            "\n",
            "healthcareHigh: \n",
            "\t median = 0.0 \n",
            "\t min = -0.49711207534664503 \n",
            "\t mean = 0.022051042521172296 \n",
            "\t max = 0.8015742982147953 \n",
            "\n",
            "obesity: \n",
            "\t median = 0.0 \n",
            "\t min = -0.3981673563835043 \n",
            "\t mean = -0.02860294068675603 \n",
            "\t max = 0.24963754483634093 \n",
            "\n",
            "smokes: \n",
            "\t median = 0.0 \n",
            "\t min = -0.294075163426196 \n",
            "\t mean = -0.03202919856354881 \n",
            "\t max = 0.3159760472483828 \n",
            "\n",
            "smokesLow: \n",
            "\t median = 0.0 \n",
            "\t min = -0.2385312484041649 \n",
            "\t mean = -0.013672466471951101 \n",
            "\t max = 0.3873961253587227 \n",
            "\n",
            "smokesHigh: \n",
            "\t median = 0.0 \n",
            "\t min = -0.3159760472483828 \n",
            "\t mean = 0.026539780388188012 \n",
            "\t max = 0.3981673563835043 \n",
            "\n",
            "Density per square mile of land area: \n",
            "\t median = 0.0 \n",
            "\t min = -0.294075163426196 \n",
            "\t mean = 0.013885586610137902 \n",
            "\t max = 0.2574435702487758 \n",
            "\n",
            "t: \n",
            "\t median = -0.09525690205395923 \n",
            "\t min = -0.21432795028619311 \n",
            "\t mean = -0.09963768322253448 \n",
            "\t max = -0.014599475018872753 \n",
            "\n",
            "t^2: \n",
            "\t median = -0.11304875326960934 \n",
            "\t min = -0.27200476413591534 \n",
            "\t mean = -0.12043650051054133 \n",
            "\t max = -0.02401930987738553 \n",
            "\n"
          ],
          "name": "stdout"
        }
      ]
    },
    {
      "cell_type": "code",
      "metadata": {
        "id": "3BiZ_b1gkH3K",
        "colab_type": "code",
        "colab": {
          "base_uri": "https://localhost:8080/",
          "height": 1000
        },
        "outputId": "97da976e-b806-4e20-e166-0f83b3cb7d84"
      },
      "source": [
        "\n",
        "for i, param in enumerate(params + ['t', 't^2']):\n",
        "    plt.figure(figsize=(10,5))\n",
        "    plt.hist(regression_coefs[param], bins=25)\n",
        "    plt.title(param)\n",
        "    plt.show()"
      ],
      "execution_count": 9,
      "outputs": [
        {
          "output_type": "display_data",
          "data": {
            "image/png": "[encoded data removed]",
            "text/plain": [
              "<Figure size 720x360 with 1 Axes>"
            ]
          },
          "metadata": {
            "tags": [],
            "needs_background": "light"
          }
        },
        {
          "output_type": "display_data",
          "data": {
            "image/png": "[encoded data removed]",
            "text/plain": [
              "<Figure size 720x360 with 1 Axes>"
            ]
          },
          "metadata": {
            "tags": [],
            "needs_background": "light"
          }
        },
        {
          "output_type": "display_data",
          "data": {
            "image/png": "[encoded data removed]",
            "text/plain": [
              "<Figure size 720x360 with 1 Axes>"
            ]
          },
          "metadata": {
            "tags": [],
            "needs_background": "light"
          }
        },
        {
          "output_type": "display_data",
          "data": {
            "image/png": "[encoded data removed]",
            "text/plain": [
              "<Figure size 720x360 with 1 Axes>"
            ]
          },
          "metadata": {
            "tags": [],
            "needs_background": "light"
          }
        },
        {
          "output_type": "display_data",
          "data": {
            "image/png": "[encoded data removed]",
            "text/plain": [
              "<Figure size 720x360 with 1 Axes>"
            ]
          },
          "metadata": {
            "tags": [],
            "needs_background": "light"
          }
        },
        {
          "output_type": "display_data",
          "data": {
            "image/png": "[encoded data removed]",
            "text/plain": [
              "<Figure size 720x360 with 1 Axes>"
            ]
          },
          "metadata": {
            "tags": [],
            "needs_background": "light"
          }
        },
        {
          "output_type": "display_data",
          "data": {
            "image/png": "[encoded data removed]",
            "text/plain": [
              "<Figure size 720x360 with 1 Axes>"
            ]
          },
          "metadata": {
            "tags": [],
            "needs_background": "light"
          }
        },
        {
          "output_type": "display_data",
          "data": {
            "image/png": "[encoded data removed]",
            "text/plain": [
              "<Figure size 720x360 with 1 Axes>"
            ]
          },
          "metadata": {
            "tags": [],
            "needs_background": "light"
          }
        },
        {
          "output_type": "display_data",
          "data": {
            "image/png": "[encoded data removed]",
            "text/plain": [
              "<Figure size 720x360 with 1 Axes>"
            ]
          },
          "metadata": {
            "tags": [],
            "needs_background": "light"
          }
        },
        {
          "output_type": "display_data",
          "data": {
            "image/png": "[encoded data removed]",
            "text/plain": [
              "<Figure size 720x360 with 1 Axes>"
            ]
          },
          "metadata": {
            "tags": [],
            "needs_background": "light"
          }
        },
        {
          "output_type": "display_data",
          "data": {
            "image/png": "[encoded data removed]",
            "text/plain": [
              "<Figure size 720x360 with 1 Axes>"
            ]
          },
          "metadata": {
            "tags": [],
            "needs_background": "light"
          }
        },
        {
          "output_type": "display_data",
          "data": {
            "image/png": "[encoded data removed]",
            "text/plain": [
              "<Figure size 720x360 with 1 Axes>"
            ]
          },
          "metadata": {
            "tags": [],
            "needs_background": "light"
          }
        },
        {
          "output_type": "display_data",
          "data": {
            "image/png": "[encoded data removed]",
            "text/plain": [
              "<Figure size 720x360 with 1 Axes>"
            ]
          },
          "metadata": {
            "tags": [],
            "needs_background": "light"
          }
        },
        {
          "output_type": "display_data",
          "data": {
            "image/png": "[encoded data removed]",
            "text/plain": [
              "<Figure size 720x360 with 1 Axes>"
            ]
          },
          "metadata": {
            "tags": [],
            "needs_background": "light"
          }
        },
        {
          "output_type": "display_data",
          "data": {
            "image/png": "[encoded data removed]",
            "text/plain": [
              "<Figure size 720x360 with 1 Axes>"
            ]
          },
          "metadata": {
            "tags": [],
            "needs_background": "light"
          }
        },
        {
          "output_type": "display_data",
          "data": {
            "image/png": "[encoded data removed]",
            "text/plain": [
              "<Figure size 720x360 with 1 Axes>"
            ]
          },
          "metadata": {
            "tags": [],
            "needs_background": "light"
          }
        },
        {
          "output_type": "display_data",
          "data": {
            "image/png": "[encoded data removed]",
            "text/plain": [
              "<Figure size 720x360 with 1 Axes>"
            ]
          },
          "metadata": {
            "tags": [],
            "needs_background": "light"
          }
        },
        {
          "output_type": "display_data",
          "data": {
            "image/png": "[encoded data removed]",
            "text/plain": [
              "<Figure size 720x360 with 1 Axes>"
            ]
          },
          "metadata": {
            "tags": [],
            "needs_background": "light"
          }
        },
        {
          "output_type": "display_data",
          "data": {
            "image/png": "[encoded data removed]",
            "text/plain": [
              "<Figure size 720x360 with 1 Axes>"
            ]
          },
          "metadata": {
            "tags": [],
            "needs_background": "light"
          }
        },
        {
          "output_type": "display_data",
          "data": {
            "image/png": "[encoded data removed]",
            "text/plain": [
              "<Figure size 720x360 with 1 Axes>"
            ]
          },
          "metadata": {
            "tags": [],
            "needs_background": "light"
          }
        }
      ]
    },
    {
      "cell_type": "markdown",
      "metadata": {
        "id": "LByisHGnN9d9",
        "colab_type": "text"
      },
      "source": [
        "    prev_hidden                              ----------> |i2o| ---------------> output\n",
        "        +        -----> |input2hidden1| -----|\n",
        "      input                                  ----------> |input2hidden2|------> hidden"
      ]
    },
    {
      "cell_type": "code",
      "metadata": {
        "id": "MOR28mj1ju7d",
        "colab_type": "code",
        "colab": {}
      },
      "source": [
        "\n",
        "import torch.nn.functional as F\n",
        "class LSTM(nn.Module):\n",
        "    # adapted from https://www.jessicayung.com/lstms-for-time-series-in-pytorch/\n",
        "    def __init__(self, input_dim, hidden_dim1, seq_len=14, output_dim = 1, num_layers=2):\n",
        "        super(LSTM, self).__init__()\n",
        "        self.input_dim = input_dim\n",
        "        self.hidden_dim1 = hidden_dim1\n",
        "        self.output_dim = output_dim\n",
        "        self.seq_len = seq_len\n",
        "\n",
        "        self.num_layers = num_layers\n",
        "\n",
        "        # define LSTM layer\n",
        "        self.lstm = nn.LSTM(self.input_dim, self.hidden_dim1, self.num_layers)\n",
        "\n",
        "        # define output layer\n",
        "        self.linear1 = nn.Linear(self.hidden_dim1, self.output_dim)\n",
        "        #self.linear2 = nn.Linear(self.hidden_dim2, self.output_dim)\n",
        "\n",
        "    def init_hidden(self):\n",
        "        return (torch.zeros(self.num_layers, self.seq_len, self.hidden_dim1),\n",
        "                torch.zeros(self.num_layers, self.seq_len, self.hidden_dim1))\n",
        "    \n",
        "    def forward(self, input):\n",
        "        # lstm_out shape: [input_size, batch_size, hidden_dim]\n",
        "        # self.hidden shape: (a, b)\n",
        "        # where a and b both have shape (num_layers, batch_size, hidden_dim)\n",
        "        #print(input.shape)\n",
        "        lstm_out, self.hidden = self.lstm(\n",
        "            input.reshape(len(input), self.seq_len, -1))\n",
        "        y_pred = self.linear1(lstm_out.view(self.seq_len, len(input), -1)[-1])\n",
        "        return y_pred.reshape((-1, self.output_dim))\n",
        "\n",
        "\n",
        "def sliding_windows(X, Y, seq_length):\n",
        "    xs = []\n",
        "    ys = []\n",
        "    for i in range(len(X) - seq_length - 1):\n",
        "        x = X[i:(i+seq_length)]\n",
        "        y = Y[i+seq_length]\n",
        "        xs.append(x)\n",
        "        ys.append(y)\n",
        "    return torch.from_numpy(np.array(xs)), torch.from_numpy(np.array(ys))\n",
        "\n",
        "\n"
      ],
      "execution_count": 0,
      "outputs": []
    },
    {
      "cell_type": "code",
      "metadata": {
        "id": "UmoJzlYTPUW-",
        "colab_type": "code",
        "outputId": "21358a1f-186a-4bd4-f5ac-fc13d2eb2862",
        "colab": {
          "base_uri": "https://localhost:8080/",
          "height": 1000
        }
      },
      "source": [
        "def build_state_model(state):\n",
        "    for region in [state]:\n",
        "        print(f\"starting {region}\")\n",
        "        input_params = [\n",
        "            'driving_percent', 'retail_and_recreation_percent_change_from_baseline', \n",
        "            'grocery_and_pharmacy_percent_change_from_baseline', \n",
        "            'transit_stations_percent_change_from_baseline',\n",
        "            'workplaces_percent_change_from_baseline', \n",
        "            'residential_percent_change_from_baseline', \n",
        "            'lockdown_level',\n",
        "            'hospitalBedCapacity', 'ICUBedsInUse',\n",
        "            'cumulativeDeaths', 'cumulativeInfected',\n",
        "            'poverty', 'age', 'income',\n",
        "            'healthcare', 'healthcareLow', 'healthcareHigh',\n",
        "            'obesity', 'smokes', 'smokesLow', 'smokesHigh',\n",
        "            'Density per square mile of land area']\n",
        "        output_params = ['RtIndicator', 'positive_test_rate']\n",
        "        seq_len = 30\n",
        "        X = inputs[region][input_params].values.astype('float32')\n",
        "        X = preprocessing.StandardScaler().fit(X).transform(X)\n",
        "        Y = inputs[region][output_params].values.astype('float32')\n",
        "        X_lstm, y_lstm = sliding_windows(X, Y, seq_len)\n",
        "        \n",
        "        hidden1 = 20\n",
        "        print(len(input_params))\n",
        "        model = LSTM(len(input_params), hidden_dim1 = hidden1, seq_len = seq_len, output_dim = len(output_params), num_layers=2)\n",
        "\n",
        "        loss_fn = torch.nn.MSELoss(size_average=True)\n",
        "        learning_rate = 1e-3\n",
        "        num_epochs = 2000\n",
        "        optimiser = torch.optim.Adam(model.parameters(), lr=learning_rate)\n",
        "        \n",
        "        #####################\n",
        "        # Train model\n",
        "        #####################\n",
        "        \n",
        "        hist = np.zeros(num_epochs)\n",
        "        losses = [] \n",
        "        for t in range(num_epochs):\n",
        "            # Clear stored gradient\n",
        "\n",
        "            model.zero_grad()\n",
        "            \n",
        "            # Initialise hidden state\n",
        "            # Don't do this if you want your LSTM to be stateful\n",
        "            model.hidden = model.init_hidden()\n",
        "            \n",
        "            # Forward pass\n",
        "            y_pred = model(X_lstm)\n",
        "        \n",
        "            loss = loss_fn(y_pred, y_lstm)\n",
        "            losses.append(loss)\n",
        "            if t % 500 == 0:\n",
        "                print(\"Epoch \", t, \"MSE: \", loss.item())\n",
        "            hist[t] = loss.item()\n",
        "        \n",
        "            # Zero out gradient, else they will accumulate between epochs\n",
        "            optimiser.zero_grad()\n",
        "        \n",
        "            # Backward pass\n",
        "            loss.backward()\n",
        "        \n",
        "            # Update parameters\n",
        "            optimiser.step()\n",
        "        plt.plot(losses)\n",
        "        plt.title(region)\n",
        "        plt.show()\n",
        "        print(\"prediction vs actual:\")\n",
        "        pprint.pprint(list(zip(y_pred.data, inputs[state][output_params].values[-seq_len:])))\n",
        "\n",
        "for state in USA:\n",
        "    build_state_model(state)"
      ],
      "execution_count": 0,
      "outputs": [
        {
          "output_type": "stream",
          "text": [
            "starting Delaware\n",
            "22\n",
            "Epoch  0 MSE:  0.705196738243103\n"
          ],
          "name": "stdout"
        },
        {
          "output_type": "stream",
          "text": [
            "/usr/local/lib/python3.6/dist-packages/torch/nn/_reduction.py:43: UserWarning: size_average and reduce args will be deprecated, please use reduction='mean' instead.\n",
            "  warnings.warn(warning.format(ret))\n"
          ],
          "name": "stderr"
        },
        {
          "output_type": "stream",
          "text": [
            "Epoch  500 MSE:  0.00011932542838621885\n",
            "Epoch  1000 MSE:  4.541972521110438e-05\n",
            "Epoch  1500 MSE:  3.12026750179939e-05\n"
          ],
          "name": "stdout"
        },
        {
          "output_type": "display_data",
          "data": {
            "image/png": "[encoded data removed]",
            "text/plain": [
              "<Figure size 432x288 with 1 Axes>"
            ]
          },
          "metadata": {
            "tags": [],
            "needs_background": "light"
          }
        },
        {
          "output_type": "stream",
          "text": [
            "prediction vs actual:\n",
            "[(tensor([1.5782, 0.0927]), array([1.59      , 0.08396076])),\n",
            " (tensor([1.5706, 0.0959]), array([1.64      , 0.07924985])),\n",
            " (tensor([1.5555, 0.0990]), array([1.6       , 0.08264463])),\n",
            " (tensor([1.5223, 0.1032]), array([1.57     , 0.0916963])),\n",
            " (tensor([1.4954, 0.1087]), array([1.58      , 0.09622534])),\n",
            " (tensor([1.4647, 0.1158]), array([1.56      , 0.09622534])),\n",
            " (tensor([1.4393, 0.1230]), array([1.52     , 0.1084619])),\n",
            " (tensor([1.4079, 0.1307]), array([1.49     , 0.1084619])),\n",
            " (tensor([1.3912, 0.1364]), array([1.47      , 0.12204247])),\n",
            " (tensor([1.3662, 0.1374]), array([1.43      , 0.11293757])),\n",
            " (tensor([1.3288, 0.1444]), array([1.41      , 0.13320724])),\n",
            " (tensor([1.3055, 0.1510]), array([1.4       , 0.13320724])),\n",
            " (tensor([1.2908, 0.1556]), array([1.36      , 0.13747885])),\n",
            " (tensor([1.2787, 0.1609]), array([1.33      , 0.14312419])),\n",
            " (tensor([1.2619, 0.1666]), array([1.3       , 0.15371699])),\n",
            " (tensor([1.2580, 0.1701]), array([1.3       , 0.15543071])),\n",
            " (tensor([1.2580, 0.1722]), array([1.28      , 0.16572733])),\n",
            " (tensor([1.2396, 0.1792]), array([1.26      , 0.16572733])),\n",
            " (tensor([1.2322, 0.1867]), array([1.25      , 0.17155604])),\n",
            " (tensor([1.2180, 0.1933]), array([1.26      , 0.16666667])),\n",
            " (tensor([1.2054, 0.1997]), array([1.24      , 0.17597262])),\n",
            " (tensor([1.1911, 0.2067]), array([1.24      , 0.19331843])),\n",
            " (tensor([1.1649, 0.2074]), array([1.21      , 0.19560076])),\n",
            " (tensor([1.1509, 0.2115]), array([1.21      , 0.19805512])),\n",
            " (tensor([1.1076, 0.2161]), array([1.19      , 0.20205673])),\n",
            " (tensor([1.0575, 0.2166]), array([1.16      , 0.20956933]))]\n",
            "starting Colorado\n",
            "22\n",
            "Epoch  0 MSE:  0.6251744031906128\n"
          ],
          "name": "stdout"
        },
        {
          "output_type": "stream",
          "text": [
            "/usr/local/lib/python3.6/dist-packages/torch/nn/_reduction.py:43: UserWarning: size_average and reduce args will be deprecated, please use reduction='mean' instead.\n",
            "  warnings.warn(warning.format(ret))\n"
          ],
          "name": "stderr"
        },
        {
          "output_type": "stream",
          "text": [
            "Epoch  500 MSE:  0.00012535146379377693\n",
            "Epoch  1000 MSE:  3.42913372151088e-05\n",
            "Epoch  1500 MSE:  1.9972443624283187e-05\n"
          ],
          "name": "stdout"
        },
        {
          "output_type": "display_data",
          "data": {
            "image/png": "[encoded data removed]",
            "text/plain": [
              "<Figure size 432x288 with 1 Axes>"
            ]
          },
          "metadata": {
            "tags": [],
            "needs_background": "light"
          }
        },
        {
          "output_type": "stream",
          "text": [
            "prediction vs actual:\n",
            "[(tensor([1.4885, 0.1789]), array([1.54      , 0.17603419])),\n",
            " (tensor([1.4441, 0.1834]), array([1.49      , 0.17924377])),\n",
            " (tensor([1.3967, 0.1880]), array([1.44      , 0.18264661])),\n",
            " (tensor([1.3593, 0.1912]), array([1.4       , 0.18907163])),\n",
            " (tensor([1.3291, 0.1920]), array([1.36      , 0.19100418])),\n",
            " (tensor([1.2958, 0.1927]), array([1.33      , 0.19206146])),\n",
            " (tensor([1.2654, 0.1938]), array([1.29      , 0.19244651])),\n",
            " (tensor([1.2406, 0.1954]), array([1.27      , 0.19324411])),\n",
            " (tensor([1.2198, 0.1971]), array([1.24      , 0.19367102])),\n",
            " (tensor([1.2020, 0.1990]), array([1.22      , 0.19936912])),\n",
            " (tensor([1.1983, 0.1992]), array([1.2       , 0.19936912])),\n",
            " (tensor([1.1845, 0.1986]), array([1.2       , 0.19766008])),\n",
            " (tensor([1.1897, 0.2022]), array([1.18      , 0.20472105])),\n",
            " (tensor([1.1962, 0.2039]), array([1.2      , 0.1985184])),\n",
            " (tensor([1.2008, 0.2050]), array([1.2       , 0.20063163])),\n",
            " (tensor([1.1920, 0.2054]), array([1.19    , 0.204278])),\n",
            " (tensor([1.2025, 0.2095]), array([1.18      , 0.20738704])),\n",
            " (tensor([1.2101, 0.2108]), array([1.21      , 0.20890387])),\n",
            " (tensor([1.2125, 0.2112]), array([1.22      , 0.21147379])),\n",
            " (tensor([1.2033, 0.2118]), array([1.21      , 0.21062886])),\n",
            " (tensor([1.1933, 0.2125]), array([1.2       , 0.21291029])),\n",
            " (tensor([1.1833, 0.2140]), array([1.19      , 0.21449984])),\n",
            " (tensor([1.1715, 0.2153]), array([1.19      , 0.21478922])),\n",
            " (tensor([1.1561, 0.2166]), array([1.17      , 0.21523584])),\n",
            " (tensor([1.1369, 0.2173]), array([1.16      , 0.21581644])),\n",
            " (tensor([1.1177, 0.2165]), array([1.13      , 0.21688883])),\n",
            " (tensor([1.0885, 0.2128]), array([1.12      , 0.21242532])),\n",
            " (tensor([1.0514, 0.2060]), array([1.09      , 0.20920698]))]\n",
            "starting Connecticut\n",
            "22\n",
            "Epoch  0 MSE:  0.7666762471199036\n"
          ],
          "name": "stdout"
        },
        {
          "output_type": "stream",
          "text": [
            "/usr/local/lib/python3.6/dist-packages/torch/nn/_reduction.py:43: UserWarning: size_average and reduce args will be deprecated, please use reduction='mean' instead.\n",
            "  warnings.warn(warning.format(ret))\n"
          ],
          "name": "stderr"
        },
        {
          "output_type": "stream",
          "text": [
            "Epoch  500 MSE:  0.00013427695375867188\n",
            "Epoch  1000 MSE:  9.17047873372212e-05\n",
            "Epoch  1500 MSE:  7.177323277574033e-05\n"
          ],
          "name": "stdout"
        },
        {
          "output_type": "display_data",
          "data": {
            "image/png": "[encoded data removed]",
            "text/plain": [
              "<Figure size 432x288 with 1 Axes>"
            ]
          },
          "metadata": {
            "tags": [],
            "needs_background": "light"
          }
        },
        {
          "output_type": "stream",
          "text": [
            "prediction vs actual:\n",
            "[(tensor([1.7335, 0.2171]), array([1.78      , 0.21427711])),\n",
            " (tensor([1.6941, 0.2284]), array([1.74      , 0.20896175])),\n",
            " (tensor([1.6438, 0.2419]), array([1.69      , 0.24551586])),\n",
            " (tensor([1.6050, 0.2518]), array([1.63      , 0.23950247])),\n",
            " (tensor([1.5715, 0.2595]), array([1.62      , 0.24387624])),\n",
            " (tensor([1.5208, 0.2683]), array([1.57      , 0.25878738])),\n",
            " (tensor([1.4722, 0.2764]), array([1.53      , 0.26797768])),\n",
            " (tensor([1.4302, 0.2827]), array([1.46      , 0.26797768])),\n",
            " (tensor([1.3946, 0.2871]), array([1.42      , 0.29204227])),\n",
            " (tensor([1.3609, 0.2885]), array([1.41      , 0.29039903])),\n",
            " (tensor([1.3323, 0.2905]), array([1.36     , 0.2889709])),\n",
            " (tensor([1.2941, 0.2977]), array([1.33      , 0.29196992])),\n",
            " (tensor([1.2662, 0.3007]), array([1.29      , 0.30199282])),\n",
            " (tensor([1.2519, 0.2995]), array([1.27     , 0.3051635])),\n",
            " (tensor([1.2334, 0.3006]), array([1.24      , 0.29425842])),\n",
            " (tensor([1.2123, 0.3029]), array([1.24      , 0.29900983])),\n",
            " (tensor([1.1865, 0.3061]), array([1.21      , 0.30307237])),\n",
            " (tensor([1.1584, 0.3115]), array([1.2       , 0.30307237])),\n",
            " (tensor([1.1287, 0.3157]), array([1.15      , 0.30147905])),\n",
            " (tensor([1.0986, 0.3189]), array([1.13      , 0.31549533])),\n",
            " (tensor([1.0754, 0.3223]), array([1.1       , 0.31717348])),\n",
            " (tensor([1.0556, 0.3211]), array([1.08      , 0.32136217])),\n",
            " (tensor([1.0341, 0.3199]), array([1.06      , 0.32309048])),\n",
            " (tensor([1.0108, 0.3171]), array([1.03      , 0.32309085])),\n",
            " (tensor([0.9828, 0.3090]), array([1.01      , 0.31677019])),\n",
            " (tensor([0.9514, 0.3056]), array([0.97      , 0.31661049])),\n",
            " (tensor([0.9227, 0.2947]), array([0.96      , 0.31661049])),\n",
            " (tensor([0.8981, 0.2846]), array([0.91      , 0.28370263]))]\n",
            "starting Virginia\n",
            "22\n",
            "Epoch  0 MSE:  0.8374366164207458\n"
          ],
          "name": "stdout"
        },
        {
          "output_type": "stream",
          "text": [
            "/usr/local/lib/python3.6/dist-packages/torch/nn/_reduction.py:43: UserWarning: size_average and reduce args will be deprecated, please use reduction='mean' instead.\n",
            "  warnings.warn(warning.format(ret))\n"
          ],
          "name": "stderr"
        },
        {
          "output_type": "stream",
          "text": [
            "Epoch  500 MSE:  1.765761771821417e-05\n",
            "Epoch  1000 MSE:  1.0620929060678463e-05\n",
            "Epoch  1500 MSE:  8.140772479237057e-06\n"
          ],
          "name": "stdout"
        },
        {
          "output_type": "display_data",
          "data": {
            "image/png": "[encoded data removed]",
            "text/plain": [
              "<Figure size 432x288 with 1 Axes>"
            ]
          },
          "metadata": {
            "tags": [],
            "needs_background": "light"
          }
        },
        {
          "output_type": "stream",
          "text": [
            "prediction vs actual:\n",
            "[(tensor([1.5207, 0.1158]), array([1.73      , 0.09671533])),\n",
            " (tensor([1.4876, 0.1199]), array([1.68      , 0.09699244])),\n",
            " (tensor([1.4548, 0.1233]), array([1.67      , 0.10586688])),\n",
            " (tensor([1.4254, 0.1269]), array([1.61      , 0.11168337])),\n",
            " (tensor([1.3992, 0.1299]), array([1.6       , 0.11140214])),\n",
            " (tensor([1.3640, 0.1360]), array([1.55      , 0.11736879])),\n",
            " (tensor([1.3574, 0.1376]), array([1.52      , 0.11635538])),\n",
            " (tensor([1.3426, 0.1428]), array([1.49      , 0.11894273])),\n",
            " (tensor([1.3257, 0.1475]), array([1.45      , 0.12238842])),\n",
            " (tensor([1.3053, 0.1501]), array([1.43      , 0.12716095])),\n",
            " (tensor([1.2866, 0.1526]), array([1.4       , 0.13360878])),\n",
            " (tensor([1.2717, 0.1539]), array([1.36      , 0.13189946])),\n",
            " (tensor([1.2567, 0.1575]), array([1.36      , 0.13881307])),\n",
            " (tensor([1.2421, 0.1618]), array([1.34      , 0.14430699])),\n",
            " (tensor([1.2325, 0.1632]), array([1.33      , 0.14716204])),\n",
            " (tensor([1.2272, 0.1642]), array([1.3       , 0.14832917])),\n",
            " (tensor([1.2196, 0.1642]), array([1.29      , 0.15288691])),\n",
            " (tensor([1.2205, 0.1639]), array([1.27      , 0.15507115])),\n",
            " (tensor([1.2223, 0.1641]), array([1.26      , 0.15597537])),\n",
            " (tensor([1.2166, 0.1657]), array([1.24      , 0.15845598])),\n",
            " (tensor([1.2111, 0.1690]), array([1.23      , 0.16502725])),\n",
            " (tensor([1.2013, 0.1698]), array([1.23     , 0.1689098])),\n",
            " (tensor([1.1992, 0.1697]), array([1.22      , 0.16471372]))]\n",
            "starting Minnesota\n",
            "22\n",
            "Epoch  0 MSE:  0.7810383439064026\n"
          ],
          "name": "stdout"
        },
        {
          "output_type": "stream",
          "text": [
            "/usr/local/lib/python3.6/dist-packages/torch/nn/_reduction.py:43: UserWarning: size_average and reduce args will be deprecated, please use reduction='mean' instead.\n",
            "  warnings.warn(warning.format(ret))\n"
          ],
          "name": "stderr"
        },
        {
          "output_type": "stream",
          "text": [
            "Epoch  500 MSE:  7.583078695461154e-05\n",
            "Epoch  1000 MSE:  4.4842025090474635e-05\n",
            "Epoch  1500 MSE:  3.016065420524683e-05\n"
          ],
          "name": "stdout"
        },
        {
          "output_type": "display_data",
          "data": {
            "image/png": "[encoded data removed]",
            "text/plain": [
              "<Figure size 432x288 with 1 Axes>"
            ]
          },
          "metadata": {
            "tags": [],
            "needs_background": "light"
          }
        },
        {
          "output_type": "stream",
          "text": [
            "prediction vs actual:\n",
            "[(tensor([1.4158, 0.0313]), array([1.45     , 0.0325138])),\n",
            " (tensor([1.4074, 0.0320]), array([1.42      , 0.03313388])),\n",
            " (tensor([1.3939, 0.0329]), array([1.41      , 0.03256697])),\n",
            " (tensor([1.3816, 0.0363]), array([1.39      , 0.03402431])),\n",
            " (tensor([1.3735, 0.0382]), array([1.37      , 0.03491803])),\n",
            " (tensor([1.3603, 0.0374]), array([1.38      , 0.03505404])),\n",
            " (tensor([1.3475, 0.0375]), array([1.36      , 0.03653452])),\n",
            " (tensor([1.3334, 0.0378]), array([1.35      , 0.03752479])),\n",
            " (tensor([1.3182, 0.0388]), array([1.33      , 0.03845916])),\n",
            " (tensor([1.3043, 0.0387]), array([1.32      , 0.03941701])),\n",
            " (tensor([1.2935, 0.0410]), array([1.31      , 0.04030618])),\n",
            " (tensor([1.2809, 0.0439]), array([1.29      , 0.04331792])),\n",
            " (tensor([1.2732, 0.0466]), array([1.28      , 0.04293856])),\n",
            " (tensor([1.2669, 0.0463]), array([1.28      , 0.04319462])),\n",
            " (tensor([1.2676, 0.0466]), array([1.27      , 0.04495303])),\n",
            " (tensor([1.2708, 0.0470]), array([1.25      , 0.04587882])),\n",
            " (tensor([1.2846, 0.0477]), array([1.28     , 0.0481035])),\n",
            " (tensor([1.2919, 0.0506]), array([1.28      , 0.04999096])),\n",
            " (tensor([1.2811, 0.0535]), array([1.3       , 0.05153557])),\n",
            " (tensor([1.2888, 0.0530]), array([1.28      , 0.05272145])),\n",
            " (tensor([1.3154, 0.0549]), array([1.28     , 0.0538189])),\n",
            " (tensor([1.3523, 0.0568]), array([1.32      , 0.05514348])),\n",
            " (tensor([1.3918, 0.0599]), array([1.36      , 0.05707302])),\n",
            " (tensor([1.4351, 0.0620]), array([1.38      , 0.05921505])),\n",
            " (tensor([1.4593, 0.0627]), array([1.44      , 0.06088662])),\n",
            " (tensor([1.4599, 0.0647]), array([1.46     , 0.0610643])),\n",
            " (tensor([1.4817, 0.0636]), array([1.46      , 0.06228374])),\n",
            " (tensor([1.4992, 0.0674]), array([1.48      , 0.06550314]))]\n",
            "starting Alaska\n",
            "22\n",
            "Epoch  0 MSE:  0.6777728199958801\n"
          ],
          "name": "stdout"
        },
        {
          "output_type": "stream",
          "text": [
            "/usr/local/lib/python3.6/dist-packages/torch/nn/_reduction.py:43: UserWarning: size_average and reduce args will be deprecated, please use reduction='mean' instead.\n",
            "  warnings.warn(warning.format(ret))\n"
          ],
          "name": "stderr"
        },
        {
          "output_type": "stream",
          "text": [
            "Epoch  500 MSE:  5.5410149798262864e-05\n",
            "Epoch  1000 MSE:  3.070502862101421e-05\n",
            "Epoch  1500 MSE:  2.3787852114764974e-05\n"
          ],
          "name": "stdout"
        },
        {
          "output_type": "display_data",
          "data": {
            "image/png": "[encoded data removed]",
            "text/plain": [
              "<Figure size 432x288 with 1 Axes>"
            ]
          },
          "metadata": {
            "tags": [],
            "needs_background": "light"
          }
        },
        {
          "output_type": "stream",
          "text": [
            "prediction vs actual:\n",
            "[(tensor([1.3796, 0.0263]), array([1.42     , 0.0288942])),\n",
            " (tensor([1.3762, 0.0270]), array([1.38      , 0.02847471])),\n",
            " (tensor([1.3633, 0.0278]), array([1.38      , 0.02609707])),\n",
            " (tensor([1.3443, 0.0303]), array([1.36      , 0.02831126])),\n",
            " (tensor([1.3192, 0.0311]), array([1.34      , 0.02943985])),\n",
            " (tensor([1.2954, 0.0291]), array([1.32      , 0.02774953])),\n",
            " (tensor([1.2733, 0.0313]), array([1.3       , 0.03081151])),\n",
            " (tensor([1.2512, 0.0328]), array([1.28     , 0.0319751])),\n",
            " (tensor([1.2289, 0.0339]), array([1.24      , 0.03253496])),\n",
            " (tensor([1.2072, 0.0340]), array([1.22      , 0.03310011])),\n",
            " (tensor([1.1821, 0.0322]), array([1.22      , 0.03323849])),\n",
            " (tensor([1.1698, 0.0358]), array([1.18      , 0.03383926])),\n",
            " (tensor([1.1473, 0.0339]), array([1.18      , 0.03537676])),\n",
            " (tensor([1.1303, 0.0351]), array([1.14      , 0.03413991])),\n",
            " (tensor([1.1117, 0.0333]), array([1.12     , 0.0338181])),\n",
            " (tensor([1.0959, 0.0328]), array([1.12      , 0.03434459])),\n",
            " (tensor([1.0800, 0.0322]), array([1.1       , 0.03269841])),\n",
            " (tensor([1.0636, 0.0293]), array([1.08      , 0.03252201])),\n",
            " (tensor([1.0476, 0.0280]), array([1.06     , 0.0322385])),\n",
            " (tensor([1.0358, 0.0269]), array([1.04      , 0.03170684])),\n",
            " (tensor([1.0311, 0.0290]), array([1.04      , 0.02958899])),\n",
            " (tensor([1.0265, 0.0300]), array([1.04      , 0.02755161])),\n",
            " (tensor([1.0218, 0.0292]), array([1.02      , 0.02771154])),\n",
            " (tensor([1.0198, 0.0261]), array([1.02      , 0.02760362])),\n",
            " (tensor([1.0183, 0.0215]), array([1.02      , 0.02154844])),\n",
            " (tensor([1.0182, 0.0203]), array([1.02      , 0.02107931])),\n",
            " (tensor([1.0208, 0.0196]), array([1.02      , 0.02122293])),\n",
            " (tensor([1.0210, 0.0193]), array([1.02      , 0.02053953]))]\n",
            "starting Arizona\n",
            "22\n",
            "Epoch  0 MSE:  0.6074428558349609\n"
          ],
          "name": "stdout"
        },
        {
          "output_type": "stream",
          "text": [
            "/usr/local/lib/python3.6/dist-packages/torch/nn/_reduction.py:43: UserWarning: size_average and reduce args will be deprecated, please use reduction='mean' instead.\n",
            "  warnings.warn(warning.format(ret))\n"
          ],
          "name": "stderr"
        },
        {
          "output_type": "stream",
          "text": [
            "Epoch  500 MSE:  6.061225212761201e-05\n",
            "Epoch  1000 MSE:  4.0291746699949726e-05\n",
            "Epoch  1500 MSE:  3.1381805456476286e-05\n"
          ],
          "name": "stdout"
        },
        {
          "output_type": "display_data",
          "data": {
            "image/png": "[encoded data removed]",
            "text/plain": [
              "<Figure size 432x288 with 1 Axes>"
            ]
          },
          "metadata": {
            "tags": [],
            "needs_background": "light"
          }
        },
        {
          "output_type": "stream",
          "text": [
            "prediction vs actual:\n",
            "[(tensor([1.5173, 0.0697]), array([1.58      , 0.06710039])),\n",
            " (tensor([1.4723, 0.0729]), array([1.52      , 0.07036858])),\n",
            " (tensor([1.4242, 0.0757]), array([1.47      , 0.07169781])),\n",
            " (tensor([1.3889, 0.0772]), array([1.42      , 0.07433726])),\n",
            " (tensor([1.3610, 0.0780]), array([1.39      , 0.08278001])),\n",
            " (tensor([1.3266, 0.0796]), array([1.37      , 0.07549026])),\n",
            " (tensor([1.3020, 0.0802]), array([1.33      , 0.07715356])),\n",
            " (tensor([1.2827, 0.0808]), array([1.29      , 0.07886819])),\n",
            " (tensor([1.2654, 0.0816]), array([1.27      , 0.08117704])),\n",
            " (tensor([1.2482, 0.0828]), array([1.27      , 0.08247204])),\n",
            " (tensor([1.2358, 0.0844]), array([1.26      , 0.08371577])),\n",
            " (tensor([1.2308, 0.0853]), array([1.24      , 0.08404379])),\n",
            " (tensor([1.2128, 0.0861]), array([1.23      , 0.08540383])),\n",
            " (tensor([1.2024, 0.0868]), array([1.21      , 0.08631168])),\n",
            " (tensor([1.1920, 0.0879]), array([1.2       , 0.08744207])),\n",
            " (tensor([1.1853, 0.0897]), array([1.19      , 0.08932866])),\n",
            " (tensor([1.1762, 0.0918]), array([1.18      , 0.09154987])),\n",
            " (tensor([1.1658, 0.0945]), array([1.19      , 0.09244784])),\n",
            " (tensor([1.1630, 0.0961]), array([1.17      , 0.09301755])),\n",
            " (tensor([1.1591, 0.0970]), array([1.16      , 0.09291743])),\n",
            " (tensor([1.1586, 0.0976]), array([1.16     , 0.0952096])),\n",
            " (tensor([1.1585, 0.0979]), array([1.16      , 0.09644706])),\n",
            " (tensor([1.1601, 0.0985]), array([1.16      , 0.09828441])),\n",
            " (tensor([1.1586, 0.0996]), array([1.15      , 0.09956517])),\n",
            " (tensor([1.1538, 0.1012]), array([1.15      , 0.10046714])),\n",
            " (tensor([1.1577, 0.1018]), array([1.15      , 0.10069278])),\n",
            " (tensor([1.1589, 0.1021]), array([1.15      , 0.10092722])),\n",
            " (tensor([1.1620, 0.1029]), array([1.17      , 0.10302797]))]\n",
            "starting Vermont\n",
            "22\n",
            "Epoch  0 MSE:  0.7482461333274841\n"
          ],
          "name": "stdout"
        },
        {
          "output_type": "stream",
          "text": [
            "/usr/local/lib/python3.6/dist-packages/torch/nn/_reduction.py:43: UserWarning: size_average and reduce args will be deprecated, please use reduction='mean' instead.\n",
            "  warnings.warn(warning.format(ret))\n"
          ],
          "name": "stderr"
        },
        {
          "output_type": "stream",
          "text": [
            "Epoch  500 MSE:  0.00015323875413741916\n",
            "Epoch  1000 MSE:  2.3394275558530353e-05\n",
            "Epoch  1500 MSE:  9.636128197598737e-06\n"
          ],
          "name": "stdout"
        },
        {
          "output_type": "display_data",
          "data": {
            "image/png": "[encoded data removed]",
            "text/plain": [
              "<Figure size 432x288 with 1 Axes>"
            ]
          },
          "metadata": {
            "tags": [],
            "needs_background": "light"
          }
        },
        {
          "output_type": "stream",
          "text": [
            "prediction vs actual:\n",
            "[(tensor([1.1801, 0.0739]), array([1.41      , 0.07141268])),\n",
            " (tensor([1.1685, 0.0711]), array([1.39      , 0.06694395])),\n",
            " (tensor([1.1427, 0.0730]), array([1.39      , 0.07440704])),\n",
            " (tensor([1.1316, 0.0687]), array([1.37      , 0.07888433])),\n",
            " (tensor([1.1198, 0.0661]), array([1.35      , 0.07778791])),\n",
            " (tensor([1.1056, 0.0648]), array([1.32      , 0.08186341])),\n",
            " (tensor([1.0935, 0.0636]), array([1.3       , 0.08065647])),\n",
            " (tensor([1.0848, 0.0633]), array([1.28      , 0.07807459])),\n",
            " (tensor([1.0827, 0.0630]), array([1.26      , 0.07676323])),\n",
            " (tensor([1.0800, 0.0607]), array([1.23      , 0.08248299])),\n",
            " (tensor([1.0759, 0.0600]), array([1.2       , 0.07679844])),\n",
            " (tensor([1.0738, 0.0594]), array([1.18      , 0.07387461])),\n",
            " (tensor([1.0725, 0.0589]), array([1.17      , 0.07215898])),\n",
            " (tensor([1.0649, 0.0586]), array([1.14      , 0.07104393])),\n",
            " (tensor([1.0568, 0.0575]), array([1.13      , 0.06849562])),\n",
            " (tensor([1.0571, 0.0581]), array([1.12      , 0.06674198])),\n",
            " (tensor([1.0593, 0.0568]), array([1.11      , 0.06429515])),\n",
            " (tensor([1.0605, 0.0549]), array([1.1       , 0.06390259]))]\n",
            "starting Wisconsin\n",
            "22\n",
            "Epoch  0 MSE:  1.1096265316009521\n"
          ],
          "name": "stdout"
        },
        {
          "output_type": "stream",
          "text": [
            "/usr/local/lib/python3.6/dist-packages/torch/nn/_reduction.py:43: UserWarning: size_average and reduce args will be deprecated, please use reduction='mean' instead.\n",
            "  warnings.warn(warning.format(ret))\n"
          ],
          "name": "stderr"
        },
        {
          "output_type": "stream",
          "text": [
            "Epoch  500 MSE:  5.979686466162093e-05\n",
            "Epoch  1000 MSE:  2.231107464467641e-05\n",
            "Epoch  1500 MSE:  1.9017033991985954e-05\n"
          ],
          "name": "stdout"
        },
        {
          "output_type": "display_data",
          "data": {
            "image/png": "[encoded data removed]",
            "text/plain": [
              "<Figure size 432x288 with 1 Axes>"
            ]
          },
          "metadata": {
            "tags": [],
            "needs_background": "light"
          }
        },
        {
          "output_type": "stream",
          "text": [
            "prediction vs actual:\n",
            "[(tensor([1.5453, 0.0788]), array([1.59      , 0.07609603])),\n",
            " (tensor([1.5017, 0.0793]), array([1.55      , 0.07846873])),\n",
            " (tensor([1.4501, 0.0806]), array([1.49      , 0.07871876])),\n",
            " (tensor([1.4167, 0.0822]), array([1.46      , 0.08132147])),\n",
            " (tensor([1.3889, 0.0833]), array([1.41      , 0.08262866])),\n",
            " (tensor([1.3557, 0.0841]), array([1.4       , 0.08409733])),\n",
            " (tensor([1.3204, 0.0844]), array([1.35      , 0.08292055])),\n",
            " (tensor([1.2855, 0.0839]), array([1.32     , 0.0838429])),\n",
            " (tensor([1.2572, 0.0842]), array([1.28      , 0.08408872])),\n",
            " (tensor([1.2353, 0.0841]), array([1.26      , 0.08453421])),\n",
            " (tensor([1.2028, 0.0858]), array([1.24      , 0.08479139])),\n",
            " (tensor([1.1843, 0.0826]), array([1.2       , 0.08510584])),\n",
            " (tensor([1.1724, 0.0868]), array([1.18   , 0.08528])),\n",
            " (tensor([1.1620, 0.0875]), array([1.18      , 0.08555545])),\n",
            " (tensor([1.1509, 0.0881]), array([1.16     , 0.0864404])),\n",
            " (tensor([1.1454, 0.0876]), array([1.15      , 0.08640103])),\n",
            " (tensor([1.1483, 0.0872]), array([1.14      , 0.08715794])),\n",
            " (tensor([1.1536, 0.0892]), array([1.15      , 0.08718673])),\n",
            " (tensor([1.1490, 0.0870]), array([1.16      , 0.08749925])),\n",
            " (tensor([1.1483, 0.0867]), array([1.15      , 0.08803961])),\n",
            " (tensor([1.1501, 0.0881]), array([1.15      , 0.08806542])),\n",
            " (tensor([1.1535, 0.0886]), array([1.14      , 0.08914936])),\n",
            " (tensor([1.1594, 0.0890]), array([1.15      , 0.08940327])),\n",
            " (tensor([1.1701, 0.0900]), array([1.17      , 0.08937242])),\n",
            " (tensor([1.1755, 0.0916]), array([1.17      , 0.09052129])),\n",
            " (tensor([1.1687, 0.0905]), array([1.17      , 0.09073466])),\n",
            " (tensor([1.1700, 0.0887]), array([1.17      , 0.09023326])),\n",
            " (tensor([1.1691, 0.0908]), array([1.17      , 0.09006932]))]\n",
            "starting Oregon\n",
            "22\n",
            "Epoch  0 MSE:  0.5363517999649048\n"
          ],
          "name": "stdout"
        },
        {
          "output_type": "stream",
          "text": [
            "/usr/local/lib/python3.6/dist-packages/torch/nn/_reduction.py:43: UserWarning: size_average and reduce args will be deprecated, please use reduction='mean' instead.\n",
            "  warnings.warn(warning.format(ret))\n"
          ],
          "name": "stderr"
        },
        {
          "output_type": "stream",
          "text": [
            "Epoch  500 MSE:  0.00010116164048667997\n",
            "Epoch  1000 MSE:  7.329639629460871e-05\n",
            "Epoch  1500 MSE:  4.7949601139407605e-05\n"
          ],
          "name": "stdout"
        },
        {
          "output_type": "display_data",
          "data": {
            "image/png": "[encoded data removed]",
            "text/plain": [
              "<Figure size 432x288 with 1 Axes>"
            ]
          },
          "metadata": {
            "tags": [],
            "needs_background": "light"
          }
        },
        {
          "output_type": "stream",
          "text": [
            "prediction vs actual:\n",
            "[(tensor([1.2968, 0.0555]), array([1.38      , 0.05305652])),\n",
            " (tensor([1.2745, 0.0543]), array([1.35      , 0.05135219])),\n",
            " (tensor([1.2572, 0.0517]), array([1.32      , 0.05156591])),\n",
            " (tensor([1.2386, 0.0508]), array([1.3       , 0.05697502])),\n",
            " (tensor([1.2165, 0.0502]), array([1.27      , 0.05178433])),\n",
            " (tensor([1.1943, 0.0500]), array([1.26      , 0.05192422])),\n",
            " (tensor([1.1718, 0.0500]), array([1.23     , 0.0513322])),\n",
            " (tensor([1.1518, 0.0510]), array([1.22      , 0.05043967])),\n",
            " (tensor([1.1419, 0.0530]), array([1.21     , 0.0515472])),\n",
            " (tensor([1.1212, 0.0520]), array([1.16     , 0.0515472])),\n",
            " (tensor([1.1179, 0.0512]), array([1.15      , 0.05035998])),\n",
            " (tensor([1.1142, 0.0512]), array([1.14      , 0.05131393])),\n",
            " (tensor([1.1112, 0.0510]), array([1.12      , 0.05089811])),\n",
            " (tensor([1.1052, 0.0507]), array([1.12      , 0.05045886])),\n",
            " (tensor([1.0992, 0.0497]), array([1.11      , 0.04986357])),\n",
            " (tensor([1.0895, 0.0492]), array([1.11      , 0.04968802])),\n",
            " (tensor([1.0867, 0.0469]), array([1.11      , 0.04914512])),\n",
            " (tensor([1.0805, 0.0450]), array([1.1       , 0.04906474])),\n",
            " (tensor([1.0632, 0.0456]), array([1.1       , 0.04892669])),\n",
            " (tensor([1.0443, 0.0469]), array([1.09      , 0.04884505])),\n",
            " (tensor([1.0385, 0.0472]), array([1.09     , 0.0486773])),\n",
            " (tensor([1.0305, 0.0478]), array([1.04      , 0.04999393])),\n",
            " (tensor([1.0350, 0.0482]), array([1.04      , 0.04836729])),\n",
            " (tensor([1.0393, 0.0476]), array([1.04      , 0.04785457])),\n",
            " (tensor([1.0288, 0.0473]), array([1.04      , 0.04755472])),\n",
            " (tensor([1.0413, 0.0466]), array([1.02      , 0.04719794]))]\n",
            "starting Wyoming\n",
            "22\n",
            "Epoch  0 MSE:  0.8608847260475159\n"
          ],
          "name": "stdout"
        },
        {
          "output_type": "stream",
          "text": [
            "/usr/local/lib/python3.6/dist-packages/torch/nn/_reduction.py:43: UserWarning: size_average and reduce args will be deprecated, please use reduction='mean' instead.\n",
            "  warnings.warn(warning.format(ret))\n"
          ],
          "name": "stderr"
        },
        {
          "output_type": "stream",
          "text": [
            "Epoch  500 MSE:  0.0007846454973332584\n",
            "Epoch  1000 MSE:  3.6225806979928166e-05\n",
            "Epoch  1500 MSE:  1.8342436305829324e-05\n"
          ],
          "name": "stdout"
        },
        {
          "output_type": "display_data",
          "data": {
            "image/png": "[encoded data removed]",
            "text/plain": [
              "<Figure size 432x288 with 1 Axes>"
            ]
          },
          "metadata": {
            "tags": [],
            "needs_background": "light"
          }
        },
        {
          "output_type": "stream",
          "text": [
            "prediction vs actual:\n",
            "[(tensor([1.2615, 0.0525]), array([1.48      , 0.05536627])),\n",
            " (tensor([1.2383, 0.0511]), array([1.48      , 0.05793743])),\n",
            " (tensor([1.2161, 0.0493]), array([1.42      , 0.05652477])),\n",
            " (tensor([1.1864, 0.0502]), array([1.4       , 0.05970626])),\n",
            " (tensor([1.1615, 0.0472]), array([1.36      , 0.06085882])),\n",
            " (tensor([1.1284, 0.0458]), array([1.34      , 0.05344871])),\n",
            " (tensor([1.1051, 0.0451]), array([1.32      , 0.05393258])),\n",
            " (tensor([1.0857, 0.0445]), array([1.26      , 0.05437992])),\n",
            " (tensor([1.0624, 0.0441]), array([1.26      , 0.05542169])),\n",
            " (tensor([1.0584, 0.0438]), array([1.24      , 0.05071157])),\n",
            " (tensor([1.0576, 0.0420]), array([1.22      , 0.04781095])),\n",
            " (tensor([1.0572, 0.0421]), array([1.18      , 0.04781095])),\n",
            " (tensor([1.0651, 0.0433]), array([1.16      , 0.04610999])),\n",
            " (tensor([1.0751, 0.0446]), array([1.14      , 0.04610999])),\n",
            " (tensor([1.0804, 0.0451]), array([1.1       , 0.04534682])),\n",
            " (tensor([1.0805, 0.0449]), array([1.08     , 0.0460557])),\n",
            " (tensor([1.0785, 0.0445]), array([1.06     , 0.0460557])),\n",
            " (tensor([1.0802, 0.0436]), array([1.06     , 0.0467648])),\n",
            " (tensor([1.0858, 0.0460]), array([1.06      , 0.04243923])),\n",
            " (tensor([1.0920, 0.0486]), array([1.06      , 0.04237747])),\n",
            " (tensor([1.1038, 0.0511]), array([1.06      , 0.04198924]))]\n",
            "starting New York\n",
            "22\n",
            "Epoch  0 MSE:  0.5503917336463928\n"
          ],
          "name": "stdout"
        },
        {
          "output_type": "stream",
          "text": [
            "/usr/local/lib/python3.6/dist-packages/torch/nn/_reduction.py:43: UserWarning: size_average and reduce args will be deprecated, please use reduction='mean' instead.\n",
            "  warnings.warn(warning.format(ret))\n"
          ],
          "name": "stderr"
        },
        {
          "output_type": "stream",
          "text": [
            "Epoch  500 MSE:  0.00023037406208459288\n",
            "Epoch  1000 MSE:  0.00011957262904616073\n",
            "Epoch  1500 MSE:  7.185731374192983e-05\n"
          ],
          "name": "stdout"
        },
        {
          "output_type": "display_data",
          "data": {
            "image/png": "[encoded data removed]",
            "text/plain": [
              "<Figure size 432x288 with 1 Axes>"
            ]
          },
          "metadata": {
            "tags": [],
            "needs_background": "light"
          }
        },
        {
          "output_type": "stream",
          "text": [
            "prediction vs actual:\n",
            "[(tensor([1.4994, 0.3866]), array([1.57      , 0.37899312])),\n",
            " (tensor([1.4541, 0.3937]), array([1.5       , 0.38658799])),\n",
            " (tensor([1.3944, 0.4017]), array([1.45      , 0.39483725])),\n",
            " (tensor([1.3125, 0.4051]), array([1.4      , 0.4009012])),\n",
            " (tensor([1.2406, 0.4057]), array([1.31      , 0.40370187])),\n",
            " (tensor([1.2036, 0.4085]), array([1.25      , 0.40737069])),\n",
            " (tensor([1.1718, 0.4091]), array([1.18      , 0.40835093])),\n",
            " (tensor([1.1357, 0.4082]), array([1.18      , 0.40891352])),\n",
            " (tensor([1.0876, 0.4083]), array([1.15     , 0.4084725])),\n",
            " (tensor([1.0232, 0.4090]), array([1.08     , 0.4080357])),\n",
            " (tensor([0.9641, 0.4101]), array([1.02      , 0.40922037])),\n",
            " (tensor([0.9135, 0.4061]), array([0.97      , 0.40878161])),\n",
            " (tensor([0.8718, 0.4065]), array([0.9       , 0.40771014])),\n",
            " (tensor([0.8445, 0.4061]), array([0.89      , 0.40511036])),\n",
            " (tensor([0.8287, 0.4035]), array([0.84      , 0.40641468])),\n",
            " (tensor([0.8215, 0.4010]), array([0.83      , 0.40372771])),\n",
            " (tensor([0.8157, 0.3967]), array([0.81      , 0.40061547])),\n",
            " (tensor([0.8307, 0.3963]), array([0.81      , 0.39684711])),\n",
            " (tensor([0.8415, 0.3921]), array([0.85      , 0.39314069])),\n",
            " (tensor([0.8272, 0.3845]), array([0.84      , 0.39048309])),\n",
            " (tensor([0.8142, 0.3805]), array([0.83      , 0.38761791])),\n",
            " (tensor([0.8061, 0.3756]), array([0.82      , 0.38391479])),\n",
            " (tensor([0.8012, 0.3710]), array([0.78    , 0.378578])),\n",
            " (tensor([0.7946, 0.3668]), array([0.8       , 0.37170707])),\n",
            " (tensor([0.8046, 0.3582]), array([0.81      , 0.36285315])),\n",
            " (tensor([0.8101, 0.3556]), array([0.81      , 0.35766437])),\n",
            " (tensor([0.7939, 0.3501]), array([0.8      , 0.3534654])),\n",
            " (tensor([0.7833, 0.3409]), array([0.8       , 0.34924035]))]\n",
            "starting Washington\n",
            "22\n",
            "Epoch  0 MSE:  0.5074707269668579\n"
          ],
          "name": "stdout"
        },
        {
          "output_type": "stream",
          "text": [
            "/usr/local/lib/python3.6/dist-packages/torch/nn/_reduction.py:43: UserWarning: size_average and reduce args will be deprecated, please use reduction='mean' instead.\n",
            "  warnings.warn(warning.format(ret))\n"
          ],
          "name": "stderr"
        },
        {
          "output_type": "stream",
          "text": [
            "Epoch  500 MSE:  0.00018842970894183964\n",
            "Epoch  1000 MSE:  0.00011388787970645353\n",
            "Epoch  1500 MSE:  8.782064105616882e-05\n"
          ],
          "name": "stdout"
        },
        {
          "output_type": "display_data",
          "data": {
            "image/png": "[encoded data removed]",
            "text/plain": [
              "<Figure size 432x288 with 1 Axes>"
            ]
          },
          "metadata": {
            "tags": [],
            "needs_background": "light"
          }
        },
        {
          "output_type": "stream",
          "text": [
            "prediction vs actual:\n",
            "[(tensor([1.1950, 0.0736]), array([1.22      , 0.07340314])),\n",
            " (tensor([1.1709, 0.0754]), array([1.19      , 0.07350025])),\n",
            " (tensor([1.1411, 0.0769]), array([1.18      , 0.07528801])),\n",
            " (tensor([1.1062, 0.0773]), array([1.14     , 0.0769041])),\n",
            " (tensor([1.0762, 0.0774]), array([1.1       , 0.07906869])),\n",
            " (tensor([1.0435, 0.0776]), array([1.08      , 0.07865449])),\n",
            " (tensor([1.0149, 0.0783]), array([1.05      , 0.07814237])),\n",
            " (tensor([0.9852, 0.0781]), array([1.02     , 0.0780444])),\n",
            " (tensor([0.9580, 0.0784]), array([0.97      , 0.07778033])),\n",
            " (tensor([0.9329, 0.0791]), array([0.95      , 0.07868637])),\n",
            " (tensor([0.9092, 0.0791]), array([0.94      , 0.07914453])),\n",
            " (tensor([0.8892, 0.0800]), array([0.93      , 0.08002709])),\n",
            " (tensor([0.8750, 0.0786]), array([0.89      , 0.07908537])),\n",
            " (tensor([0.8647, 0.0770]), array([0.86      , 0.07823899])),\n",
            " (tensor([0.8528, 0.0756]), array([0.86      , 0.07820867])),\n",
            " (tensor([0.8447, 0.0762]), array([0.87      , 0.07764179])),\n",
            " (tensor([0.8455, 0.0780]), array([0.87      , 0.07759033])),\n",
            " (tensor([0.8528, 0.0787]), array([0.82      , 0.07784749])),\n",
            " (tensor([0.8631, 0.0775]), array([0.84      , 0.07868925])),\n",
            " (tensor([0.8792, 0.0772]), array([0.86      , 0.07776273])),\n",
            " (tensor([0.9056, 0.0771]), array([0.9       , 0.07672697])),\n",
            " (tensor([0.9350, 0.0764]), array([0.9      , 0.0761175])),\n",
            " (tensor([0.9545, 0.0756]), array([0.94      , 0.07571476])),\n",
            " (tensor([0.9634, 0.0765]), array([0.96      , 0.07605674])),\n",
            " (tensor([0.9634, 0.0770]), array([0.96      , 0.07706908])),\n",
            " (tensor([0.9663, 0.0758]), array([0.96      , 0.07706908])),\n",
            " (tensor([0.9776, 0.0766]), array([0.98      , 0.07705283])),\n",
            " (tensor([0.9727, 0.0741]), array([0.98      , 0.07616917]))]\n",
            "starting South Dakota\n",
            "22\n",
            "Epoch  0 MSE:  0.7496669888496399\n"
          ],
          "name": "stdout"
        },
        {
          "output_type": "stream",
          "text": [
            "/usr/local/lib/python3.6/dist-packages/torch/nn/_reduction.py:43: UserWarning: size_average and reduce args will be deprecated, please use reduction='mean' instead.\n",
            "  warnings.warn(warning.format(ret))\n"
          ],
          "name": "stderr"
        },
        {
          "output_type": "stream",
          "text": [
            "Epoch  500 MSE:  0.000704342732205987\n",
            "Epoch  1000 MSE:  0.00027755129849538207\n",
            "Epoch  1500 MSE:  8.109304326353595e-05\n"
          ],
          "name": "stdout"
        },
        {
          "output_type": "display_data",
          "data": {
            "image/png": "[encoded data removed]",
            "text/plain": [
              "<Figure size 432x288 with 1 Axes>"
            ]
          },
          "metadata": {
            "tags": [],
            "needs_background": "light"
          }
        },
        {
          "output_type": "stream",
          "text": [
            "prediction vs actual:\n",
            "[(tensor([1.1783, 0.1382]), array([1.74      , 0.03199405])),\n",
            " (tensor([1.1461, 0.1367]), array([1.78      , 0.03765404])),\n",
            " (tensor([1.0927, 0.1379]), array([1.74      , 0.03912134])),\n",
            " (tensor([1.0847, 0.1400]), array([1.76      , 0.04058193])),\n",
            " (tensor([1.2766, 0.1364]), array([1.78      , 0.04291078])),\n",
            " (tensor([1.2538, 0.1368]), array([1.78      , 0.04784053])),\n",
            " (tensor([1.2269, 0.1369]), array([1.78      , 0.05105297])),\n",
            " (tensor([1.2315, 0.1392]), array([1.78      , 0.05823948])),\n",
            " (tensor([1.2195, 0.1407]), array([1.78      , 0.06254372]))]\n",
            "starting Nebraska\n",
            "22\n",
            "Epoch  0 MSE:  0.7550100684165955\n"
          ],
          "name": "stdout"
        },
        {
          "output_type": "stream",
          "text": [
            "/usr/local/lib/python3.6/dist-packages/torch/nn/_reduction.py:43: UserWarning: size_average and reduce args will be deprecated, please use reduction='mean' instead.\n",
            "  warnings.warn(warning.format(ret))\n"
          ],
          "name": "stderr"
        },
        {
          "output_type": "stream",
          "text": [
            "Epoch  500 MSE:  9.351602056995034e-05\n",
            "Epoch  1000 MSE:  4.561799141811207e-05\n",
            "Epoch  1500 MSE:  2.471060724928975e-05\n"
          ],
          "name": "stdout"
        },
        {
          "output_type": "display_data",
          "data": {
            "image/png": "[encoded data removed]",
            "text/plain": [
              "<Figure size 432x288 with 1 Axes>"
            ]
          },
          "metadata": {
            "tags": [],
            "needs_background": "light"
          }
        },
        {
          "output_type": "stream",
          "text": [
            "prediction vs actual:\n",
            "[(tensor([1.4696, 0.0746]), array([1.57      , 0.05698779])),\n",
            " (tensor([1.3929, 0.0750]), array([1.56      , 0.05823864])),\n",
            " (tensor([1.4345, 0.0772]), array([1.53      , 0.05853966])),\n",
            " (tensor([1.4211, 0.0779]), array([1.52      , 0.05967652])),\n",
            " (tensor([1.4341, 0.0806]), array([1.5       , 0.06130721])),\n",
            " (tensor([1.4264, 0.0841]), array([1.47      , 0.06026227])),\n",
            " (tensor([1.4431, 0.0899]), array([1.46      , 0.06158721])),\n",
            " (tensor([1.4926, 0.0934]), array([1.44      , 0.06519281])),\n",
            " (tensor([1.4785, 0.0984]), array([1.43      , 0.06530001])),\n",
            " (tensor([1.4582, 0.1038]), array([1.41     , 0.0678854])),\n",
            " (tensor([1.4316, 0.1081]), array([1.41      , 0.07010516])),\n",
            " (tensor([1.4197, 0.1144]), array([1.41      , 0.07398747])),\n",
            " (tensor([1.4208, 0.1194]), array([1.47      , 0.07418884])),\n",
            " (tensor([1.4042, 0.1263]), array([1.39      , 0.07669279])),\n",
            " (tensor([1.3839, 0.1366]), array([1.44      , 0.07681814])),\n",
            " (tensor([1.3662, 0.1399]), array([1.42      , 0.07743615])),\n",
            " (tensor([1.3425, 0.1450]), array([1.43      , 0.08134921]))]\n",
            "starting Rhode Island\n",
            "22\n",
            "Epoch  0 MSE:  1.0199919939041138\n"
          ],
          "name": "stdout"
        },
        {
          "output_type": "stream",
          "text": [
            "/usr/local/lib/python3.6/dist-packages/torch/nn/_reduction.py:43: UserWarning: size_average and reduce args will be deprecated, please use reduction='mean' instead.\n",
            "  warnings.warn(warning.format(ret))\n"
          ],
          "name": "stderr"
        },
        {
          "output_type": "stream",
          "text": [
            "Epoch  500 MSE:  9.19794401852414e-05\n",
            "Epoch  1000 MSE:  4.6710069000255316e-05\n",
            "Epoch  1500 MSE:  2.849519660230726e-05\n"
          ],
          "name": "stdout"
        },
        {
          "output_type": "display_data",
          "data": {
            "image/png": "[encoded data removed]",
            "text/plain": [
              "<Figure size 432x288 with 1 Axes>"
            ]
          },
          "metadata": {
            "tags": [],
            "needs_background": "light"
          }
        },
        {
          "output_type": "stream",
          "text": [
            "prediction vs actual:\n",
            "[(tensor([1.5921, 0.1382]), array([1.7       , 0.12872413])),\n",
            " (tensor([1.5555, 0.1326]), array([1.72      , 0.12961136])),\n",
            " (tensor([1.5161, 0.1317]), array([1.72      , 0.12738052])),\n",
            " (tensor([1.4828, 0.1430]), array([1.67      , 0.12613459])),\n",
            " (tensor([1.4484, 0.1416]), array([1.74      , 0.12839437])),\n",
            " (tensor([1.4518, 0.1370]), array([1.68      , 0.12757929])),\n",
            " (tensor([1.4360, 0.1361]), array([1.67      , 0.11933637])),\n",
            " (tensor([1.4169, 0.1355]), array([1.64      , 0.11951863])),\n",
            " (tensor([1.3729, 0.1359]), array([1.6       , 0.13917318])),\n",
            " (tensor([1.3231, 0.1391]), array([1.59      , 0.14094852])),\n",
            " (tensor([1.2858, 0.1379]), array([1.56      , 0.12901631])),\n",
            " (tensor([1.2607, 0.1381]), array([1.51      , 0.13095823])),\n",
            " (tensor([1.2508, 0.1390]), array([1.49      , 0.14403949])),\n",
            " (tensor([1.2498, 0.1400]), array([1.44      , 0.14196507])),\n",
            " (tensor([1.2401, 0.1396]), array([1.45      , 0.13627061])),\n",
            " (tensor([1.2274, 0.1397]), array([1.45      , 0.13675884])),\n",
            " (tensor([1.1916, 0.1388]), array([1.41      , 0.13578882])),\n",
            " (tensor([1.1463, 0.1382]), array([1.37      , 0.13681228])),\n",
            " (tensor([1.1319, 0.1381]), array([1.33      , 0.13562351])),\n",
            " (tensor([1.1201, 0.1395]), array([1.28      , 0.13727077]))]\n",
            "starting Missouri\n",
            "22\n",
            "Epoch  0 MSE:  0.7136142253875732\n"
          ],
          "name": "stdout"
        },
        {
          "output_type": "stream",
          "text": [
            "/usr/local/lib/python3.6/dist-packages/torch/nn/_reduction.py:43: UserWarning: size_average and reduce args will be deprecated, please use reduction='mean' instead.\n",
            "  warnings.warn(warning.format(ret))\n"
          ],
          "name": "stderr"
        },
        {
          "output_type": "stream",
          "text": [
            "Epoch  500 MSE:  7.20117604942061e-05\n",
            "Epoch  1000 MSE:  4.145861021243036e-05\n",
            "Epoch  1500 MSE:  2.828758988471236e-05\n"
          ],
          "name": "stdout"
        },
        {
          "output_type": "display_data",
          "data": {
            "image/png": "[encoded data removed]",
            "text/plain": [
              "<Figure size 432x288 with 1 Axes>"
            ]
          },
          "metadata": {
            "tags": [],
            "needs_background": "light"
          }
        },
        {
          "output_type": "stream",
          "text": [
            "prediction vs actual:\n",
            "[(tensor([1.2884, 0.0926]), array([1.6       , 0.09072129])),\n",
            " (tensor([1.2462, 0.0917]), array([1.55      , 0.09317685])),\n",
            " (tensor([1.2126, 0.0928]), array([1.51      , 0.09841639])),\n",
            " (tensor([1.1830, 0.0931]), array([1.45      , 0.09198956])),\n",
            " (tensor([1.1797, 0.0954]), array([1.4       , 0.08686557])),\n",
            " (tensor([1.1730, 0.1000]), array([1.39      , 0.09123513])),\n",
            " (tensor([1.1499, 0.1003]), array([1.34      , 0.09499828])),\n",
            " (tensor([1.1230, 0.1021]), array([1.3       , 0.09753738])),\n",
            " (tensor([1.1029, 0.1017]), array([1.29      , 0.09193641])),\n",
            " (tensor([1.0994, 0.1024]), array([1.24      , 0.09324988])),\n",
            " (tensor([1.1030, 0.1036]), array([1.22      , 0.09320856])),\n",
            " (tensor([1.0883, 0.1034]), array([1.18     , 0.0920354])),\n",
            " (tensor([1.0700, 0.1046]), array([1.18      , 0.09659241])),\n",
            " (tensor([1.0622, 0.1041]), array([1.18      , 0.09766977])),\n",
            " (tensor([1.0562, 0.1029]), array([1.14     , 0.0998735])),\n",
            " (tensor([1.0529, 0.1018]), array([1.12      , 0.10091218])),\n",
            " (tensor([1.0587, 0.1019]), array([1.11     , 0.1021521])),\n",
            " (tensor([1.0689, 0.1010]), array([1.1       , 0.10262468])),\n",
            " (tensor([1.0600, 0.1004]), array([1.1       , 0.10512159])),\n",
            " (tensor([1.0344, 0.0999]), array([1.08      , 0.10367236])),\n",
            " (tensor([1.0371, 0.0991]), array([1.08     , 0.1040091]))]\n",
            "starting Illinois\n",
            "22\n",
            "Epoch  0 MSE:  0.8648729920387268\n"
          ],
          "name": "stdout"
        },
        {
          "output_type": "stream",
          "text": [
            "/usr/local/lib/python3.6/dist-packages/torch/nn/_reduction.py:43: UserWarning: size_average and reduce args will be deprecated, please use reduction='mean' instead.\n",
            "  warnings.warn(warning.format(ret))\n"
          ],
          "name": "stderr"
        },
        {
          "output_type": "stream",
          "text": [
            "Epoch  500 MSE:  0.00011663814802886918\n",
            "Epoch  1000 MSE:  7.943248056108132e-05\n",
            "Epoch  1500 MSE:  4.7984038246795535e-05\n"
          ],
          "name": "stdout"
        },
        {
          "output_type": "display_data",
          "data": {
            "image/png": "[encoded data removed]",
            "text/plain": [
              "<Figure size 432x288 with 1 Axes>"
            ]
          },
          "metadata": {
            "tags": [],
            "needs_background": "light"
          }
        },
        {
          "output_type": "stream",
          "text": [
            "prediction vs actual:\n",
            "[(tensor([1.6001, 0.1787]), array([1.66      , 0.17284073])),\n",
            " (tensor([1.5663, 0.1850]), array([1.61      , 0.17626443])),\n",
            " (tensor([1.5283, 0.1894]), array([1.56      , 0.18531469])),\n",
            " (tensor([1.4854, 0.1925]), array([1.53      , 0.19329613])),\n",
            " (tensor([1.4453, 0.1945]), array([1.47      , 0.19083465])),\n",
            " (tensor([1.4102, 0.1975]), array([1.45      , 0.19481427])),\n",
            " (tensor([1.3707, 0.2001]), array([1.42      , 0.19712798])),\n",
            " (tensor([1.3339, 0.2032]), array([1.37      , 0.20086324])),\n",
            " (tensor([1.3001, 0.2060]), array([1.33     , 0.2030993])),\n",
            " (tensor([1.2697, 0.2079]), array([1.3      , 0.2043598])),\n",
            " (tensor([1.2397, 0.2086]), array([1.27      , 0.20814116])),\n",
            " (tensor([1.2211, 0.2070]), array([1.24      , 0.20699856])),\n",
            " (tensor([1.1966, 0.2082]), array([1.22      , 0.20823879])),\n",
            " (tensor([1.1802, 0.2101]), array([1.2       , 0.21015947])),\n",
            " (tensor([1.1703, 0.2118]), array([1.18      , 0.21032421])),\n",
            " (tensor([1.1685, 0.2138]), array([1.17     , 0.2099128])),\n",
            " (tensor([1.1694, 0.2136]), array([1.16      , 0.21184976])),\n",
            " (tensor([1.1707, 0.2150]), array([1.17     , 0.2122209])),\n",
            " (tensor([1.1802, 0.2122]), array([1.18      , 0.21181568])),\n",
            " (tensor([1.1829, 0.2102]), array([1.18      , 0.21237817])),\n",
            " (tensor([1.1846, 0.2090]), array([1.18    , 0.213288])),\n",
            " (tensor([1.1851, 0.2078]), array([1.19      , 0.21362248])),\n",
            " (tensor([1.1840, 0.2069]), array([1.18      , 0.21310208])),\n",
            " (tensor([1.1786, 0.2054]), array([1.18      , 0.20913137])),\n",
            " (tensor([1.1735, 0.2045]), array([1.18      , 0.20720971])),\n",
            " (tensor([1.1643, 0.2025]), array([1.17     , 0.2042456])),\n",
            " (tensor([1.1597, 0.2027]), array([1.18      , 0.20157011])),\n",
            " (tensor([1.1502, 0.2015]), array([1.16      , 0.19861348]))]\n",
            "starting North Carolina\n",
            "22\n",
            "Epoch  0 MSE:  0.977217435836792\n"
          ],
          "name": "stdout"
        },
        {
          "output_type": "stream",
          "text": [
            "/usr/local/lib/python3.6/dist-packages/torch/nn/_reduction.py:43: UserWarning: size_average and reduce args will be deprecated, please use reduction='mean' instead.\n",
            "  warnings.warn(warning.format(ret))\n"
          ],
          "name": "stderr"
        },
        {
          "output_type": "stream",
          "text": [
            "Epoch  500 MSE:  6.314064376056194e-05\n",
            "Epoch  1000 MSE:  3.890271545969881e-05\n",
            "Epoch  1500 MSE:  2.77166000159923e-05\n"
          ],
          "name": "stdout"
        },
        {
          "output_type": "display_data",
          "data": {
            "image/png": "[encoded data removed]",
            "text/plain": [
              "<Figure size 432x288 with 1 Axes>"
            ]
          },
          "metadata": {
            "tags": [],
            "needs_background": "light"
          }
        },
        {
          "output_type": "stream",
          "text": [
            "prediction vs actual:\n",
            "[(tensor([1.4596, 0.0625]), array([1.59      , 0.06035895])),\n",
            " (tensor([1.4484, 0.0672]), array([1.53      , 0.06475121])),\n",
            " (tensor([1.4293, 0.0721]), array([1.51      , 0.06623837])),\n",
            " (tensor([1.3992, 0.0739]), array([1.46      , 0.06195033])),\n",
            " (tensor([1.3718, 0.0749]), array([1.45      , 0.06455238])),\n",
            " (tensor([1.3417, 0.0757]), array([1.42      , 0.07047095])),\n",
            " (tensor([1.3198, 0.0745]), array([1.41      , 0.07840417])),\n",
            " (tensor([1.3102, 0.0694]), array([1.37      , 0.07969851])),\n",
            " (tensor([1.2839, 0.0739]), array([1.34      , 0.07636637])),\n",
            " (tensor([1.2651, 0.0777]), array([1.32      , 0.06779426])),\n",
            " (tensor([1.2386, 0.0766]), array([1.31    , 0.071399])),\n",
            " (tensor([1.2204, 0.0766]), array([1.28      , 0.07274015])),\n",
            " (tensor([1.2102, 0.0768]), array([1.27      , 0.07597653])),\n",
            " (tensor([1.2056, 0.0775]), array([1.24      , 0.07724596])),\n",
            " (tensor([1.2017, 0.0782]), array([1.22      , 0.07553039])),\n",
            " (tensor([1.1907, 0.0812]), array([1.21      , 0.07706192])),\n",
            " (tensor([1.1837, 0.0834]), array([1.2       , 0.08028117])),\n",
            " (tensor([1.1811, 0.0830]), array([1.2      , 0.0805658])),\n",
            " (tensor([1.1719, 0.0821]), array([1.2       , 0.08242777])),\n",
            " (tensor([1.1665, 0.0822]), array([1.18      , 0.08509889])),\n",
            " (tensor([1.1755, 0.0824]), array([1.17      , 0.08341434])),\n",
            " (tensor([1.1666, 0.0811]), array([1.18      , 0.07992384])),\n",
            " (tensor([1.1550, 0.0826]), array([1.17      , 0.07909757])),\n",
            " (tensor([1.1436, 0.0836]), array([1.18      , 0.08005249])),\n",
            " (tensor([1.1324, 0.0830]), array([1.16      , 0.08191707])),\n",
            " (tensor([1.1178, 0.0835]), array([1.17      , 0.08183958]))]\n",
            "starting Texas\n",
            "22\n",
            "Epoch  0 MSE:  0.4191833436489105\n"
          ],
          "name": "stdout"
        },
        {
          "output_type": "stream",
          "text": [
            "/usr/local/lib/python3.6/dist-packages/torch/nn/_reduction.py:43: UserWarning: size_average and reduce args will be deprecated, please use reduction='mean' instead.\n",
            "  warnings.warn(warning.format(ret))\n"
          ],
          "name": "stderr"
        },
        {
          "output_type": "stream",
          "text": [
            "Epoch  500 MSE:  5.376604531193152e-05\n",
            "Epoch  1000 MSE:  4.3170948629267514e-05\n",
            "Epoch  1500 MSE:  3.550454493961297e-05\n"
          ],
          "name": "stdout"
        },
        {
          "output_type": "display_data",
          "data": {
            "image/png": "[encoded data removed]",
            "text/plain": [
              "<Figure size 432x288 with 1 Axes>"
            ]
          },
          "metadata": {
            "tags": [],
            "needs_background": "light"
          }
        },
        {
          "output_type": "stream",
          "text": [
            "prediction vs actual:\n",
            "[(tensor([1.2255, 0.0940]), array([1.44      , 0.08351965])),\n",
            " (tensor([1.1961, 0.0995]), array([1.41      , 0.09212889])),\n",
            " (tensor([1.1692, 0.1029]), array([1.39      , 0.09558138])),\n",
            " (tensor([1.1422, 0.1049]), array([1.36      , 0.09584163])),\n",
            " (tensor([1.1159, 0.1056]), array([1.33      , 0.09602752])),\n",
            " (tensor([1.0979, 0.1034]), array([1.29      , 0.08524198])),\n",
            " (tensor([1.0651, 0.1021]), array([1.26      , 0.09319902])),\n",
            " (tensor([1.0295, 0.1019]), array([1.23      , 0.09716595])),\n",
            " (tensor([0.9979, 0.1019]), array([1.19      , 0.09638759])),\n",
            " (tensor([0.9835, 0.1025]), array([1.17      , 0.10085726])),\n",
            " (tensor([0.9793, 0.1030]), array([1.14      , 0.10421212])),\n",
            " (tensor([0.9772, 0.1044]), array([1.12      , 0.10827652])),\n",
            " (tensor([0.9837, 0.1029]), array([1.09      , 0.10437903])),\n",
            " (tensor([1.0091, 0.0996]), array([1.08      , 0.09984502])),\n",
            " (tensor([1.0281, 0.0973]), array([1.02      , 0.10204861])),\n",
            " (tensor([1.0435, 0.0958]), array([1.        , 0.10378626])),\n",
            " (tensor([1.0595, 0.0934]), array([0.98      , 0.10246201])),\n",
            " (tensor([1.0723, 0.0925]), array([0.98     , 0.1036093])),\n",
            " (tensor([1.0642, 0.0895]), array([0.98     , 0.1035685])),\n",
            " (tensor([1.0585, 0.0873]), array([0.98     , 0.1021986])),\n",
            " (tensor([1.0755, 0.0871]), array([1.02     , 0.0983257])),\n",
            " (tensor([1.0862, 0.0842]), array([1.02      , 0.09718936]))]\n",
            "starting Arkansas\n",
            "22\n",
            "Epoch  0 MSE:  0.8662105798721313\n"
          ],
          "name": "stdout"
        },
        {
          "output_type": "stream",
          "text": [
            "/usr/local/lib/python3.6/dist-packages/torch/nn/_reduction.py:43: UserWarning: size_average and reduce args will be deprecated, please use reduction='mean' instead.\n",
            "  warnings.warn(warning.format(ret))\n"
          ],
          "name": "stderr"
        },
        {
          "output_type": "stream",
          "text": [
            "Epoch  500 MSE:  0.00014192622620612383\n",
            "Epoch  1000 MSE:  7.191055192379281e-05\n",
            "Epoch  1500 MSE:  5.142592272022739e-05\n"
          ],
          "name": "stdout"
        },
        {
          "output_type": "display_data",
          "data": {
            "image/png": "[encoded data removed]",
            "text/plain": [
              "<Figure size 432x288 with 1 Axes>"
            ]
          },
          "metadata": {
            "tags": [],
            "needs_background": "light"
          }
        },
        {
          "output_type": "stream",
          "text": [
            "prediction vs actual:\n",
            "[(tensor([1.4202, 0.0762]), array([1.36      , 0.07357017])),\n",
            " (tensor([1.4145, 0.0738]), array([1.42      , 0.07544292])),\n",
            " (tensor([1.3994, 0.0705]), array([1.42     , 0.0725848])),\n",
            " (tensor([1.3855, 0.0685]), array([1.39      , 0.07164899])),\n",
            " (tensor([1.3742, 0.0693]), array([1.39      , 0.07383028])),\n",
            " (tensor([1.3631, 0.0728]), array([1.37      , 0.06811989])),\n",
            " (tensor([1.3418, 0.0715]), array([1.37      , 0.06936501])),\n",
            " (tensor([1.3215, 0.0702]), array([1.34      , 0.06882312])),\n",
            " (tensor([1.3036, 0.0695]), array([1.32      , 0.07484449])),\n",
            " (tensor([1.2821, 0.0674]), array([1.3       , 0.06839953])),\n",
            " (tensor([1.2724, 0.0655]), array([1.29      , 0.06599203])),\n",
            " (tensor([1.2452, 0.0673]), array([1.27      , 0.06490214])),\n",
            " (tensor([1.2408, 0.0705]), array([1.24      , 0.06777543])),\n",
            " (tensor([1.2488, 0.0708]), array([1.24      , 0.07003928])),\n",
            " (tensor([1.2584, 0.0719]), array([1.25     , 0.0718604])),\n",
            " (tensor([1.2641, 0.0718]), array([1.26      , 0.07144432])),\n",
            " (tensor([1.2615, 0.0715]), array([1.26      , 0.07214608])),\n",
            " (tensor([1.2652, 0.0734]), array([1.28      , 0.07203513])),\n",
            " (tensor([1.2666, 0.0750]), array([1.24      , 0.07356768])),\n",
            " (tensor([1.2569, 0.0786]), array([1.28     , 0.0724212])),\n",
            " (tensor([1.2457, 0.0781]), array([1.26      , 0.08115593])),\n",
            " (tensor([1.2339, 0.0763]), array([1.25      , 0.07659947])),\n",
            " (tensor([1.2171, 0.0762]), array([1.23      , 0.07803102])),\n",
            " (tensor([1.2014, 0.0754]), array([1.21      , 0.07704199])),\n",
            " (tensor([1.1878, 0.0756]), array([1.19      , 0.07434368])),\n",
            " (tensor([1.1678, 0.0750]), array([1.2       , 0.07451418])),\n",
            " (tensor([1.1331, 0.0746]), array([1.17    , 0.074573])),\n",
            " (tensor([1.0982, 0.0709]), array([1.14      , 0.07649185]))]\n",
            "starting North Dakota\n",
            "22\n",
            "Epoch  0 MSE:  0.8794075846672058\n"
          ],
          "name": "stdout"
        },
        {
          "output_type": "stream",
          "text": [
            "/usr/local/lib/python3.6/dist-packages/torch/nn/_reduction.py:43: UserWarning: size_average and reduce args will be deprecated, please use reduction='mean' instead.\n",
            "  warnings.warn(warning.format(ret))\n"
          ],
          "name": "stderr"
        },
        {
          "output_type": "stream",
          "text": [
            "Epoch  500 MSE:  0.00032015994656831026\n",
            "Epoch  1000 MSE:  0.00013103582023177296\n",
            "Epoch  1500 MSE:  7.454417209373787e-05\n"
          ],
          "name": "stdout"
        },
        {
          "output_type": "display_data",
          "data": {
            "image/png": "[encoded data removed]",
            "text/plain": [
              "<Figure size 432x288 with 1 Axes>"
            ]
          },
          "metadata": {
            "tags": [],
            "needs_background": "light"
          }
        },
        {
          "output_type": "stream",
          "text": [
            "prediction vs actual:\n",
            "[(tensor([1.3437, 0.0291]), array([1.5       , 0.03160472])),\n",
            " (tensor([1.3217, 0.0299]), array([1.48      , 0.03192771])),\n",
            " (tensor([1.3003, 0.0301]), array([1.44      , 0.02983788])),\n",
            " (tensor([1.2966, 0.0299]), array([1.4       , 0.02996617])),\n",
            " (tensor([1.2963, 0.0293]), array([1.38      , 0.03049948])),\n",
            " (tensor([1.2930, 0.0293]), array([1.34      , 0.03119368])),\n",
            " (tensor([1.3288, 0.0305]), array([1.34      , 0.03076723])),\n",
            " (tensor([1.4229, 0.0315]), array([1.3       , 0.02934986])),\n",
            " (tensor([1.4321, 0.0302]), array([1.28      , 0.02992214])),\n",
            " (tensor([1.4373, 0.0319]), array([1.28      , 0.02893422])),\n",
            " (tensor([1.4078, 0.0353]), array([1.3       , 0.02906746])),\n",
            " (tensor([1.3962, 0.0376]), array([1.34      , 0.02975845])),\n",
            " (tensor([1.3865, 0.0403]), array([1.43      , 0.03070216])),\n",
            " (tensor([1.3815, 0.0428]), array([1.43      , 0.03123855])),\n",
            " (tensor([1.3707, 0.0440]), array([1.42      , 0.03225236])),\n",
            " (tensor([1.3575, 0.0433]), array([1.42      , 0.03357826])),\n",
            " (tensor([1.3442, 0.0424]), array([1.4      , 0.0355696])),\n",
            " (tensor([1.3210, 0.0424]), array([1.39      , 0.04073131])),\n",
            " (tensor([1.3143, 0.0409]), array([1.38      , 0.04292003])),\n",
            " (tensor([1.3040, 0.0408]), array([1.36      , 0.04251712])),\n",
            " (tensor([1.2846, 0.0421]), array([1.36      , 0.04297057])),\n",
            " (tensor([1.2669, 0.0429]), array([1.35      , 0.04355635])),\n",
            " (tensor([1.2488, 0.0415]), array([1.33      , 0.04341702])),\n",
            " (tensor([1.2331, 0.0409]), array([1.31      , 0.04286779]))]\n",
            "starting Louisiana\n",
            "22\n",
            "Epoch  0 MSE:  0.7003164887428284\n"
          ],
          "name": "stdout"
        },
        {
          "output_type": "stream",
          "text": [
            "/usr/local/lib/python3.6/dist-packages/torch/nn/_reduction.py:43: UserWarning: size_average and reduce args will be deprecated, please use reduction='mean' instead.\n",
            "  warnings.warn(warning.format(ret))\n"
          ],
          "name": "stderr"
        },
        {
          "output_type": "stream",
          "text": [
            "Epoch  500 MSE:  3.2400741474702954e-05\n",
            "Epoch  1000 MSE:  2.7093772587249987e-05\n",
            "Epoch  1500 MSE:  2.4517203200957738e-05\n"
          ],
          "name": "stdout"
        },
        {
          "output_type": "display_data",
          "data": {
            "image/png": "[encoded data removed]",
            "text/plain": [
              "<Figure size 432x288 with 1 Axes>"
            ]
          },
          "metadata": {
            "tags": [],
            "needs_background": "light"
          }
        },
        {
          "output_type": "stream",
          "text": [
            "prediction vs actual:\n",
            "[(tensor([1.6327, 0.1788]), array([1.72      , 0.14033555])),\n",
            " (tensor([1.5688, 0.1942]), array([1.63      , 0.17910974])),\n",
            " (tensor([1.4937, 0.2095]), array([1.57      , 0.19194706])),\n",
            " (tensor([1.4217, 0.2159]), array([1.49      , 0.21361414])),\n",
            " (tensor([1.3482, 0.2176]), array([1.42      , 0.21566515])),\n",
            " (tensor([1.2777, 0.2143]), array([1.35      , 0.21494665])),\n",
            " (tensor([1.2094, 0.2131]), array([1.27      , 0.21812337])),\n",
            " (tensor([1.1428, 0.2101]), array([1.21      , 0.20919834])),\n",
            " (tensor([1.0750, 0.2084]), array([1.15      , 0.21034526])),\n",
            " (tensor([1.0340, 0.2063]), array([1.06      , 0.20863676])),\n",
            " (tensor([0.9804, 0.2009]), array([1.04      , 0.20651086])),\n",
            " (tensor([0.9706, 0.1889]), array([0.98     , 0.1979432])),\n",
            " (tensor([0.9337, 0.1832]), array([0.97      , 0.19442877])),\n",
            " (tensor([0.9140, 0.1788]), array([0.93     , 0.1817061])),\n",
            " (tensor([0.9018, 0.1767]), array([0.91      , 0.18003248])),\n",
            " (tensor([0.8984, 0.1760]), array([0.91      , 0.17799757])),\n",
            " (tensor([0.9004, 0.1758]), array([0.9       , 0.17515361])),\n",
            " (tensor([0.9042, 0.1748]), array([0.9      , 0.1708708])),\n",
            " (tensor([0.9114, 0.1746]), array([0.9       , 0.16909769])),\n",
            " (tensor([0.9077, 0.1749]), array([0.91      , 0.17257687])),\n",
            " (tensor([0.9078, 0.1770]), array([0.92      , 0.17449975])),\n",
            " (tensor([0.9098, 0.1773]), array([0.9       , 0.17683465])),\n",
            " (tensor([0.9126, 0.1800]), array([0.91      , 0.17959739])),\n",
            " (tensor([0.9173, 0.1821]), array([0.9      , 0.1818865])),\n",
            " (tensor([0.9256, 0.1822]), array([0.92      , 0.19073107])),\n",
            " (tensor([0.9303, 0.1830]), array([0.93      , 0.18717665])),\n",
            " (tensor([0.9269, 0.1829]), array([0.93      , 0.18414983])),\n",
            " (tensor([0.9307, 0.1837]), array([0.93      , 0.18057284]))]\n",
            "starting Pennsylvania\n",
            "22\n",
            "Epoch  0 MSE:  0.727715790271759\n"
          ],
          "name": "stdout"
        },
        {
          "output_type": "stream",
          "text": [
            "/usr/local/lib/python3.6/dist-packages/torch/nn/_reduction.py:43: UserWarning: size_average and reduce args will be deprecated, please use reduction='mean' instead.\n",
            "  warnings.warn(warning.format(ret))\n"
          ],
          "name": "stderr"
        },
        {
          "output_type": "stream",
          "text": [
            "Epoch  500 MSE:  0.00034717359812930226\n",
            "Epoch  1000 MSE:  0.00010074488818645477\n",
            "Epoch  1500 MSE:  5.197556674829684e-05\n"
          ],
          "name": "stdout"
        },
        {
          "output_type": "display_data",
          "data": {
            "image/png": "[encoded data removed]",
            "text/plain": [
              "<Figure size 432x288 with 1 Axes>"
            ]
          },
          "metadata": {
            "tags": [],
            "needs_background": "light"
          }
        },
        {
          "output_type": "stream",
          "text": [
            "prediction vs actual:\n",
            "[(tensor([1.6715, 0.1349]), array([1.76      , 0.12035578])),\n",
            " (tensor([1.6205, 0.1429]), array([1.72      , 0.12823043])),\n",
            " (tensor([1.5621, 0.1498]), array([1.67      , 0.13555502])),\n",
            " (tensor([1.5078, 0.1538]), array([1.62     , 0.1430387])),\n",
            " (tensor([1.4607, 0.1601]), array([1.57      , 0.14799861])),\n",
            " (tensor([1.4043, 0.1655]), array([1.5       , 0.15479285])),\n",
            " (tensor([1.3420, 0.1705]), array([1.46      , 0.15950174])),\n",
            " (tensor([1.2854, 0.1757]), array([1.41      , 0.16479937])),\n",
            " (tensor([1.2342, 0.1820]), array([1.34      , 0.17261037])),\n",
            " (tensor([1.1904, 0.1850]), array([1.28      , 0.17677559])),\n",
            " (tensor([1.1573, 0.1840]), array([1.24      , 0.18022854])),\n",
            " (tensor([1.1198, 0.1894]), array([1.19      , 0.18282489])),\n",
            " (tensor([1.0976, 0.1929]), array([1.16      , 0.18644446])),\n",
            " (tensor([1.0851, 0.1957]), array([1.11      , 0.18966407])),\n",
            " (tensor([1.0783, 0.1989]), array([1.1       , 0.19253692])),\n",
            " (tensor([1.0761, 0.2032]), array([1.09      , 0.19604863])),\n",
            " (tensor([1.0842, 0.2046]), array([1.08      , 0.19977201])),\n",
            " (tensor([1.0824, 0.2032]), array([1.08      , 0.20179262])),\n",
            " (tensor([1.0732, 0.2052]), array([1.08      , 0.20323064])),\n",
            " (tensor([1.0768, 0.2070]), array([1.07      , 0.20393736])),\n",
            " (tensor([1.0814, 0.2076]), array([1.08      , 0.20693913])),\n",
            " (tensor([1.0901, 0.2079]), array([1.08     , 0.2075182])),\n",
            " (tensor([1.1039, 0.2086]), array([1.08      , 0.20686825])),\n",
            " (tensor([1.0948, 0.2071]), array([1.1       , 0.20764681])),\n",
            " (tensor([1.0621, 0.2063]), array([1.09      , 0.20757768])),\n",
            " (tensor([1.0025, 0.2077]), array([1.09      , 0.20728324])),\n",
            " (tensor([0.9353, 0.2059]), array([1.09      , 0.20671314]))]\n",
            "starting Michigan\n",
            "22\n",
            "Epoch  0 MSE:  0.5615271329879761\n"
          ],
          "name": "stdout"
        },
        {
          "output_type": "stream",
          "text": [
            "/usr/local/lib/python3.6/dist-packages/torch/nn/_reduction.py:43: UserWarning: size_average and reduce args will be deprecated, please use reduction='mean' instead.\n",
            "  warnings.warn(warning.format(ret))\n"
          ],
          "name": "stderr"
        },
        {
          "output_type": "stream",
          "text": [
            "Epoch  500 MSE:  6.276383646763861e-05\n",
            "Epoch  1000 MSE:  2.9567414458142594e-05\n",
            "Epoch  1500 MSE:  2.2229480237001553e-05\n"
          ],
          "name": "stdout"
        },
        {
          "output_type": "display_data",
          "data": {
            "image/png": "[encoded data removed]",
            "text/plain": [
              "<Figure size 432x288 with 1 Axes>"
            ]
          },
          "metadata": {
            "tags": [],
            "needs_background": "light"
          }
        },
        {
          "output_type": "stream",
          "text": [
            "prediction vs actual:\n",
            "[(tensor([1.5970, 0.3163]), array([1.67      , 0.32119626])),\n",
            " (tensor([1.5353, 0.3106]), array([1.6       , 0.31734292])),\n",
            " (tensor([1.4673, 0.3077]), array([1.53      , 0.31176158])),\n",
            " (tensor([1.4111, 0.3036]), array([1.47      , 0.30473978])),\n",
            " (tensor([1.3581, 0.3025]), array([1.41     , 0.3034129])),\n",
            " (tensor([1.3028, 0.3080]), array([1.36      , 0.30417944])),\n",
            " (tensor([1.2494, 0.3111]), array([1.3       , 0.30322916])),\n",
            " (tensor([1.1906, 0.3133]), array([1.25      , 0.31129893])),\n",
            " (tensor([1.1433, 0.3151]), array([1.19      , 0.32069675])),\n",
            " (tensor([1.1039, 0.3172]), array([1.15     , 0.3162373])),\n",
            " (tensor([1.0640, 0.3126]), array([1.1       , 0.31563922])),\n",
            " (tensor([1.0565, 0.3103]), array([1.06      , 0.31015774])),\n",
            " (tensor([1.0350, 0.3143]), array([1.06      , 0.31018586])),\n",
            " (tensor([1.0162, 0.3131]), array([1.04      , 0.31314221])),\n",
            " (tensor([0.9978, 0.3099]), array([1.01      , 0.31281983])),\n",
            " (tensor([0.9862, 0.3056]), array([0.99      , 0.31036421])),\n",
            " (tensor([0.9900, 0.3019]), array([0.99      , 0.30338827])),\n",
            " (tensor([0.9803, 0.2924]), array([1.       , 0.3087529])),\n",
            " (tensor([0.9727, 0.2852]), array([0.98      , 0.28655584])),\n",
            " (tensor([0.9632, 0.2823]), array([0.97      , 0.28120002])),\n",
            " (tensor([0.9658, 0.2780]), array([0.96      , 0.28122601])),\n",
            " (tensor([0.9719, 0.2730]), array([0.96      , 0.28729964])),\n",
            " (tensor([0.9798, 0.2682]), array([0.98      , 0.27502124])),\n",
            " (tensor([0.9828, 0.2618]), array([0.98      , 0.26883401])),\n",
            " (tensor([0.9767, 0.2516]), array([0.98      , 0.25827525])),\n",
            " (tensor([0.9624, 0.2439]), array([0.97      , 0.25017549])),\n",
            " (tensor([0.9445, 0.2394]), array([0.97      , 0.24220335])),\n",
            " (tensor([0.9256, 0.2316]), array([0.95      , 0.23823306]))]\n",
            "starting Idaho\n",
            "22\n",
            "Epoch  0 MSE:  0.6157022714614868\n"
          ],
          "name": "stdout"
        },
        {
          "output_type": "stream",
          "text": [
            "/usr/local/lib/python3.6/dist-packages/torch/nn/_reduction.py:43: UserWarning: size_average and reduce args will be deprecated, please use reduction='mean' instead.\n",
            "  warnings.warn(warning.format(ret))\n"
          ],
          "name": "stderr"
        },
        {
          "output_type": "stream",
          "text": [
            "Epoch  500 MSE:  0.0002001741377171129\n",
            "Epoch  1000 MSE:  0.00014775358431506902\n",
            "Epoch  1500 MSE:  0.00010475262388354167\n"
          ],
          "name": "stdout"
        },
        {
          "output_type": "display_data",
          "data": {
            "image/png": "[encoded data removed]",
            "text/plain": [
              "<Figure size 432x288 with 1 Axes>"
            ]
          },
          "metadata": {
            "tags": [],
            "needs_background": "light"
          }
        },
        {
          "output_type": "stream",
          "text": [
            "prediction vs actual:\n",
            "[(tensor([1.4831, 0.0995]), array([1.55     , 0.0795334])),\n",
            " (tensor([1.4700, 0.1048]), array([1.49      , 0.09187037])),\n",
            " (tensor([1.4420, 0.1078]), array([1.45    , 0.112146])),\n",
            " (tensor([1.4032, 0.1074]), array([1.46      , 0.11420519])),\n",
            " (tensor([1.3551, 0.1052]), array([1.4       , 0.10496053])),\n",
            " (tensor([1.3004, 0.1044]), array([1.35      , 0.10013643])),\n",
            " (tensor([1.2397, 0.1034]), array([1.3       , 0.10403699])),\n",
            " (tensor([1.1858, 0.1016]), array([1.26      , 0.10169776])),\n",
            " (tensor([1.1440, 0.1006]), array([1.17      , 0.09831618])),\n",
            " (tensor([1.1083, 0.0980]), array([1.13      , 0.10332977])),\n",
            " (tensor([1.0955, 0.0964]), array([1.12    , 0.101424])),\n",
            " (tensor([1.0938, 0.0919]), array([1.1       , 0.09833659])),\n",
            " (tensor([1.0860, 0.0943]), array([1.09      , 0.09582689])),\n",
            " (tensor([1.0693, 0.0976]), array([1.09      , 0.09613603])),\n",
            " (tensor([1.0532, 0.1002]), array([1.07      , 0.09507728])),\n",
            " (tensor([1.0401, 0.1015]), array([1.04      , 0.10024635])),\n",
            " (tensor([1.0257, 0.1003]), array([1.06      , 0.09942532])),\n",
            " (tensor([1.0218, 0.0981]), array([1.02      , 0.09964477])),\n",
            " (tensor([1.0274, 0.0997]), array([1.02     , 0.0988796])),\n",
            " (tensor([1.0218, 0.0991]), array([1.02      , 0.09584408])),\n",
            " (tensor([1.0155, 0.0973]), array([1.02      , 0.09830125])),\n",
            " (tensor([1.0208, 0.0982]), array([1.03      , 0.09960519])),\n",
            " (tensor([1.0344, 0.1009]), array([1.02      , 0.09960203])),\n",
            " (tensor([1.0331, 0.0984]), array([1.03      , 0.09617097])),\n",
            " (tensor([1.0246, 0.0945]), array([1.02      , 0.09658592])),\n",
            " (tensor([1.0072, 0.0928]), array([1.02      , 0.09644774])),\n",
            " (tensor([0.9943, 0.0921]), array([1.02      , 0.09535059])),\n",
            " (tensor([0.9227, 0.0718]), array([1.02      , 0.09560144]))]\n",
            "starting Nevada\n",
            "22\n",
            "Epoch  0 MSE:  0.630228579044342\n"
          ],
          "name": "stdout"
        },
        {
          "output_type": "stream",
          "text": [
            "/usr/local/lib/python3.6/dist-packages/torch/nn/_reduction.py:43: UserWarning: size_average and reduce args will be deprecated, please use reduction='mean' instead.\n",
            "  warnings.warn(warning.format(ret))\n"
          ],
          "name": "stderr"
        },
        {
          "output_type": "stream",
          "text": [
            "Epoch  500 MSE:  8.572688238928095e-05\n",
            "Epoch  1000 MSE:  5.7099085097434e-05\n",
            "Epoch  1500 MSE:  5.1275597797939554e-05\n"
          ],
          "name": "stdout"
        },
        {
          "output_type": "display_data",
          "data": {
            "image/png": "[encoded data removed]",
            "text/plain": [
              "<Figure size 432x288 with 1 Axes>"
            ]
          },
          "metadata": {
            "tags": [],
            "needs_background": "light"
          }
        },
        {
          "output_type": "stream",
          "text": [
            "prediction vs actual:\n",
            "[(tensor([1.2701, 0.1118]), array([1.44      , 0.09993749])),\n",
            " (tensor([1.2591, 0.1120]), array([1.42      , 0.10380179])),\n",
            " (tensor([1.2382, 0.1121]), array([1.39      , 0.10418387])),\n",
            " (tensor([1.2135, 0.1123]), array([1.36      , 0.10777702])),\n",
            " (tensor([1.1926, 0.1129]), array([1.3       , 0.10908443])),\n",
            " (tensor([1.1770, 0.1141]), array([1.27      , 0.11078337])),\n",
            " (tensor([1.1506, 0.1148]), array([1.25      , 0.11196953])),\n",
            " (tensor([1.1400, 0.1154]), array([1.26     , 0.1127103])),\n",
            " (tensor([1.1357, 0.1173]), array([1.2       , 0.11281062])),\n",
            " (tensor([1.1284, 0.1178]), array([1.19      , 0.11358741])),\n",
            " (tensor([1.1191, 0.1176]), array([1.17      , 0.11446984])),\n",
            " (tensor([1.1100, 0.1178]), array([1.16      , 0.11523303])),\n",
            " (tensor([1.1032, 0.1189]), array([1.15      , 0.11667452])),\n",
            " (tensor([1.0864, 0.1194]), array([1.13      , 0.11582461])),\n",
            " (tensor([1.0762, 0.1187]), array([1.13     , 0.1161092])),\n",
            " (tensor([1.0746, 0.1195]), array([1.12    , 0.116727])),\n",
            " (tensor([1.0719, 0.1197]), array([1.1       , 0.11840602])),\n",
            " (tensor([1.0653, 0.1198]), array([1.09      , 0.11791486])),\n",
            " (tensor([1.0578, 0.1200]), array([1.1       , 0.11798215])),\n",
            " (tensor([1.0487, 0.1209]), array([1.08      , 0.11840356])),\n",
            " (tensor([1.0295, 0.1211]), array([1.07      , 0.11910452])),\n",
            " (tensor([1.0199, 0.1201]), array([1.07      , 0.12042611])),\n",
            " (tensor([1.0177, 0.1203]), array([1.07      , 0.12109701])),\n",
            " (tensor([0.9948, 0.1202]), array([1.07      , 0.12151857]))]\n",
            "starting Montana\n",
            "22\n",
            "Epoch  0 MSE:  0.3529409170150757\n"
          ],
          "name": "stdout"
        },
        {
          "output_type": "stream",
          "text": [
            "/usr/local/lib/python3.6/dist-packages/torch/nn/_reduction.py:43: UserWarning: size_average and reduce args will be deprecated, please use reduction='mean' instead.\n",
            "  warnings.warn(warning.format(ret))\n"
          ],
          "name": "stderr"
        },
        {
          "output_type": "stream",
          "text": [
            "Epoch  500 MSE:  3.396570900804363e-05\n",
            "Epoch  1000 MSE:  1.6203290215344168e-05\n",
            "Epoch  1500 MSE:  1.1950998668908142e-05\n"
          ],
          "name": "stdout"
        },
        {
          "output_type": "display_data",
          "data": {
            "image/png": "[encoded data removed]",
            "text/plain": [
              "<Figure size 432x288 with 1 Axes>"
            ]
          },
          "metadata": {
            "tags": [],
            "needs_background": "light"
          }
        },
        {
          "output_type": "stream",
          "text": [
            "prediction vs actual:\n",
            "[(tensor([1.2352, 0.0441]), array([1.46      , 0.04229362])),\n",
            " (tensor([1.2088, 0.0455]), array([1.42      , 0.04266917])),\n",
            " (tensor([1.1754, 0.0456]), array([1.36      , 0.04357963])),\n",
            " (tensor([1.1409, 0.0443]), array([1.3       , 0.04290108])),\n",
            " (tensor([1.1196, 0.0418]), array([1.26      , 0.04331365])),\n",
            " (tensor([1.0984, 0.0415]), array([1.26      , 0.04403535])),\n",
            " (tensor([1.0661, 0.0444]), array([1.24      , 0.04566929])),\n",
            " (tensor([1.0521, 0.0433]), array([1.24      , 0.04487699])),\n",
            " (tensor([1.0403, 0.0418]), array([1.2       , 0.04503817])),\n",
            " (tensor([1.0265, 0.0414]), array([1.18     , 0.0439918])),\n",
            " (tensor([1.0171, 0.0394]), array([1.14      , 0.04393427])),\n",
            " (tensor([0.9971, 0.0389]), array([1.12      , 0.04341972])),\n",
            " (tensor([0.9829, 0.0398]), array([1.1       , 0.04330622])),\n",
            " (tensor([0.9807, 0.0391]), array([1.06      , 0.04320988])),\n",
            " (tensor([0.9764, 0.0374]), array([1.06      , 0.04215799])),\n",
            " (tensor([0.9650, 0.0364]), array([1.04      , 0.04176731])),\n",
            " (tensor([0.9525, 0.0365]), array([1.02      , 0.04119485])),\n",
            " (tensor([0.9455, 0.0363]), array([1.02      , 0.04030656])),\n",
            " (tensor([0.9395, 0.0358]), array([1.        , 0.03973206])),\n",
            " (tensor([0.9398, 0.0356]), array([0.98      , 0.03918197])),\n",
            " (tensor([0.9404, 0.0338]), array([0.98      , 0.03887554])),\n",
            " (tensor([0.9396, 0.0325]), array([0.98      , 0.03790037]))]\n",
            "starting District of Columbia\n",
            "22\n",
            "Epoch  0 MSE:  1.1551951169967651\n"
          ],
          "name": "stdout"
        },
        {
          "output_type": "stream",
          "text": [
            "/usr/local/lib/python3.6/dist-packages/torch/nn/_reduction.py:43: UserWarning: size_average and reduce args will be deprecated, please use reduction='mean' instead.\n",
            "  warnings.warn(warning.format(ret))\n"
          ],
          "name": "stderr"
        },
        {
          "output_type": "stream",
          "text": [
            "Epoch  500 MSE:  7.152187026804313e-05\n"
          ],
          "name": "stdout"
        }
      ]
    },
    {
      "cell_type": "code",
      "metadata": {
        "id": "xJtl7W2MK9Rc",
        "colab_type": "code",
        "outputId": "c02ade6b-1ee8-4856-9316-bf30c3cc52f0",
        "colab": {
          "base_uri": "https://localhost:8080/",
          "height": 1000
        }
      },
      "source": [
        "input_params = [\n",
        "        'driving_percent', 'retail_and_recreation_percent_change_from_baseline', \n",
        "        'grocery_and_pharmacy_percent_change_from_baseline', \n",
        "        'transit_stations_percent_change_from_baseline',\n",
        "        'workplaces_percent_change_from_baseline', \n",
        "        'residential_percent_change_from_baseline', \n",
        "        'lockdown_level',\n",
        "        'hospitalBedCapacity', 'ICUBedsInUse',\n",
        "        'cumulativeDeaths', 'cumulativeInfected',\n",
        "        'poverty', 'age', 'income',\n",
        "        'healthcare', 'healthcareLow', 'healthcareHigh',\n",
        "        'obesity', 'smokes', 'smokesLow', 'smokesHigh',\n",
        "        'Density per square mile of land area'] + [f'state{i}' for i in range(len(USA))]\n",
        "\n",
        "inputs_USA = []\n",
        "for i, (region, region_df) in enumerate(inputs.items()):\n",
        "    for statenumbervec in range(len(USA)):\n",
        "        region_df[f\"state{statenumbervec}\"] = 0\n",
        "    region_df[f'state{i}'] = 1\n",
        "    inputs_USA.append(region_df)\n",
        "inputs_USA = pd.concat(inputs_USA, ignore_index=True)\n",
        "print(f\"all columns available: {inputs_USA.columns}\")\n",
        "print(f\"input params: {input_params}\")\n",
        "output_params = ['RtIndicator', 'positive_test_rate']\n",
        "print(f\"output params: {output_params}\")\n",
        "seq_len = 30\n",
        "X = inputs_USA[input_params].values.astype('float32')\n",
        "X = preprocessing.MinMaxScaler().fit(X).transform(X)\n",
        "Y = inputs_USA[output_params].values.astype('float32')\n",
        "X_lstm, y_lstm = sliding_windows(X, Y, seq_len)\n",
        "\n",
        "hidden1 = 20\n",
        "print(len(input_params))\n",
        "model = LSTM(len(input_params), hidden_dim1 = hidden1, seq_len = seq_len, output_dim = len(output_params), num_layers=2)\n",
        "\n",
        "loss_fn = torch.nn.MSELoss(reduction='sum')\n",
        "learning_rate = 2e-3\n",
        "num_epochs = 2000\n",
        "optimiser = torch.optim.Adam(model.parameters(), lr=learning_rate)\n",
        "\n",
        "#####################\n",
        "# Train model\n",
        "#####################\n",
        "\n",
        "hist = np.zeros(num_epochs)\n",
        "losses = [] \n",
        "for t in range(num_epochs):\n",
        "    # Clear stored gradient\n",
        "\n",
        "    model.zero_grad()\n",
        "    \n",
        "    # Initialise hidden state\n",
        "    # Don't do this if you want your LSTM to be stateful\n",
        "    model.hidden = model.init_hidden()\n",
        "    \n",
        "    # Forward pass\n",
        "    y_pred = model(X_lstm)\n",
        "\n",
        "    loss = loss_fn(y_pred, y_lstm)\n",
        "    losses.append(loss)\n",
        "    if t % 2 == 0:\n",
        "        print(\"Epoch \", t, \"MSE: \", loss.item())\n",
        "    hist[t] = loss.item()\n",
        "\n",
        "    # Zero out gradient, else they will accumulate between epochs\n",
        "    optimiser.zero_grad()\n",
        "\n",
        "    # Backward pass\n",
        "    loss.backward()\n",
        "\n",
        "    # Update parameters\n",
        "    optimiser.step()\n",
        "plt.plot(losses)\n",
        "plt.title(region)\n",
        "plt.show()\n",
        "print(\"prediction vs actual:\")\n",
        "pprint.pprint(list(zip(y_pred.data, inputs['New York'][output_params].values[-seq_len:])))\n",
        "\n"
      ],
      "execution_count": 16,
      "outputs": [
        {
          "output_type": "stream",
          "text": [
            "all columns available: Index(['region', 'date', 'driving_percent',\n",
            "       'retail_and_recreation_percent_change_from_baseline',\n",
            "       'grocery_and_pharmacy_percent_change_from_baseline',\n",
            "       'parks_percent_change_from_baseline',\n",
            "       'transit_stations_percent_change_from_baseline',\n",
            "       'workplaces_percent_change_from_baseline',\n",
            "       'residential_percent_change_from_baseline', 'hospitalBedsRequired',\n",
            "       'hospitalBedCapacity', 'ICUBedsInUse', 'ICUBedCapacity',\n",
            "       'ventilatorsInUse', 'ventilatorCapacity', 'RtIndicator',\n",
            "       'RtIndicatorCI90', 'cumulativeDeaths', 'cumulativeInfected',\n",
            "       'cumulativePositiveTests', 'cumulativeNegativeTests', 'lat', 'long',\n",
            "       'lockdown_level', 'poverty', 'povertyMoe', 'age', 'ageMoe', 'income',\n",
            "       'incomeMoe', 'healthcare', 'healthcareLow', 'healthcareHigh', 'obesity',\n",
            "       'obesityLow', 'obesityHigh', 'smokes', 'smokesLow', 'smokesHigh',\n",
            "       'Density per square mile of land area', 'Rt_90_lower_bound',\n",
            "       'Rt_90_upper_bound', 'positive_test_rate', 'state0', 'state1', 'state2',\n",
            "       'state3', 'state4', 'state5', 'state6', 'state7', 'state8', 'state9',\n",
            "       'state10', 'state11', 'state12', 'state13', 'state14', 'state15',\n",
            "       'state16', 'state17', 'state18', 'state19', 'state20', 'state21',\n",
            "       'state22', 'state23', 'state24', 'state25', 'state26', 'state27',\n",
            "       'state28', 'state29', 'state30', 'state31', 'state32', 'state33',\n",
            "       'state34', 'state35', 'state36', 'state37', 'state38', 'state39',\n",
            "       'state40', 'state41', 'state42', 'state43', 'state44', 'state45',\n",
            "       'state46', 'state47', 'state48', 'state49', 'state50'],\n",
            "      dtype='object')\n",
            "input params: ['driving_percent', 'retail_and_recreation_percent_change_from_baseline', 'grocery_and_pharmacy_percent_change_from_baseline', 'transit_stations_percent_change_from_baseline', 'workplaces_percent_change_from_baseline', 'residential_percent_change_from_baseline', 'lockdown_level', 'hospitalBedCapacity', 'ICUBedsInUse', 'cumulativeDeaths', 'cumulativeInfected', 'poverty', 'age', 'income', 'healthcare', 'healthcareLow', 'healthcareHigh', 'obesity', 'smokes', 'smokesLow', 'smokesHigh', 'Density per square mile of land area', 'state0', 'state1', 'state2', 'state3', 'state4', 'state5', 'state6', 'state7', 'state8', 'state9', 'state10', 'state11', 'state12', 'state13', 'state14', 'state15', 'state16', 'state17', 'state18', 'state19', 'state20', 'state21', 'state22', 'state23', 'state24', 'state25', 'state26', 'state27', 'state28', 'state29', 'state30', 'state31', 'state32', 'state33', 'state34', 'state35', 'state36', 'state37', 'state38', 'state39', 'state40', 'state41', 'state42', 'state43', 'state44', 'state45', 'state46', 'state47', 'state48', 'state49', 'state50']\n",
            "output params: ['RtIndicator', 'positive_test_rate']\n",
            "73\n",
            "Epoch  0 MSE:  8464.9140625\n",
            "Epoch  2 MSE:  7778.68603515625\n",
            "Epoch  4 MSE:  7142.59423828125\n",
            "Epoch  6 MSE:  6487.1044921875\n",
            "Epoch  8 MSE:  5756.60693359375\n",
            "Epoch  10 MSE:  4911.09130859375\n",
            "Epoch  12 MSE:  3955.54052734375\n",
            "Epoch  14 MSE:  2967.26025390625\n",
            "Epoch  16 MSE:  2070.668701171875\n",
            "Epoch  18 MSE:  1353.62548828125\n",
            "Epoch  20 MSE:  834.72705078125\n",
            "Epoch  22 MSE:  510.7118225097656\n",
            "Epoch  24 MSE:  376.3859558105469\n",
            "Epoch  26 MSE:  395.4692077636719\n",
            "Epoch  28 MSE:  482.1063232421875\n",
            "Epoch  30 MSE:  543.3305053710938\n",
            "Epoch  32 MSE:  545.409423828125\n",
            "Epoch  34 MSE:  504.0949401855469\n",
            "Epoch  36 MSE:  448.7747802734375\n",
            "Epoch  38 MSE:  401.87261962890625\n",
            "Epoch  40 MSE:  373.3945007324219\n",
            "Epoch  42 MSE:  363.2070617675781\n",
            "Epoch  44 MSE:  365.612060546875\n",
            "Epoch  46 MSE:  373.4511413574219\n",
            "Epoch  48 MSE:  380.8416442871094\n",
            "Epoch  50 MSE:  384.4610595703125\n",
            "Epoch  52 MSE:  383.5805358886719\n",
            "Epoch  54 MSE:  379.30816650390625\n",
            "Epoch  56 MSE:  373.5828857421875\n",
            "Epoch  58 MSE:  368.2872009277344\n",
            "Epoch  60 MSE:  364.65966796875\n",
            "Epoch  62 MSE:  363.0721130371094\n",
            "Epoch  64 MSE:  363.1426696777344\n",
            "Epoch  66 MSE:  364.0755615234375\n",
            "Epoch  68 MSE:  365.0583190917969\n",
            "Epoch  70 MSE:  365.5567932128906\n",
            "Epoch  72 MSE:  365.4203186035156\n",
            "Epoch  74 MSE:  364.8088684082031\n",
            "Epoch  76 MSE:  364.0260314941406\n",
            "Epoch  78 MSE:  363.3539123535156\n",
            "Epoch  80 MSE:  362.9512939453125\n",
            "Epoch  82 MSE:  362.83392333984375\n",
            "Epoch  84 MSE:  362.9133605957031\n",
            "Epoch  86 MSE:  363.06201171875\n",
            "Epoch  88 MSE:  363.17132568359375\n",
            "Epoch  90 MSE:  363.1866760253906\n",
            "Epoch  92 MSE:  363.1108703613281\n",
            "Epoch  94 MSE:  362.98675537109375\n",
            "Epoch  96 MSE:  362.86651611328125\n",
            "Epoch  98 MSE:  362.7879333496094\n"
          ],
          "name": "stdout"
        },
        {
          "output_type": "display_data",
          "data": {
            "image/png": "[encoded data removed]",
            "text/plain": [
              "<Figure size 432x288 with 1 Axes>"
            ]
          },
          "metadata": {
            "tags": [],
            "needs_background": "light"
          }
        },
        {
          "output_type": "stream",
          "text": [
            "prediction vs actual:\n",
            "[(tensor([1.4462, 0.1313]), array([1.57      , 0.37899312])),\n",
            " (tensor([1.4472, 0.1311]), array([1.5       , 0.38658799])),\n",
            " (tensor([1.4545, 0.1302]), array([1.45      , 0.39483725])),\n",
            " (tensor([1.4584, 0.1287]), array([1.4      , 0.4009012])),\n",
            " (tensor([1.4609, 0.1285]), array([1.31      , 0.40370187])),\n",
            " (tensor([1.4620, 0.1282]), array([1.25      , 0.40737069])),\n",
            " (tensor([1.4634, 0.1279]), array([1.18      , 0.40835093])),\n",
            " (tensor([1.4640, 0.1280]), array([1.18      , 0.40891352])),\n",
            " (tensor([1.4644, 0.1280]), array([1.15     , 0.4084725])),\n",
            " (tensor([1.4646, 0.1282]), array([1.08     , 0.4080357])),\n",
            " (tensor([1.4665, 0.1278]), array([1.02      , 0.40922037])),\n",
            " (tensor([1.4671, 0.1278]), array([0.97      , 0.40878161])),\n",
            " (tensor([1.4673, 0.1276]), array([0.9       , 0.40771014])),\n",
            " (tensor([1.4677, 0.1275]), array([0.89      , 0.40511036])),\n",
            " (tensor([1.4681, 0.1274]), array([0.84      , 0.40641468])),\n",
            " (tensor([1.4684, 0.1273]), array([0.83      , 0.40372771])),\n",
            " (tensor([1.4700, 0.1269]), array([0.81      , 0.40061547])),\n",
            " (tensor([1.4711, 0.1266]), array([0.81      , 0.39684711])),\n",
            " (tensor([1.4712, 0.1266]), array([0.85      , 0.39314069])),\n",
            " (tensor([1.4710, 0.1263]), array([0.84      , 0.39048309])),\n",
            " (tensor([1.4713, 0.1262]), array([0.83      , 0.38761791])),\n",
            " (tensor([1.4715, 0.1262]), array([0.82      , 0.38391479])),\n",
            " (tensor([1.4713, 0.1263]), array([0.78    , 0.378578])),\n",
            " (tensor([1.4453, 0.1313]), array([0.8       , 0.37170707])),\n",
            " (tensor([1.4462, 0.1310]), array([0.81      , 0.36285315])),\n",
            " (tensor([1.4450, 0.1318]), array([0.81      , 0.35766437])),\n",
            " (tensor([1.4448, 0.1315]), array([0.8      , 0.3534654])),\n",
            " (tensor([1.4460, 0.1309]), array([0.8       , 0.34924035])),\n",
            " (tensor([1.4453, 0.1315]), array([0.78      , 0.34349287])),\n",
            " (tensor([1.4462, 0.1313]), array([0.78      , 0.33795229]))]\n"
          ],
          "name": "stdout"
        }
      ]
    },
    {
      "cell_type": "code",
      "metadata": {
        "id": "ynhPaMsvw8M-",
        "colab_type": "code",
        "outputId": "8a3a1f1f-0372-46da-dda4-622c11d52a28",
        "colab": {
          "base_uri": "https://localhost:8080/",
          "height": 323
        }
      },
      "source": [
        "{param: X_lstm[-1][-1][i] for i, param in enumerate(params)}"
      ],
      "execution_count": 0,
      "outputs": [
        {
          "output_type": "execute_result",
          "data": {
            "text/plain": [
              "{'Density per square mile of land area': tensor(0.),\n",
              " 'age': tensor(0.),\n",
              " 'driving_percent': tensor(-0.0139),\n",
              " 'grocery_and_pharmacy_percent_change_from_baseline': tensor(-0.2063),\n",
              " 'healthcare': tensor(0.),\n",
              " 'healthcareHigh': tensor(0.),\n",
              " 'healthcareLow': tensor(0.),\n",
              " 'income': tensor(0.),\n",
              " 'lockdown_level': tensor(0.6364),\n",
              " 'obesity': tensor(0.),\n",
              " 'poverty': tensor(0.),\n",
              " 'residential_percent_change_from_baseline': tensor(0.0215),\n",
              " 'retail_and_recreation_percent_change_from_baseline': tensor(-0.4084),\n",
              " 'smokes': tensor(0.),\n",
              " 'smokesHigh': tensor(0.),\n",
              " 'smokesLow': tensor(0.),\n",
              " 'transit_stations_percent_change_from_baseline': tensor(-0.4709),\n",
              " 'workplaces_percent_change_from_baseline': tensor(-0.6537)}"
            ]
          },
          "metadata": {
            "tags": []
          },
          "execution_count": 226
        }
      ]
    },
    {
      "cell_type": "code",
      "metadata": {
        "id": "nfU3vETo2L-3",
        "colab_type": "code",
        "outputId": "f5c9037f-8b0a-4ca7-b272-a7f4360c8fda",
        "colab": {
          "base_uri": "https://localhost:8080/",
          "height": 1000
        }
      },
      "source": [
        "#import gc; gc.collect()\n",
        "X_lstm[-1]"
      ],
      "execution_count": 0,
      "outputs": [
        {
          "output_type": "execute_result",
          "data": {
            "text/plain": [
              "tensor([[0.0855, 0.2353, 0.2500, 0.0921, 0.0833, 0.8182, 1.0000, 0.0000, 0.0000,\n",
              "         0.0000, 0.0000, 0.0000, 0.0000, 0.0000, 0.0000, 0.0000, 0.0000, 0.0000],\n",
              "        [0.0983, 0.2353, 0.2778, 0.0921, 0.0694, 0.8182, 1.0000, 0.0000, 0.0000,\n",
              "         0.0000, 0.0000, 0.0000, 0.0000, 0.0000, 0.0000, 0.0000, 0.0000, 0.0000],\n",
              "        [0.1207, 0.2706, 0.3611, 0.1184, 0.0694, 0.8182, 1.0000, 0.0000, 0.0000,\n",
              "         0.0000, 0.0000, 0.0000, 0.0000, 0.0000, 0.0000, 0.0000, 0.0000, 0.0000],\n",
              "        [0.1187, 0.2471, 0.3333, 0.0921, 0.0556, 0.8485, 1.0000, 0.0000, 0.0000,\n",
              "         0.0000, 0.0000, 0.0000, 0.0000, 0.0000, 0.0000, 0.0000, 0.0000, 0.0000],\n",
              "        [0.1503, 0.2118, 0.3056, 0.0789, 0.0556, 0.9394, 1.0000, 0.0000, 0.0000,\n",
              "         0.0000, 0.0000, 0.0000, 0.0000, 0.0000, 0.0000, 0.0000, 0.0000, 0.0000],\n",
              "        [0.1308, 0.2000, 0.3194, 0.1447, 0.2639, 0.5758, 1.0000, 0.0000, 0.0000,\n",
              "         0.0000, 0.0000, 0.0000, 0.0000, 0.0000, 0.0000, 0.0000, 0.0000, 0.0000],\n",
              "        [0.0431, 0.1882, 0.2222, 0.1053, 0.2639, 0.4848, 1.0000, 0.0000, 0.0000,\n",
              "         0.0000, 0.0000, 0.0000, 0.0000, 0.0000, 0.0000, 0.0000, 0.0000, 0.0000],\n",
              "        [0.1347, 0.2588, 0.3194, 0.0921, 0.0556, 0.8182, 1.0000, 0.0000, 0.0000,\n",
              "         0.0000, 0.0000, 0.0000, 0.0000, 0.0000, 0.0000, 0.0000, 0.0000, 0.0000],\n",
              "        [0.1401, 0.1765, 0.4583, 0.0921, 0.0417, 0.8182, 1.0000, 0.0000, 0.0000,\n",
              "         0.0000, 0.0000, 0.0000, 0.0000, 0.0000, 0.0000, 0.0000, 0.0000, 0.0000],\n",
              "        [0.1214, 0.1529, 0.4444, 0.0789, 0.0417, 0.8485, 1.0000, 0.0000, 0.0000,\n",
              "         0.0000, 0.0000, 0.0000, 0.0000, 0.0000, 0.0000, 0.0000, 0.0000, 0.0000],\n",
              "        [0.1063, 0.1176, 0.4028, 0.0395, 0.0139, 0.9091, 1.0000, 0.0000, 0.0000,\n",
              "         0.0000, 0.0000, 0.0000, 0.0000, 0.0000, 0.0000, 0.0000, 0.0000, 0.0000],\n",
              "        [0.1694, 0.1176, 0.4306, 0.0526, 0.0000, 1.0000, 1.0000, 0.0000, 0.0000,\n",
              "         0.0000, 0.0000, 0.0000, 0.0000, 0.0000, 0.0000, 0.0000, 0.0000, 0.0000],\n",
              "        [0.1641, 0.1529, 0.5556, 0.1447, 0.2500, 0.5758, 1.0000, 0.0000, 0.0000,\n",
              "         0.0000, 0.0000, 0.0000, 0.0000, 0.0000, 0.0000, 0.0000, 0.0000, 0.0000],\n",
              "        [0.0038, 0.0000, 0.0000, 0.1053, 0.2083, 0.4848, 1.0000, 0.0000, 0.0000,\n",
              "         0.0000, 0.0000, 0.0000, 0.0000, 0.0000, 0.0000, 0.0000, 0.0000, 0.0000],\n",
              "        [0.0751, 0.0588, 0.0694, 0.0000, 0.0278, 0.9091, 1.0000, 0.0000, 0.0000,\n",
              "         0.0000, 0.0000, 0.0000, 0.0000, 0.0000, 0.0000, 0.0000, 0.0000, 0.0000],\n",
              "        [0.1729, 0.1765, 0.3472, 0.1053, 0.0694, 0.8182, 1.0000, 0.0000, 0.0000,\n",
              "         0.0000, 0.0000, 0.0000, 0.0000, 0.0000, 0.0000, 0.0000, 0.0000, 0.0000],\n",
              "        [0.1831, 0.1882, 0.3333, 0.0921, 0.0694, 0.8485, 1.0000, 0.0000, 0.0000,\n",
              "         0.0000, 0.0000, 0.0000, 0.0000, 0.0000, 0.0000, 0.0000, 0.0000, 0.0000],\n",
              "        [0.1869, 0.1647, 0.3333, 0.0789, 0.0694, 0.8485, 1.0000, 0.0000, 0.0000,\n",
              "         0.0000, 0.0000, 0.0000, 0.0000, 0.0000, 0.0000, 0.0000, 0.0000, 0.0000],\n",
              "        [0.2409, 0.1529, 0.3056, 0.1053, 0.0833, 0.9091, 1.0000, 0.0000, 0.0000,\n",
              "         0.0000, 0.0000, 0.0000, 0.0000, 0.0000, 0.0000, 0.0000, 0.0000, 0.0000],\n",
              "        [0.1788, 0.1176, 0.2639, 0.1184, 0.2917, 0.5758, 1.0000, 0.0000, 0.0000,\n",
              "         0.0000, 0.0000, 0.0000, 0.0000, 0.0000, 0.0000, 0.0000, 0.0000, 0.0000],\n",
              "        [0.1453, 0.1529, 0.2500, 0.1579, 0.3194, 0.4545, 1.0000, 0.0000, 0.0000,\n",
              "         0.0000, 0.0000, 0.0000, 0.0000, 0.0000, 0.0000, 0.0000, 0.0000, 0.0000],\n",
              "        [0.2015, 0.1882, 0.2917, 0.1053, 0.0972, 0.7879, 1.0000, 0.0000, 0.0000,\n",
              "         0.0000, 0.0000, 0.0000, 0.0000, 0.0000, 0.0000, 0.0000, 0.0000, 0.0000],\n",
              "        [0.1626, 0.1412, 0.2361, 0.0658, 0.0833, 0.8485, 1.0000, 0.0000, 0.0000,\n",
              "         0.0000, 0.0000, 0.0000, 0.0000, 0.0000, 0.0000, 0.0000, 0.0000, 0.0000],\n",
              "        [0.2174, 0.1765, 0.3472, 0.1053, 0.0972, 0.8182, 1.0000, 0.0000, 0.0000,\n",
              "         0.0000, 0.0000, 0.0000, 0.0000, 0.0000, 0.0000, 0.0000, 0.0000, 0.0000],\n",
              "        [0.2162, 0.1765, 0.3333, 0.0921, 0.0972, 0.8182, 1.0000, 0.0000, 0.0000,\n",
              "         0.0000, 0.0000, 0.0000, 0.0000, 0.0000, 0.0000, 0.0000, 0.0000, 0.0000],\n",
              "        [0.2634, 0.1412, 0.2639, 0.0789, 0.0972, 0.9091, 1.0000, 0.0000, 0.0000,\n",
              "         0.0000, 0.0000, 0.0000, 0.0000, 0.0000, 0.0000, 0.0000, 0.0000, 0.0000],\n",
              "        [0.3351, 0.2118, 0.4028, 0.2368, 0.3472, 0.4545, 1.0000, 0.0000, 0.0000,\n",
              "         0.0000, 0.0000, 0.0000, 0.0000, 0.0000, 0.0000, 0.0000, 0.0000, 0.0000],\n",
              "        [0.0932, 0.1059, 0.1528, 0.0789, 0.3056, 0.4848, 1.0000, 0.0000, 0.0000,\n",
              "         0.0000, 0.0000, 0.0000, 0.0000, 0.0000, 0.0000, 0.0000, 0.0000, 0.0000],\n",
              "        [0.2025, 0.1882, 0.2917, 0.1053, 0.1111, 0.7879, 1.0000, 0.0000, 0.0000,\n",
              "         0.0000, 0.0000, 0.0000, 0.0000, 0.0000, 0.0000, 0.0000, 0.0000, 0.0000],\n",
              "        [0.2903, 0.2471, 0.4028, 0.1579, 0.1250, 0.5758, 1.0000, 0.0000, 0.0000,\n",
              "         0.0000, 0.0000, 0.0000, 0.0000, 0.0000, 0.0000, 0.0000, 0.0000, 0.0000]])"
            ]
          },
          "metadata": {
            "tags": []
          },
          "execution_count": 209
        }
      ]
    },
    {
      "cell_type": "code",
      "metadata": {
        "id": "tnUi4wUMGOLH",
        "colab_type": "code",
        "outputId": "91044e28-6c1d-4c9c-97c3-272e3d54c050",
        "colab": {
          "base_uri": "https://localhost:8080/",
          "height": 323
        }
      },
      "source": [
        "params"
      ],
      "execution_count": 0,
      "outputs": [
        {
          "output_type": "execute_result",
          "data": {
            "text/plain": [
              "['driving_percent',\n",
              " 'retail_and_recreation_percent_change_from_baseline',\n",
              " 'grocery_and_pharmacy_percent_change_from_baseline',\n",
              " 'transit_stations_percent_change_from_baseline',\n",
              " 'workplaces_percent_change_from_baseline',\n",
              " 'residential_percent_change_from_baseline',\n",
              " 'lockdown_level',\n",
              " 'poverty',\n",
              " 'age',\n",
              " 'income',\n",
              " 'healthcare',\n",
              " 'healthcareLow',\n",
              " 'healthcareHigh',\n",
              " 'obesity',\n",
              " 'smokes',\n",
              " 'smokesLow',\n",
              " 'smokesHigh',\n",
              " 'Density per square mile of land area']"
            ]
          },
          "metadata": {
            "tags": []
          },
          "execution_count": 227
        }
      ]
    },
    {
      "cell_type": "code",
      "metadata": {
        "id": "qxdZjmzw_5ng",
        "colab_type": "code",
        "outputId": "dea587c8-82d1-4a33-e15d-83fb480aa572",
        "colab": {
          "base_uri": "https://localhost:8080/",
          "height": 333
        }
      },
      "source": [
        "plt.hist([inputs[region]['income'][0] for region in inputs])"
      ],
      "execution_count": 0,
      "outputs": [
        {
          "output_type": "execute_result",
          "data": {
            "text/plain": [
              "(array([ 5.,  5., 10.,  9.,  3.,  5.,  5.,  2.,  3.,  4.]),\n",
              " array([39680. , 43109.1, 46538.2, 49967.3, 53396.4, 56825.5, 60254.6,\n",
              "        63683.7, 67112.8, 70541.9, 73971. ]),\n",
              " <a list of 10 Patch objects>)"
            ]
          },
          "metadata": {
            "tags": []
          },
          "execution_count": 223
        },
        {
          "output_type": "display_data",
          "data": {
            "image/png": "[encoded data removed]",
            "text/plain": [
              "<Figure size 432x288 with 1 Axes>"
            ]
          },
          "metadata": {
            "tags": [],
            "needs_background": "light"
          }
        }
      ]
    },
    {
      "cell_type": "code",
      "metadata": {
        "id": "ZOz6i8WBquzj",
        "colab_type": "code",
        "outputId": "13bb3110-650e-4dbe-c6da-0cc171cb702c",
        "colab": {
          "base_uri": "https://localhost:8080/",
          "height": 301
        }
      },
      "source": [
        "def extrapolate_r0(r0, current_population, timespan=[0,1,2,3,4,5,6]):\n",
        "    infected = np.power(r0, timespan) * current_population\n",
        "    plt.plot(infected)\n",
        "    return infected\n",
        "extrapolate_r0(y_pred[-1][0].detach().numpy(), 100)"
      ],
      "execution_count": 0,
      "outputs": [
        {
          "output_type": "execute_result",
          "data": {
            "text/plain": [
              "array([100.        ,  83.94362926,  70.46532894,  59.15115449,\n",
              "        49.65362583,  41.68105558,  34.98859077])"
            ]
          },
          "metadata": {
            "tags": []
          },
          "execution_count": 210
        },
        {
          "output_type": "display_data",
          "data": {
            "image/png": "[encoded data removed]",
            "text/plain": [
              "<Figure size 432x288 with 1 Axes>"
            ]
          },
          "metadata": {
            "tags": [],
            "needs_background": "light"
          }
        }
      ]
    },
    {
      "cell_type": "code",
      "metadata": {
        "id": "1lM7uD1Wf1JD",
        "colab_type": "code",
        "outputId": "67be19d3-79df-4523-d275-da0a306258c1",
        "colab": {
          "base_uri": "https://localhost:8080/",
          "height": 1000
        }
      },
      "source": [
        "list(zip(inputs['Michigan']['RtIndicator'], y_pred))"
      ],
      "execution_count": 0,
      "outputs": [
        {
          "output_type": "execute_result",
          "data": {
            "text/plain": [
              "[(1.5, tensor(1.4215, grad_fn=<SelectBackward>)),\n",
              " (1.5, tensor(1.4188, grad_fn=<SelectBackward>)),\n",
              " (1.5, tensor(1.4345, grad_fn=<SelectBackward>)),\n",
              " (1.5, tensor(1.6186, grad_fn=<SelectBackward>)),\n",
              " (1.5, tensor(1.4126, grad_fn=<SelectBackward>)),\n",
              " (1.5, tensor(1.3417, grad_fn=<SelectBackward>)),\n",
              " (1.5, tensor(1.5443, grad_fn=<SelectBackward>)),\n",
              " (1.5, tensor(1.4663, grad_fn=<SelectBackward>)),\n",
              " (1.5, tensor(1.5986, grad_fn=<SelectBackward>)),\n",
              " (1.34, tensor(1.7879, grad_fn=<SelectBackward>)),\n",
              " (3.6, tensor(3.3485, grad_fn=<SelectBackward>)),\n",
              " (3.38, tensor(3.3086, grad_fn=<SelectBackward>)),\n",
              " (2.29, tensor(2.3098, grad_fn=<SelectBackward>)),\n",
              " (2.15, tensor(2.2105, grad_fn=<SelectBackward>)),\n",
              " (2.04, tensor(2.2323, grad_fn=<SelectBackward>)),\n",
              " (2.12, tensor(2.2623, grad_fn=<SelectBackward>)),\n",
              " (2.36, tensor(2.2564, grad_fn=<SelectBackward>)),\n",
              " (2.32, tensor(2.2779, grad_fn=<SelectBackward>)),\n",
              " (2.36, tensor(2.3256, grad_fn=<SelectBackward>)),\n",
              " (2.32, tensor(2.2340, grad_fn=<SelectBackward>)),\n",
              " (2.34, tensor(2.1449, grad_fn=<SelectBackward>)),\n",
              " (2.29, tensor(2.4790, grad_fn=<SelectBackward>)),\n",
              " (2.23, tensor(2.0781, grad_fn=<SelectBackward>)),\n",
              " (2.19, tensor(1.9413, grad_fn=<SelectBackward>)),\n",
              " (2.08, tensor(1.7437, grad_fn=<SelectBackward>)),\n",
              " (2.0, tensor(1.6642, grad_fn=<SelectBackward>)),\n",
              " (1.92, tensor(1.6376, grad_fn=<SelectBackward>)),\n",
              " (1.85, tensor(1.5336, grad_fn=<SelectBackward>)),\n",
              " (1.78, tensor(1.7456, grad_fn=<SelectBackward>)),\n",
              " (1.71, tensor(1.8652, grad_fn=<SelectBackward>)),\n",
              " (1.64, tensor(1.6859, grad_fn=<SelectBackward>)),\n",
              " (1.58, tensor(1.5157, grad_fn=<SelectBackward>)),\n",
              " (1.51, tensor(1.5539, grad_fn=<SelectBackward>)),\n",
              " (1.46, tensor(1.4197, grad_fn=<SelectBackward>)),\n",
              " (1.4, tensor(1.4626, grad_fn=<SelectBackward>)),\n",
              " (1.34, tensor(1.4459, grad_fn=<SelectBackward>)),\n",
              " (1.3, tensor(1.5895, grad_fn=<SelectBackward>)),\n",
              " (1.24, tensor(1.1929, grad_fn=<SelectBackward>)),\n",
              " (1.2, tensor(1.0196, grad_fn=<SelectBackward>)),\n",
              " (1.14, tensor(1.4075, grad_fn=<SelectBackward>)),\n",
              " (1.1, tensor(1.2843, grad_fn=<SelectBackward>)),\n",
              " (1.1, tensor(1.1351, grad_fn=<SelectBackward>)),\n",
              " (1.07, tensor(1.3417, grad_fn=<SelectBackward>)),\n",
              " (1.04, tensor(1.3390, grad_fn=<SelectBackward>)),\n",
              " (1.02, tensor(1.1595, grad_fn=<SelectBackward>)),\n",
              " (1.02, tensor(1.0499, grad_fn=<SelectBackward>)),\n",
              " (1.03, tensor(1.2695, grad_fn=<SelectBackward>)),\n",
              " (1.0, tensor(1.0262, grad_fn=<SelectBackward>)),\n",
              " (0.99, tensor(1.0082, grad_fn=<SelectBackward>)),\n",
              " (0.98, tensor(1.1389, grad_fn=<SelectBackward>)),\n",
              " (0.98, tensor(1.1179, grad_fn=<SelectBackward>)),\n",
              " (0.99, tensor(0.9265, grad_fn=<SelectBackward>)),\n",
              " (0.99, tensor(0.8352, grad_fn=<SelectBackward>)),\n",
              " (1.0, tensor(1.1301, grad_fn=<SelectBackward>)),\n",
              " (1.0, tensor(1.0028, grad_fn=<SelectBackward>)),\n",
              " (1.0, tensor(1.0145, grad_fn=<SelectBackward>)),\n",
              " (0.99, tensor(0.7448, grad_fn=<SelectBackward>)),\n",
              " (0.98, tensor(0.9515, grad_fn=<SelectBackward>)),\n",
              " (0.97, tensor(0.7801, grad_fn=<SelectBackward>))]"
            ]
          },
          "metadata": {
            "tags": []
          },
          "execution_count": 148
        }
      ]
    },
    {
      "cell_type": "code",
      "metadata": {
        "id": "Gw4XHmZCX0Qd",
        "colab_type": "code",
        "colab": {}
      },
      "source": [
        ""
      ],
      "execution_count": 0,
      "outputs": []
    }
  ]
}