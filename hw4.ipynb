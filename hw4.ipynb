{
  "nbformat": 4,
  "nbformat_minor": 0,
  "metadata": {
    "kernelspec": {
      "display_name": "Python 3",
      "language": "python",
      "name": "python3"
    },
    "language_info": {
      "codemirror_mode": {
        "name": "ipython",
        "version": 3
      },
      "file_extension": ".py",
      "mimetype": "text/x-python",
      "name": "python",
      "nbconvert_exporter": "python",
      "pygments_lexer": "ipython3",
      "version": "3.7.3"
    },
    "colab": {
      "name": "hw4.ipynb",
      "provenance": [],
      "include_colab_link": true
    },
    "widgets": {
      "application/vnd.jupyter.widget-state+json": {
        "5196d4aae54e42ecb126eb54fc7e9bc8": {
          "model_module": "@jupyter-widgets/controls",
          "model_name": "HBoxModel",
          "state": {
            "_view_name": "HBoxView",
            "_dom_classes": [],
            "_model_name": "HBoxModel",
            "_view_module": "@jupyter-widgets/controls",
            "_model_module_version": "1.5.0",
            "_view_count": null,
            "_view_module_version": "1.5.0",
            "box_style": "",
            "layout": "IPY_MODEL_551dddd04e484b02b59d05fe1de3f8b5",
            "_model_module": "@jupyter-widgets/controls",
            "children": [
              "IPY_MODEL_d131875c0a8346ff8f6d05e7005e6d19",
              "IPY_MODEL_b07c10fd173c45a7956d0bf01df06d7a"
            ]
          }
        },
        "551dddd04e484b02b59d05fe1de3f8b5": {
          "model_module": "@jupyter-widgets/base",
          "model_name": "LayoutModel",
          "state": {
            "_view_name": "LayoutView",
            "grid_template_rows": null,
            "right": null,
            "justify_content": null,
            "_view_module": "@jupyter-widgets/base",
            "overflow": null,
            "_model_module_version": "1.2.0",
            "_view_count": null,
            "flex_flow": null,
            "width": null,
            "min_width": null,
            "border": null,
            "align_items": null,
            "bottom": null,
            "_model_module": "@jupyter-widgets/base",
            "top": null,
            "grid_column": null,
            "overflow_y": null,
            "overflow_x": null,
            "grid_auto_flow": null,
            "grid_area": null,
            "grid_template_columns": null,
            "flex": null,
            "_model_name": "LayoutModel",
            "justify_items": null,
            "grid_row": null,
            "max_height": null,
            "align_content": null,
            "visibility": null,
            "align_self": null,
            "height": null,
            "min_height": null,
            "padding": null,
            "grid_auto_rows": null,
            "grid_gap": null,
            "max_width": null,
            "order": null,
            "_view_module_version": "1.2.0",
            "grid_template_areas": null,
            "object_position": null,
            "object_fit": null,
            "grid_auto_columns": null,
            "margin": null,
            "display": null,
            "left": null
          }
        },
        "d131875c0a8346ff8f6d05e7005e6d19": {
          "model_module": "@jupyter-widgets/controls",
          "model_name": "IntProgressModel",
          "state": {
            "_view_name": "ProgressView",
            "style": "IPY_MODEL_fad62e804bb9496a9eaf859b22ba1b7c",
            "_dom_classes": [],
            "description": "100%",
            "_model_name": "IntProgressModel",
            "bar_style": "success",
            "max": 200,
            "_view_module": "@jupyter-widgets/controls",
            "_model_module_version": "1.5.0",
            "value": 200,
            "_view_count": null,
            "_view_module_version": "1.5.0",
            "orientation": "horizontal",
            "min": 0,
            "description_tooltip": null,
            "_model_module": "@jupyter-widgets/controls",
            "layout": "IPY_MODEL_d48673239fc94215a59b2c92c461acde"
          }
        },
        "b07c10fd173c45a7956d0bf01df06d7a": {
          "model_module": "@jupyter-widgets/controls",
          "model_name": "HTMLModel",
          "state": {
            "_view_name": "HTMLView",
            "style": "IPY_MODEL_0f90d320bdc24126ba8dff6b677a2cb1",
            "_dom_classes": [],
            "description": "",
            "_model_name": "HTMLModel",
            "placeholder": "​",
            "_view_module": "@jupyter-widgets/controls",
            "_model_module_version": "1.5.0",
            "value": " 200/200 [00:00&lt;00:00, 230.52it/s]",
            "_view_count": null,
            "_view_module_version": "1.5.0",
            "description_tooltip": null,
            "_model_module": "@jupyter-widgets/controls",
            "layout": "IPY_MODEL_1ccf95e6dc8f4eaa977ee2d37389aac6"
          }
        },
        "fad62e804bb9496a9eaf859b22ba1b7c": {
          "model_module": "@jupyter-widgets/controls",
          "model_name": "ProgressStyleModel",
          "state": {
            "_view_name": "StyleView",
            "_model_name": "ProgressStyleModel",
            "description_width": "initial",
            "_view_module": "@jupyter-widgets/base",
            "_model_module_version": "1.5.0",
            "_view_count": null,
            "_view_module_version": "1.2.0",
            "bar_color": null,
            "_model_module": "@jupyter-widgets/controls"
          }
        },
        "d48673239fc94215a59b2c92c461acde": {
          "model_module": "@jupyter-widgets/base",
          "model_name": "LayoutModel",
          "state": {
            "_view_name": "LayoutView",
            "grid_template_rows": null,
            "right": null,
            "justify_content": null,
            "_view_module": "@jupyter-widgets/base",
            "overflow": null,
            "_model_module_version": "1.2.0",
            "_view_count": null,
            "flex_flow": null,
            "width": null,
            "min_width": null,
            "border": null,
            "align_items": null,
            "bottom": null,
            "_model_module": "@jupyter-widgets/base",
            "top": null,
            "grid_column": null,
            "overflow_y": null,
            "overflow_x": null,
            "grid_auto_flow": null,
            "grid_area": null,
            "grid_template_columns": null,
            "flex": null,
            "_model_name": "LayoutModel",
            "justify_items": null,
            "grid_row": null,
            "max_height": null,
            "align_content": null,
            "visibility": null,
            "align_self": null,
            "height": null,
            "min_height": null,
            "padding": null,
            "grid_auto_rows": null,
            "grid_gap": null,
            "max_width": null,
            "order": null,
            "_view_module_version": "1.2.0",
            "grid_template_areas": null,
            "object_position": null,
            "object_fit": null,
            "grid_auto_columns": null,
            "margin": null,
            "display": null,
            "left": null
          }
        },
        "0f90d320bdc24126ba8dff6b677a2cb1": {
          "model_module": "@jupyter-widgets/controls",
          "model_name": "DescriptionStyleModel",
          "state": {
            "_view_name": "StyleView",
            "_model_name": "DescriptionStyleModel",
            "description_width": "",
            "_view_module": "@jupyter-widgets/base",
            "_model_module_version": "1.5.0",
            "_view_count": null,
            "_view_module_version": "1.2.0",
            "_model_module": "@jupyter-widgets/controls"
          }
        },
        "1ccf95e6dc8f4eaa977ee2d37389aac6": {
          "model_module": "@jupyter-widgets/base",
          "model_name": "LayoutModel",
          "state": {
            "_view_name": "LayoutView",
            "grid_template_rows": null,
            "right": null,
            "justify_content": null,
            "_view_module": "@jupyter-widgets/base",
            "overflow": null,
            "_model_module_version": "1.2.0",
            "_view_count": null,
            "flex_flow": null,
            "width": null,
            "min_width": null,
            "border": null,
            "align_items": null,
            "bottom": null,
            "_model_module": "@jupyter-widgets/base",
            "top": null,
            "grid_column": null,
            "overflow_y": null,
            "overflow_x": null,
            "grid_auto_flow": null,
            "grid_area": null,
            "grid_template_columns": null,
            "flex": null,
            "_model_name": "LayoutModel",
            "justify_items": null,
            "grid_row": null,
            "max_height": null,
            "align_content": null,
            "visibility": null,
            "align_self": null,
            "height": null,
            "min_height": null,
            "padding": null,
            "grid_auto_rows": null,
            "grid_gap": null,
            "max_width": null,
            "order": null,
            "_view_module_version": "1.2.0",
            "grid_template_areas": null,
            "object_position": null,
            "object_fit": null,
            "grid_auto_columns": null,
            "margin": null,
            "display": null,
            "left": null
          }
        }
      }
    }
  },
  "cells": [
    {
      "cell_type": "markdown",
      "metadata": {
        "id": "view-in-github",
        "colab_type": "text"
      },
      "source": [
        "<a href=\"https://colab.research.google.com/github/mlaugharn/math189covid19/blob/master/hw4.ipynb\" target=\"_parent\"><img src=\"https://colab.research.google.com/assets/colab-badge.svg\" alt=\"Open In Colab\"/></a>"
      ]
    },
    {
      "cell_type": "markdown",
      "metadata": {
        "id": "sfzF8NIxkreJ",
        "colab_type": "text"
      },
      "source": [
        "## Homework 4: Automatic Differentiation Software + RNN's"
      ]
    },
    {
      "cell_type": "markdown",
      "metadata": {
        "id": "4BCHLaY8kreL",
        "colab_type": "text"
      },
      "source": [
        "In this final homework, we will look at neural networks. The point of this homework is not to teach you everything about neural networks, but to make them a little less scary and give you the option of using one in your research! You will get a walkthrough of pytorch, a popular automatic differentiation package, modify a simple neural network, and run an RNN used in research on genetic data.\n",
        "\n",
        "### Automatic Differentiation\n",
        "Automatic differentiation is an incredibly powerful tool that allows you to perform gradient descent without keeping track of and calculating gradients yourself! If you need a refresher, (or introduction) on gradient descent, there are many resources online, and [this one](https://towardsdatascience.com/understanding-the-mathematics-behind-gradient-descent-dde5dc9be06e) isn't bad. Come back when you are done to see the magic of gradient optimization in practice!"
      ]
    },
    {
      "cell_type": "markdown",
      "metadata": {
        "id": "VDlnJgZ7kreO",
        "colab_type": "text"
      },
      "source": [
        "To start, you need to download the pytorch (<3) package, as is described [here.](https://pytorch.org/) Having installed this successfully, follow along in this notebook"
      ]
    },
    {
      "cell_type": "code",
      "metadata": {
        "id": "swnsmGIckreQ",
        "colab_type": "code",
        "colab": {}
      },
      "source": [
        "# Confusingly, you use pytorch by importing torch, and we use these import torch.x as x\n",
        "# because that is what you will often see in their libraries\n",
        "import torch\n",
        "import torch.nn as nn\n",
        "import torch.nn.functional as F\n",
        "import torch.optim as optim\n",
        "torch.manual_seed(1)\n",
        "import matplotlib.pyplot as plt\n",
        "import numpy as np\n",
        "import itertools"
      ],
      "execution_count": 0,
      "outputs": []
    },
    {
      "cell_type": "markdown",
      "metadata": {
        "id": "_p3_YKwVkrec",
        "colab_type": "text"
      },
      "source": [
        "The first thing we are going to do is a toy linear regression example. This time, we aren't using a package to do it all for us. Instead, we are going to find the line of best fit by minimizing the mean squared error between the points and the prediction of the line. To minimize the error, we are going to follow the gradient of our error, or \"loss\" function (actually go in the opposite direction of the gradient). \n",
        "\n",
        "\n",
        "However, instead of using a formula for the gradient, we are going to just do the operations and let pytorch calculate the gradient for us. Take your time reading this code, things will build on these techniques."
      ]
    },
    {
      "cell_type": "code",
      "metadata": {
        "id": "yz9KAdAkkree",
        "colab_type": "code",
        "colab": {
          "base_uri": "https://localhost:8080/",
          "height": 295
        },
        "outputId": "08d8b82a-c976-4087-9fee-0685f7c9d661"
      },
      "source": [
        "# First, let's initialize our dataset, which will have slope 1, \n",
        "# intercept 0, and gaussian noise added to each point. Let's see what\n",
        "# it looks like:\n",
        "x = torch.arange(10, dtype=torch.float32)\n",
        "# torch.randn(10) returns a vector of length 10 with entries sampled from a normal\n",
        "# distribution\n",
        "y = x + torch.randn(10)\n",
        "plt.scatter(x, y)\n",
        "plt.title(\"Fake Y vs Fake X\")\n",
        "plt.xlabel(\"Fake X\")\n",
        "plt.ylabel(\"Fake Y\")\n",
        "plt.show()"
      ],
      "execution_count": 2,
      "outputs": [
        {
          "output_type": "display_data",
          "data": {
            "image/png": "[encoded data removed]",
            "text/plain": [
              "<Figure size 432x288 with 1 Axes>"
            ]
          },
          "metadata": {
            "tags": [],
            "needs_background": "light"
          }
        }
      ]
    },
    {
      "cell_type": "markdown",
      "metadata": {
        "id": "IhHsRfsBkrem",
        "colab_type": "text"
      },
      "source": [
        "Looks like a (rough) line! You may notice that some of those functions are also numpy functions! Pytorch has similar, but not identical, syntax to numpy, and much of the intuition you built up using numpy will apply here.\n",
        "\n",
        "Now when you are doing numerical optimization, you have to initialize your hypotheses somehow (so you have something to optimize), so lets do that now. Our \"hypothesis\" is that the data x and labels y have the relationship y = m * x + b for some m and b."
      ]
    },
    {
      "cell_type": "code",
      "metadata": {
        "id": "aNd9S9TYkren",
        "colab_type": "code",
        "colab": {}
      },
      "source": [
        "# Requires grad tells pytorch it has to be ready to calculate the gradient for\n",
        "# these variables\n",
        "m = torch.tensor([-1], dtype=torch.float32, requires_grad=True)\n",
        "b = torch.randn(1, requires_grad=True)"
      ],
      "execution_count": 0,
      "outputs": []
    },
    {
      "cell_type": "markdown",
      "metadata": {
        "id": "v_mN0smOkreu",
        "colab_type": "text"
      },
      "source": [
        "Now that we have a guess, let's plot!"
      ]
    },
    {
      "cell_type": "code",
      "metadata": {
        "id": "zKJ1t89lkrex",
        "colab_type": "code",
        "colab": {
          "base_uri": "https://localhost:8080/",
          "height": 265
        },
        "outputId": "979bfe2a-40f8-4cf1-cff0-78dd8a9ad159"
      },
      "source": [
        "plt.scatter(x, y)\n",
        "# We have to tell pytorch to not track this operation\n",
        "with torch.no_grad():\n",
        "    plt.plot(x.numpy(), (x*m + b).numpy())\n",
        "plt.show()"
      ],
      "execution_count": 4,
      "outputs": [
        {
          "output_type": "display_data",
          "data": {
            "image/png": "[encoded data removed]",
            "text/plain": [
              "<Figure size 432x288 with 1 Axes>"
            ]
          },
          "metadata": {
            "tags": [],
            "needs_background": "light"
          }
        }
      ]
    },
    {
      "cell_type": "markdown",
      "metadata": {
        "id": "M-zApEMvkre4",
        "colab_type": "text"
      },
      "source": [
        "Now that probably wasn't a good guess (if it was, reinitialize the variables). Let's tune our parameters to make a better fit."
      ]
    },
    {
      "cell_type": "code",
      "metadata": {
        "id": "lIlzFSHCkre5",
        "colab_type": "code",
        "colab": {}
      },
      "source": [
        "# Learning rate is the hyperparameter that we set to make sure our steps are \"local\"\n",
        "# because gradient only describes local behavior\n",
        "learning_rate = 2e-3\n",
        "\n",
        "# Let's keep track of the slopes and intercepts so we can visualize what we have done\n",
        "slopes = []\n",
        "intercepts = []\n",
        "losses = []\n",
        "\n",
        "# This is a training loop, something you will find universally in gradient descent. We\n",
        "# need to take many little steps in the direction of the gradient\n",
        "for i in range(100):\n",
        "    \n",
        "    # Notice vectorized operations\n",
        "    prediction = b + m * x\n",
        "    \n",
        "    # Calculate the Mean Squared Error (MSE)\n",
        "    loss = ((y - prediction) ** 2).mean()\n",
        "    \n",
        "    # This is again just for plotting our learning\n",
        "    if i % 5 == 0:\n",
        "        with torch.no_grad():\n",
        "            slopes.append(m.clone().detach().numpy())\n",
        "            intercepts.append(b.clone().detach().numpy())\n",
        "    \n",
        "    # Tell pytorch that these variables are important\n",
        "    \n",
        "    m.retain_grad()\n",
        "    b.retain_grad()\n",
        "    # After calculating loss, we can tell pytorch to calculate the gradient. \n",
        "    # This .backward() updates m.grad and b.grad to hold the gradients of the operations\n",
        "    # we just did (specifically prediction and MSE calculation)\n",
        "    loss.backward()\n",
        "    with torch.no_grad():\n",
        "        # Do the gradient descent step, notice MINIMIZING loss, so go in opposite\n",
        "        # direction of gradient. \n",
        "        m -= learning_rate * m.grad\n",
        "        b -= learning_rate * b.grad\n",
        "    \n",
        "    # Reset gradients to go around the loop again\n",
        "    m.grad.zero_()\n",
        "    b.grad.zero_()\n",
        "\n"
      ],
      "execution_count": 0,
      "outputs": []
    },
    {
      "cell_type": "markdown",
      "metadata": {
        "id": "Jk5hd197kre_",
        "colab_type": "text"
      },
      "source": [
        "Now let's check out all of the lines that we tried! Check out how the slope and intercept changed over time! It worked!"
      ]
    },
    {
      "cell_type": "code",
      "metadata": {
        "id": "dlvnmhOHkrfA",
        "colab_type": "code",
        "colab": {
          "base_uri": "https://localhost:8080/",
          "height": 622
        },
        "outputId": "dc57a7bb-e8b5-491b-d382-5768a04154af"
      },
      "source": [
        "plt.figure()\n",
        "plt.scatter(x.numpy(), y.numpy())\n",
        "for m, b in zip(slopes, intercepts):\n",
        "    print(f\"Slope: {m}, Intercept: {b}\")\n",
        "    plt.plot(x.numpy(), (b+x.clone().numpy()*m))\n",
        "plt.show()\n"
      ],
      "execution_count": 6,
      "outputs": [
        {
          "output_type": "stream",
          "text": [
            "Slope: [-1.], Intercept: [-0.89229053]\n",
            "Slope: [-0.06559217], Intercept: [-0.7371065]\n",
            "Slope: [0.43591663], Intercept: [-0.65099365]\n",
            "Slope: [0.7048822], Intercept: [-0.6020001]\n",
            "Slope: [0.8489321], Intercept: [-0.5729619]\n",
            "Slope: [0.92588186], Intercept: [-0.55465865]\n",
            "Slope: [0.966789], Intercept: [-0.54213727]\n",
            "Slope: [0.9883372], Intercept: [-0.53273696]\n",
            "Slope: [0.99948853], Intercept: [-0.52502835]\n",
            "Slope: [1.0050572], Intercept: [-0.5182433]\n",
            "Slope: [1.0076293], Intercept: [-0.5119694]\n",
            "Slope: [1.008594], Intercept: [-0.50598496]\n",
            "Slope: [1.0086976], Intercept: [-0.50017065]\n",
            "Slope: [1.0083411], Intercept: [-0.49446234]\n",
            "Slope: [1.0077397], Intercept: [-0.48882556]\n",
            "Slope: [1.007009], Intercept: [-0.48324174]\n",
            "Slope: [1.0062112], Intercept: [-0.47770077]\n",
            "Slope: [1.0053797], Intercept: [-0.47219706]\n",
            "Slope: [1.0045322], Intercept: [-0.46672767]\n",
            "Slope: [1.0036784], Intercept: [-0.46129087]\n"
          ],
          "name": "stdout"
        },
        {
          "output_type": "display_data",
          "data": {
            "image/png": "[encoded data removed]",
            "text/plain": [
              "<Figure size 432x288 with 1 Axes>"
            ]
          },
          "metadata": {
            "tags": [],
            "needs_background": "light"
          }
        }
      ]
    },
    {
      "cell_type": "markdown",
      "metadata": {
        "id": "EAv-MHFkkrfF",
        "colab_type": "text"
      },
      "source": [
        "### Neural Network Time!\n",
        "Now we are going to create a neural network using this code. This is a big jump in complexity, but defining neural networks in pytorch is very formulaic, so if you take the time to understand this one it will be helpful for every neural network you see forever and ever. There are maybe more blog posts that describe how neural networks work than there are that describe gradient descent. \n",
        "\n",
        "[This book](http://neuralnetworksanddeeplearning.com/index.html) is very in depth and really guides you through math. If you want to go that deep, [this blogpost](https://victorzhou.com/blog/intro-to-neural-networks/) gives a shorter description and some intuition, and I highly recommend you at least check that out.\n",
        "\n",
        "The big idea behind a neural network is that a neural network can be trained to approximate a function with example input and output data. A neural network is composed of a series of trainable parameters, all of which are either \"weights\" which are entries in a matrix that are analogous to the slope in the linear regression example or \"biases\" that are analogous to the intercept. That means \"running\" a (traditional feedforward) neural network is equivalent to doing a series of matrix multiplications and vector additions, calculating the gradient of the error with respect to each of these operations using .backward(), and taking a step in the appropriate direction.\n",
        "\n",
        "The fact that automatic differetiation packages exist is a result of the [backpropogation](http://neuralnetworksanddeeplearning.com/chap2.html) algorithm, which is important to be aware of, but not necessary to fully understand in this excercise.\n",
        "\n",
        "Let's see this in practice! We will be building a neural network that can calculate the parity (even or odd sum) of a list of a fixed length. This is a relatively easy task, which is good because it trains fast, but it is complex enough that we can see how neural networks might be useful for even more complex operations.\n",
        "\n",
        "__Note:__ if you have never seen the softmax function before, you can read [this](https://towardsdatascience.com/softmax-function-simplified-714068bf8156) blogpost."
      ]
    },
    {
      "cell_type": "markdown",
      "metadata": {
        "id": "ctPDBBzKkrfI",
        "colab_type": "text"
      },
      "source": [
        "Let's take a look at the data we are going to be using:"
      ]
    },
    {
      "cell_type": "code",
      "metadata": {
        "id": "PF64McAbkrfI",
        "colab_type": "code",
        "colab": {}
      },
      "source": [
        "def unique_perms(series):\n",
        "    return {p for p in itertools.permutations(series)}\n",
        "\n",
        "def construct_dataset(vec_len):\n",
        "    example_list = [0] * vec_len\n",
        "    data = [[0] * vec_len] \n",
        "    labels = [[1, 0]]\n",
        "    for i in range(vec_len):\n",
        "        example_list[i] = 1\n",
        "        permutations = list(unique_perms(example_list))\n",
        "        data.extend(permutations)\n",
        "        labels.extend([[i % 2, (i + 1) % 2]] * len(permutations))\n",
        "        \n",
        "        \n",
        "    return torch.FloatTensor(data), torch.FloatTensor(labels)\n",
        "\n",
        "# If you want to see what the data and labels looks like, try:\n",
        "# print(construct_dataset(3))"
      ],
      "execution_count": 0,
      "outputs": []
    },
    {
      "cell_type": "code",
      "metadata": {
        "id": "xluWENzOm1Qv",
        "colab_type": "code",
        "colab": {
          "base_uri": "https://localhost:8080/",
          "height": 285
        },
        "outputId": "15fd17f1-d3b1-44d4-823c-2e67e2d0b6a8"
      },
      "source": [
        "print(construct_dataset(3))"
      ],
      "execution_count": 8,
      "outputs": [
        {
          "output_type": "stream",
          "text": [
            "(tensor([[0., 0., 0.],\n",
            "        [1., 0., 0.],\n",
            "        [0., 1., 0.],\n",
            "        [0., 0., 1.],\n",
            "        [1., 1., 0.],\n",
            "        [0., 1., 1.],\n",
            "        [1., 0., 1.],\n",
            "        [1., 1., 1.]]), tensor([[1., 0.],\n",
            "        [0., 1.],\n",
            "        [0., 1.],\n",
            "        [0., 1.],\n",
            "        [1., 0.],\n",
            "        [1., 0.],\n",
            "        [1., 0.],\n",
            "        [0., 1.]]))\n"
          ],
          "name": "stdout"
        }
      ]
    },
    {
      "cell_type": "code",
      "metadata": {
        "id": "x1bwsZ_7krfO",
        "colab_type": "code",
        "colab": {}
      },
      "source": [
        "# This is the usual setup for a pytorch neural network. You make a class that inherits\n",
        "# nn.Module, initialize parameters, and define a forward (a.k.a. predict) method.\n",
        "\n",
        "class MyFirstNetwork(nn.Module):\n",
        "\n",
        "    def __init__(self, input_size, hidden_size, output_size):\n",
        "        #This line is required, but not important\n",
        "        super(MyFirstNetwork, self).__init__()\n",
        "        \n",
        "        # In this network we define two layers, a hidden layer and an output layer\n",
        "        # Remember, these layers are just matrices of dimension arg1 X arg2 with\n",
        "        # a vector of biases of dimension arg2 X 1. Pytorch combines that all into\n",
        "        # a single layer, making things super easy\n",
        "        self.layer1 = nn.Linear(input_size, hidden_size)\n",
        "        self.layer2 = nn.Linear(hidden_size, output_size)\n",
        "        \n",
        "    def forward(self, x):\n",
        "        # You can pass data through a layer by calling that layer like a function!\n",
        "        # Check out below:\n",
        "        layer1_output = self.layer1(x)\n",
        "        \n",
        "        # One important part of many neural networks is adding a non-linearity\n",
        "        # function. This increases the complexity of functions neural networks\n",
        "        # can approximate. We are using the relu function in this example\n",
        "        # (https://en.wikipedia.org/wiki/Rectifier_(neural_networks)). We want\n",
        "        # to use a non-linearity like relu after every layer (except for on the output\n",
        "        # then we want to use softmax or something like that).\n",
        "        h = F.relu(layer1_output)\n",
        "        \n",
        "        # Now we run the output of the previous layer through the output layer. We \n",
        "        # ultimately want to output whether there is even (1,0) or odd (0,1) parity.\n",
        "        # So we treat this output as representing unnormalized probabilities, or logits,\n",
        "        # and use the softmax function so we get a vector that sums to one. We then\n",
        "        # want to train the Network to output either (1, 0) or (0, 1), depending on\n",
        "        # the input\n",
        "        logits = self.layer2(h)\n",
        "        return F.softmax(logits, dim=1)\n",
        "\n",
        "# Another training loop! This time we allow the loss calculation to be any function\n",
        "# criterion, and we use pytorch's optimizer instead of doing the gradient descent by\n",
        "# hand. Finally, epoch is the word we use for an iteration through all of the data.\n",
        "# We are training on all of our data each step in this example, but you can also\n",
        "# train on mini batches of your data, e.g. 32 examples at a time, if your dataset\n",
        "# is big enough\n",
        "def train(network, data_matrix, labels, criterion, optimizer, num_epochs = 1000):\n",
        "    losses = []\n",
        "    for epoch in range(num_epochs):\n",
        "        # Zeroing the gradient like before\n",
        "        optimizer.zero_grad()\n",
        "        # Getting the prediction from our model on all of the data\n",
        "        output = network(data_matrix)\n",
        "        # Calculating loss\n",
        "        loss = criterion(output, labels)\n",
        "        losses.append(loss)\n",
        "        # Calculate the gradients at each step\n",
        "        loss.backward()\n",
        "        # Take a step in the appropriate direction\n",
        "        optimizer.step()\n",
        "        \n",
        "    return losses\n",
        "        \n",
        "\n",
        "\n"
      ],
      "execution_count": 0,
      "outputs": []
    },
    {
      "cell_type": "markdown",
      "metadata": {
        "id": "QsY092yJkrfU",
        "colab_type": "text"
      },
      "source": [
        "Now that we have all of the pieces, we can put them together and train a neural network!"
      ]
    },
    {
      "cell_type": "code",
      "metadata": {
        "id": "5AwAKqV-krfV",
        "colab_type": "code",
        "colab": {}
      },
      "source": [
        "vector_len = 8\n",
        "data, labels = construct_dataset(vector_len)\n",
        "\n",
        "# Let's initialize our network\n",
        "# our inputs will be length 8\n",
        "input_size = vector_len\n",
        "# A layer size that that feels right for our input size\n",
        "hidden_size = 16\n",
        "# our output will be a categorical distribution, (prob_even, prob_odd)\n",
        "output_size = 2\n",
        "# a hyperparameter (that you will change!)\n",
        "learning_rate = 0.03\n",
        "\n",
        "mynet = MyFirstNetwork(input_size, hidden_size, output_size)\n",
        "\n",
        "# pytorch provides an mse calculator for us\n",
        "criterion = nn.MSELoss()\n",
        "# The optimizer we are using is called Adam, and it is like fancy gradient descent.\n",
        "# Worth checking out, but for right now we just need to know that it converges\n",
        "# faster on many problems. We pass the parameters, i.e. layers of our network to\n",
        "# the optimizer so that it can track them and update them, and we give a learning rate\n",
        "optimizer = optim.Adam(mynet.parameters(), lr=learning_rate)"
      ],
      "execution_count": 0,
      "outputs": []
    },
    {
      "cell_type": "code",
      "metadata": {
        "id": "u4UndeNYkrfZ",
        "colab_type": "code",
        "colab": {
          "base_uri": "https://localhost:8080/",
          "height": 35
        },
        "outputId": "7ea4eb0b-e4e1-401f-9b22-7a78143602d2"
      },
      "source": [
        "# Let's see what our untrained network predicts!\n",
        "print(mynet(torch.FloatTensor([0,0,0,0,0,0,0,1]).unsqueeze(0)))"
      ],
      "execution_count": 11,
      "outputs": [
        {
          "output_type": "stream",
          "text": [
            "tensor([[0.5529, 0.4471]], grad_fn=<SoftmaxBackward>)\n"
          ],
          "name": "stdout"
        }
      ]
    },
    {
      "cell_type": "markdown",
      "metadata": {
        "id": "dx68lkCekrff",
        "colab_type": "text"
      },
      "source": [
        "It's not very sure either way, we can do much better than this"
      ]
    },
    {
      "cell_type": "code",
      "metadata": {
        "id": "lsXL7Tmakrfi",
        "colab_type": "code",
        "colab": {}
      },
      "source": [
        "# Now let's put it all together and train the network!\n",
        "losses = train(mynet, data, labels, criterion, optimizer)"
      ],
      "execution_count": 0,
      "outputs": []
    },
    {
      "cell_type": "code",
      "metadata": {
        "id": "UtKlXT6ykrfp",
        "colab_type": "code",
        "colab": {
          "base_uri": "https://localhost:8080/",
          "height": 295
        },
        "outputId": "3a66c310-63cf-41d9-fa2d-29e0df736202"
      },
      "source": [
        "plt.plot(np.arange(len(losses)), losses)\n",
        "plt.title(\"MSE Per Epoch\")\n",
        "plt.xlabel(\"Epoch\")\n",
        "plt.ylabel(\"MSE\")\n",
        "plt.show()"
      ],
      "execution_count": 13,
      "outputs": [
        {
          "output_type": "display_data",
          "data": {
            "image/png": "[encoded data removed]",
            "text/plain": [
              "<Figure size 432x288 with 1 Axes>"
            ]
          },
          "metadata": {
            "tags": [],
            "needs_background": "light"
          }
        }
      ]
    },
    {
      "cell_type": "markdown",
      "metadata": {
        "id": "HXBWIEzCkrft",
        "colab_type": "text"
      },
      "source": [
        "Now we can see what the network predicts when we run it on a datapoint."
      ]
    },
    {
      "cell_type": "code",
      "metadata": {
        "id": "DNz0VH9Gkrfv",
        "colab_type": "code",
        "colab": {
          "base_uri": "https://localhost:8080/",
          "height": 35
        },
        "outputId": "53776375-be66-48e4-8c15-8d8c553da1cb"
      },
      "source": [
        "mynet(torch.FloatTensor([1,0,0,0,0,0,0,0]).unsqueeze(0))"
      ],
      "execution_count": 14,
      "outputs": [
        {
          "output_type": "execute_result",
          "data": {
            "text/plain": [
              "tensor([[0.0216, 0.9784]], grad_fn=<SoftmaxBackward>)"
            ]
          },
          "metadata": {
            "tags": []
          },
          "execution_count": 14
        }
      ]
    },
    {
      "cell_type": "markdown",
      "metadata": {
        "id": "s34dPicckrf1",
        "colab_type": "text"
      },
      "source": [
        "Now that we have a network to build off of, you are going to be tweaking different parts of the code so that you get more comfortable working with pytorch. You are going to get some practice plotting here. With each tweak, plot the original loss curve and the new loss curve after the tweak. \n",
        "1. Change the learning rate. Try differing by orders of 3x in both directions, and plot your results for 5 different learning rates. Plot 1 graph with all 5 loss curves.\n",
        "2. Change the size of the hidden layer. Try a much lower value and see if the network can still learn well. What is the smallest that layer can be and still learn the function? Plot the results of five different attempts, again on the same graph.\n",
        "3. Add another layer in myfirstnetwork to create mysecondnetwork. See if you can use 2 smaller hidden layers instead of one bigger layer. Don't forget the non-linearity!\n",
        "4. (Optional) Split the training data into training and testing data. See if you can get the network to generalize to data it hasn't seen before. __Note__ You should always do this when you are training a real network, because overfitting is a very common problem. (i.e. your network fails to generalize)"
      ]
    },
    {
      "cell_type": "code",
      "metadata": {
        "id": "es7c7dYykrf2",
        "colab_type": "code",
        "colab": {
          "base_uri": "https://localhost:8080/",
          "height": 295
        },
        "outputId": "6ed1afbc-51f6-49f8-dadf-48ed4e521100"
      },
      "source": [
        "# Start coding here!\n",
        "def five_lrs():\n",
        "     \n",
        "    learning_rate = 0.03\n",
        "    lrs = [learning_rate * 1000, learning_rate * 10, learning_rate, learning_rate * 0.1, learning_rate * 0.001]\n",
        "    losses_list = []\n",
        "    for lr in lrs:\n",
        "        vector_len = 8\n",
        "        data, labels = construct_dataset(vector_len)\n",
        "\n",
        "        # Let's initialize our network\n",
        "        # our inputs will be length 8\n",
        "        input_size = vector_len\n",
        "        # A layer size that that feels right for our input size\n",
        "        hidden_size = 16\n",
        "        # our output will be a categorical distribution, (prob_even, prob_odd)\n",
        "        output_size = 2\n",
        "        # a hyperparameter (that you will change!)\n",
        "        learning_rate = 0.03\n",
        "\n",
        "        mynet = MyFirstNetwork(input_size, hidden_size, output_size)\n",
        "\n",
        "        # pytorch provides an mse calculator for us\n",
        "        criterion = nn.MSELoss()\n",
        "        # The optimizer we are using is called Adam, and it is like fancy gradient descent.\n",
        "        # Worth checking out, but for right now we just need to know that it converges\n",
        "        # faster on many problems. We pass the parameters, i.e. layers of our network to\n",
        "        # the optimizer so that it can track them and update them, and we give a learning rate\n",
        "        optimizer = optim.Adam(mynet.parameters(), lr=lr)\n",
        "        losses_list.append(train(mynet, data, labels, criterion, optimizer))\n",
        "        plt.plot(np.arange(len(losses_list[-1])), losses_list[-1], label=f'lr={lr}')\n",
        "    \n",
        "        \n",
        "    plt.title(\"MSE Per Epoch\")\n",
        "    plt.xlabel(\"Epoch\")\n",
        "    plt.ylabel(\"MSE\")\n",
        "    plt.legend()\n",
        "    plt.show()\n",
        "\n",
        "five_lrs()\n"
      ],
      "execution_count": 18,
      "outputs": [
        {
          "output_type": "display_data",
          "data": {
            "image/png": "[encoded data removed]",
            "text/plain": [
              "<Figure size 432x288 with 1 Axes>"
            ]
          },
          "metadata": {
            "tags": [],
            "needs_background": "light"
          }
        }
      ]
    },
    {
      "cell_type": "code",
      "metadata": {
        "id": "mrHyvjHjp89k",
        "colab_type": "code",
        "colab": {
          "base_uri": "https://localhost:8080/",
          "height": 333
        },
        "outputId": "b61fdecf-7c61-467b-ecc4-ee1fea7d0388"
      },
      "source": [
        "def smaller_hidden_layer():\n",
        "    layers = range(1,16)\n",
        "    losses_list = []\n",
        "    for hidden_layer in layers:\n",
        "        vector_len = 8\n",
        "        data, labels = construct_dataset(vector_len)\n",
        "\n",
        "        # Let's initialize our network\n",
        "        # our inputs will be length 8\n",
        "        input_size = vector_len\n",
        "        \n",
        "        # our output will be a categorical distribution, (prob_even, prob_odd)\n",
        "        output_size = 2\n",
        "        # a hyperparameter (that you will change!)\n",
        "        learning_rate = 0.03\n",
        "\n",
        "        mynet = MyFirstNetwork(input_size, hidden_layer, output_size)\n",
        "\n",
        "        # pytorch provides an mse calculator for us\n",
        "        criterion = nn.MSELoss()\n",
        "        # The optimizer we are using is called Adam, and it is like fancy gradient descent.\n",
        "        # Worth checking out, but for right now we just need to know that it converges\n",
        "        # faster on many problems. We pass the parameters, i.e. layers of our network to\n",
        "        # the optimizer so that it can track them and update them, and we give a learning rate\n",
        "        optimizer = optim.Adam(mynet.parameters(), lr=learning_rate)\n",
        "        losses_list.append(train(mynet, data, labels, criterion, optimizer, num_epochs=5000))\n",
        "        plt.plot(np.arange(len(losses_list[-1])), losses_list[-1], label=f'n={hidden_layer}')\n",
        "    \n",
        "    final_losses = {i + 1: losses[-1] for i, losses in enumerate(losses_list)}\n",
        "    print(f\"final losses: {final_losses}\")\n",
        "        \n",
        "    plt.title(\"MSE Per Epoch\")\n",
        "    plt.xlabel(\"Epoch\")\n",
        "    plt.ylabel(\"MSE\")\n",
        "    plt.legend()\n",
        "    plt.show()\n",
        "\n",
        "smaller_hidden_layer()"
      ],
      "execution_count": 31,
      "outputs": [
        {
          "output_type": "stream",
          "text": [
            "final losses: {1: tensor(0.2449, grad_fn=<MseLossBackward>), 2: tensor(0.2500, grad_fn=<MseLossBackward>), 3: tensor(0.2500, grad_fn=<MseLossBackward>), 4: tensor(0.2432, grad_fn=<MseLossBackward>), 5: tensor(0.2266, grad_fn=<MseLossBackward>), 6: tensor(0.2324, grad_fn=<MseLossBackward>), 7: tensor(0.2074, grad_fn=<MseLossBackward>), 8: tensor(0.2218, grad_fn=<MseLossBackward>), 9: tensor(0.1349, grad_fn=<MseLossBackward>), 10: tensor(0.1723, grad_fn=<MseLossBackward>), 11: tensor(0.0430, grad_fn=<MseLossBackward>), 12: tensor(0.1945, grad_fn=<MseLossBackward>), 13: tensor(0.0672, grad_fn=<MseLossBackward>), 14: tensor(0.0612, grad_fn=<MseLossBackward>), 15: tensor(0.0629, grad_fn=<MseLossBackward>)}\n"
          ],
          "name": "stdout"
        },
        {
          "output_type": "display_data",
          "data": {
            "image/png": "[encoded data removed]",
            "text/plain": [
              "<Figure size 432x288 with 1 Axes>"
            ]
          },
          "metadata": {
            "tags": [],
            "needs_background": "light"
          }
        }
      ]
    },
    {
      "cell_type": "markdown",
      "metadata": {
        "id": "rGq0lfYzrTTP",
        "colab_type": "text"
      },
      "source": [
        "It started doing quite well at n=11 (after 5000 epochs)"
      ]
    },
    {
      "cell_type": "code",
      "metadata": {
        "id": "DJK241ZPs7OO",
        "colab_type": "code",
        "colab": {}
      },
      "source": [
        "class MySecondNetwork(nn.Module):\n",
        "\n",
        "    def __init__(self, input_size, hidden_size1, hidden_size2, output_size):\n",
        "        #This line is required, but not important\n",
        "        super(MySecondNetwork, self).__init__()\n",
        "        \n",
        "        # In this network we define two layers, a hidden layer and an output layer\n",
        "        # Remember, these layers are just matrices of dimension arg1 X arg2 with\n",
        "        # a vector of biases of dimension arg2 X 1. Pytorch combines that all into\n",
        "        # a single layer, making things super easy\n",
        "        self.layer1 = nn.Linear(input_size, hidden_size1)\n",
        "        self.layer2 = nn.Linear(hidden_size1, hidden_size2)\n",
        "        self.layer3 = nn.Linear(hidden_size2, output_size)\n",
        "        \n",
        "    def forward(self, x):\n",
        "        # You can pass data through a layer by calling that layer like a function!\n",
        "        # Check out below:\n",
        "        layer1_output = self.layer1(x)\n",
        "        \n",
        "        \n",
        "        # One important part of many neural networks is adding a non-linearity\n",
        "        # function. This increases the complexity of functions neural networks\n",
        "        # can approximate. We are using the relu function in this example\n",
        "        # (https://en.wikipedia.org/wiki/Rectifier_(neural_networks)). We want\n",
        "        # to use a non-linearity like relu after every layer (except for on the output\n",
        "        # then we want to use softmax or something like that).\n",
        "        h = F.relu(layer1_output)\n",
        "        \n",
        "        # Now we run the output of the previous layer through the output layer. We \n",
        "        # ultimately want to output whether there is even (1,0) or odd (0,1) parity.\n",
        "        # So we treat this output as representing unnormalized probabilities, or logits,\n",
        "        # and use the softmax function so we get a vector that sums to one. We then\n",
        "        # want to train the Network to output either (1, 0) or (0, 1), depending on\n",
        "        # the input\n",
        "\n",
        "        layer2_output = self.layer2(h)\n",
        "        layer2_output = F.relu(layer2_output)\n",
        "        logits = self.layer3(layer2_output)\n",
        "        return F.softmax(logits, dim=1)"
      ],
      "execution_count": 0,
      "outputs": []
    },
    {
      "cell_type": "code",
      "metadata": {
        "id": "nfWxzoQevU_F",
        "colab_type": "code",
        "colab": {
          "base_uri": "https://localhost:8080/",
          "height": 313
        },
        "outputId": "7cfc153f-e47e-47a7-be0e-1dabbc15b4fc"
      },
      "source": [
        "def two_smaller_layers():\n",
        "    vector_len = 8\n",
        "    data, labels = construct_dataset(vector_len)\n",
        "\n",
        "    # Let's initialize our network\n",
        "    # our inputs will be length 8\n",
        "    input_size = vector_len\n",
        "    \n",
        "    # our output will be a categorical distribution, (prob_even, prob_odd)\n",
        "    output_size = 2\n",
        "    # a hyperparameter (that you will change!)\n",
        "    learning_rate = 0.03\n",
        "\n",
        "    mynet = MySecondNetwork(input_size, 13, 13, output_size)\n",
        "    mynet2 = MyFirstNetwork(input_size, 16, output_size)\n",
        "\n",
        "    # pytorch provides an mse calculator for us\n",
        "    criterion = nn.MSELoss()\n",
        "    # The optimizer we are using is called Adam, and it is like fancy gradient descent.\n",
        "    # Worth checking out, but for right now we just need to know that it converges\n",
        "    # faster on many problems. We pass the parameters, i.e. layers of our network to\n",
        "    # the optimizer so that it can track them and update them, and we give a learning rate\n",
        "    optimizer = optim.Adam(mynet.parameters(), lr=learning_rate)\n",
        "    losses = train(mynet, data, labels, criterion, optimizer, num_epochs=5000)\n",
        "    losses2 = train(mynet2, data, labels, criterion, optimizer, num_epochs=5000)\n",
        "    plt.plot(np.arange(len(losses)), losses, label=f'n=6 and n=2')\n",
        "    plt.plot(np.arange(len(losses2)), losses2, label=f'n=16')\n",
        "    print(f'final losses: {losses[-1]} and {losses2[-1]}')\n",
        "    plt.title(\"MSE Per Epoch\")\n",
        "    plt.xlabel(\"Epoch\")\n",
        "    plt.ylabel(\"MSE\")\n",
        "    plt.legend()\n",
        "    plt.show()\n",
        "\n",
        "two_smaller_layers()"
      ],
      "execution_count": 48,
      "outputs": [
        {
          "output_type": "stream",
          "text": [
            "final losses: 0.12331186234951019 and 0.257663369178772\n"
          ],
          "name": "stdout"
        },
        {
          "output_type": "display_data",
          "data": {
            "image/png": "[encoded data removed]",
            "text/plain": [
              "<Figure size 432x288 with 1 Axes>"
            ]
          },
          "metadata": {
            "tags": [],
            "needs_background": "light"
          }
        }
      ]
    },
    {
      "cell_type": "markdown",
      "metadata": {
        "id": "KeBmnEazxmkZ",
        "colab_type": "text"
      },
      "source": [
        "By greatly increasing the number of parameters we can get a model with lower loss."
      ]
    },
    {
      "cell_type": "markdown",
      "metadata": {
        "id": "pQKL2cglkrf6",
        "colab_type": "text"
      },
      "source": [
        "## RNN Time!\n",
        "\n",
        "RNNs are inspired by HMMs and are used to process sequential data. If you need a refresher on RNNs, check out [this blogpost.](https://towardsdatascience.com/learn-how-recurrent-neural-networks-work-84e975feaaf7) We will be implementing a vanilla recurrent neural network because it is conceptually the simplest, but it is very rare you would see one in the wild. Long-Short Term Memory networks (LSTMs) or GRUs are much more common in the real world, but are just variations on the key ideas you will see below."
      ]
    },
    {
      "cell_type": "markdown",
      "metadata": {
        "id": "PFSJ9tvKkrf7",
        "colab_type": "text"
      },
      "source": [
        "__Side note:__ you can use tqdm for easy progress bars, pretty cool"
      ]
    },
    {
      "cell_type": "code",
      "metadata": {
        "id": "-798IJGZkrf8",
        "colab_type": "code",
        "colab": {}
      },
      "source": [
        "from tqdm import tqdm_notebook as tqdm"
      ],
      "execution_count": 0,
      "outputs": []
    },
    {
      "cell_type": "markdown",
      "metadata": {
        "id": "zHJM-kNXkrgA",
        "colab_type": "text"
      },
      "source": [
        "We are going to construct a slightly different dataset to train the RNN. You may recall that an RNN outputs something at each timestep, and so to give it a stronger signal we will label each element with the parity so far in the sequence, as we want the RNN to be able to distinguish between even and odd summed sequences of any length."
      ]
    },
    {
      "cell_type": "code",
      "metadata": {
        "id": "HWgtYq4zkrgB",
        "colab_type": "code",
        "colab": {}
      },
      "source": [
        "def unique_perms(series):\n",
        "    return {p for p in itertools.permutations(series)}\n",
        "\n",
        "def construct_rnn_dataset(vec_len):\n",
        "    example_list = [0] * vec_len\n",
        "    data = [[0] * vec_len] \n",
        "    labels = [[0] * vec_len]\n",
        "    for i in range(vec_len):\n",
        "        example_list[i] = 1\n",
        "        permutations = list(unique_perms(example_list))\n",
        "        data.extend(permutations)\n",
        "        for perm in permutations:\n",
        "            labels.append([sum(perm[:i+1]) % 2 for i in range(len(perm))])\n",
        "        \n",
        "        \n",
        "    return torch.FloatTensor(data), torch.LongTensor(labels)"
      ],
      "execution_count": 0,
      "outputs": []
    },
    {
      "cell_type": "code",
      "metadata": {
        "id": "513tGb1_x3d1",
        "colab_type": "code",
        "colab": {
          "base_uri": "https://localhost:8080/",
          "height": 285
        },
        "outputId": "b2d97b32-02e4-4221-f60d-ff1c3d126a6b"
      },
      "source": [
        "construct_rnn_dataset(3)"
      ],
      "execution_count": 51,
      "outputs": [
        {
          "output_type": "execute_result",
          "data": {
            "text/plain": [
              "(tensor([[0., 0., 0.],\n",
              "         [1., 0., 0.],\n",
              "         [0., 1., 0.],\n",
              "         [0., 0., 1.],\n",
              "         [1., 1., 0.],\n",
              "         [0., 1., 1.],\n",
              "         [1., 0., 1.],\n",
              "         [1., 1., 1.]]), tensor([[0, 0, 0],\n",
              "         [1, 1, 1],\n",
              "         [0, 1, 1],\n",
              "         [0, 0, 1],\n",
              "         [1, 0, 0],\n",
              "         [0, 1, 0],\n",
              "         [1, 1, 0],\n",
              "         [1, 0, 1]]))"
            ]
          },
          "metadata": {
            "tags": []
          },
          "execution_count": 51
        }
      ]
    },
    {
      "cell_type": "markdown",
      "metadata": {
        "id": "BPjqxCv9krgG",
        "colab_type": "text"
      },
      "source": [
        "Your task is to fill out the forward function for this RNN. You may want to use MyFirstNetwork as inspiration. ```forward``` gives the output and hidden state after one timestep of the network. ```forward_predict``` gives you an idea of how forward would be used to run your RNN on an entire sequence."
      ]
    },
    {
      "cell_type": "markdown",
      "metadata": {
        "id": "WRmis3pykrgH",
        "colab_type": "text"
      },
      "source": [
        "At each timestep:\n",
        "<pre>\n",
        "prev_hidden                              ----------> |i2o| ---------------> output\n",
        "    +        -----> |input2hidden1| -----|\n",
        "  input                                  ----------> |input2hidden2|------> hidden\n",
        "</pre>\n",
        "Don't forget to put nonlinearities after each layer (to make the network more expressive) and a softmax on the output (because we are classifying each sequence as either even or odd)."
      ]
    },
    {
      "cell_type": "code",
      "metadata": {
        "id": "7yXTe3HhkrgH",
        "colab_type": "code",
        "colab": {}
      },
      "source": [
        "class RNN(nn.Module):\n",
        "    def __init__(self, input_size, hidden_size, output_size):\n",
        "        super(RNN, self).__init__()\n",
        "        # This should look familiar!\n",
        "        self.hidden_size = hidden_size\n",
        "        self.input2hidden1 = nn.Linear(input_size + hidden_size, input_size + hidden_size)\n",
        "        self.input2hidden2 = nn.Linear(input_size + hidden_size, hidden_size)\n",
        "        self.i2o = nn.Linear(input_size + hidden_size, output_size)\n",
        "        self.softmax = nn.Softmax(dim=1)\n",
        "\n",
        "    def forward(self, input, hidden):\n",
        "        # We will start you off with the torch.cat function\n",
        "        combined = torch.cat((input, hidden), -1)\n",
        "        # How do we get from combined to our new output and hidden?\n",
        "        output = self.i2o(self.input2hidden1(combined))\n",
        "        hidden = self.input2hidden2(self.input2hidden1(combined))\n",
        "        return output, hidden\n",
        "\n",
        "    def forward_predict(self, sequence):\n",
        "        h = self.init_hidden(1)\n",
        "        for e in sequence:\n",
        "            o, h = self.forward(e.reshape(1,1), h)\n",
        "        return o\n",
        "    \n",
        "    def init_hidden(self, batch_size):\n",
        "        return torch.zeros(batch_size, self.hidden_size)\n",
        "\n",
        "def train(network, data_matrix, labels, criterion, optimizer, num_epochs = 200):\n",
        "    losses = []\n",
        "    # This should look familiar too!\n",
        "    for epoch in tqdm(range(num_epochs)):\n",
        "        # Zero out the gradient and initialize the loss...\n",
        "        optimizer.zero_grad()\n",
        "        loss = torch.tensor(0.)\n",
        "        hidden = network.init_hidden(data_matrix.shape[0])\n",
        "        \n",
        "\n",
        "        # Getting the prediction from our model on all of the data\n",
        "        # at each timestep, and calculating the error in parity prediction\n",
        "        for i in range(data_matrix.shape[1]):\n",
        "            output, hidden = network(data_matrix[:,i].unsqueeze(1), hidden)\n",
        "            loss += criterion(output, labels[:,i]) / data_matrix.shape[1]\n",
        "        \n",
        "        losses.append(loss)\n",
        "        # Calculate the gradients at each step\n",
        "        loss.backward()\n",
        "        # Take a step in the appropriate direction\n",
        "        optimizer.step()\n",
        "        \n",
        "    return losses\n",
        "        "
      ],
      "execution_count": 0,
      "outputs": []
    },
    {
      "cell_type": "markdown",
      "metadata": {
        "id": "Vk5sSeh8krgN",
        "colab_type": "text"
      },
      "source": [
        "Ok, now let's construct our dataset and labels!"
      ]
    },
    {
      "cell_type": "code",
      "metadata": {
        "id": "eXmT73JXkrgO",
        "colab_type": "code",
        "colab": {}
      },
      "source": [
        "data, labels = construct_rnn_dataset(5)"
      ],
      "execution_count": 0,
      "outputs": []
    },
    {
      "cell_type": "markdown",
      "metadata": {
        "id": "cbwImDDIkrgU",
        "colab_type": "text"
      },
      "source": [
        "This time when we train, we will use CrossEntropyLoss instead of MSE loss. Cross entropy loss is more appropriate for training a classifier, as it treats output as probabilities so you can get a stronger gradient for a 0-1 flip."
      ]
    },
    {
      "cell_type": "code",
      "metadata": {
        "id": "PmEu0wsIkrgX",
        "colab_type": "code",
        "colab": {
          "base_uri": "https://localhost:8080/",
          "height": 381,
          "referenced_widgets": [
            "5196d4aae54e42ecb126eb54fc7e9bc8",
            "551dddd04e484b02b59d05fe1de3f8b5",
            "d131875c0a8346ff8f6d05e7005e6d19",
            "b07c10fd173c45a7956d0bf01df06d7a",
            "fad62e804bb9496a9eaf859b22ba1b7c",
            "d48673239fc94215a59b2c92c461acde",
            "0f90d320bdc24126ba8dff6b677a2cb1",
            "1ccf95e6dc8f4eaa977ee2d37389aac6"
          ]
        },
        "outputId": "86e18df5-0ebc-4f10-eefa-d49da546df23"
      },
      "source": [
        "input_size = 1\n",
        "hidden_size = 20\n",
        "output_size = 2\n",
        "criterion = nn.CrossEntropyLoss()\n",
        "mynet = RNN(input_size, hidden_size, output_size)\n",
        "optimizer = optim.Adam(mynet.parameters(), lr=.03)\n",
        "losses = train(mynet, data, labels, criterion, optimizer)\n",
        "\n",
        "plt.plot(np.arange(len(losses)), losses)\n",
        "\n",
        "    \n",
        "plt.title(\"Cross Entropy Loss Per Epoch with RNN\")\n",
        "plt.xlabel(\"Epoch\")\n",
        "plt.ylabel(\"Cross Entropy (bits)\")\n",
        "plt.show()"
      ],
      "execution_count": 54,
      "outputs": [
        {
          "output_type": "stream",
          "text": [
            "/usr/local/lib/python3.6/dist-packages/ipykernel_launcher.py:31: TqdmDeprecationWarning: This function will be removed in tqdm==5.0.0\n",
            "Please use `tqdm.notebook.tqdm` instead of `tqdm.tqdm_notebook`\n"
          ],
          "name": "stderr"
        },
        {
          "output_type": "display_data",
          "data": {
            "application/vnd.jupyter.widget-view+json": {
              "model_id": "5196d4aae54e42ecb126eb54fc7e9bc8",
              "version_minor": 0,
              "version_major": 2
            },
            "text/plain": [
              "HBox(children=(IntProgress(value=0, max=200), HTML(value='')))"
            ]
          },
          "metadata": {
            "tags": []
          }
        },
        {
          "output_type": "stream",
          "text": [
            "\n"
          ],
          "name": "stdout"
        },
        {
          "output_type": "display_data",
          "data": {
            "image/png": "[encoded data removed]",
            "text/plain": [
              "<Figure size 432x288 with 1 Axes>"
            ]
          },
          "metadata": {
            "tags": [],
            "needs_background": "light"
          }
        }
      ]
    },
    {
      "cell_type": "code",
      "metadata": {
        "id": "vQLCGDb8krgc",
        "colab_type": "code",
        "colab": {
          "base_uri": "https://localhost:8080/",
          "height": 35
        },
        "outputId": "a7cda107-2905-454d-8391-7dd5205f0f9d"
      },
      "source": [
        "# Now that we have trained the network, if all is good we should be able to classify\n",
        "# a sequence of many lengths using forward predict. Try it out below and see for yourself!\n",
        "mynet.forward_predict(torch.FloatTensor([1,0,0,1,0,1,1,0,0,0,0,1]))"
      ],
      "execution_count": 55,
      "outputs": [
        {
          "output_type": "execute_result",
          "data": {
            "text/plain": [
              "tensor([[-0.2285,  0.1764]], grad_fn=<AddmmBackward>)"
            ]
          },
          "metadata": {
            "tags": []
          },
          "execution_count": 55
        }
      ]
    },
    {
      "cell_type": "code",
      "metadata": {
        "id": "h00P2FXW0-fB",
        "colab_type": "code",
        "colab": {
          "base_uri": "https://localhost:8080/",
          "height": 303
        },
        "outputId": "d347c746-b9de-4719-9a47-b8f6935a6086"
      },
      "source": [
        "import random\n",
        "sequences = [[random.choice([0, 1]) for _ in range(5, 5+random.randint(5,10))] for i in range(5)]\n",
        "parities = [sum(seq)%2 for seq in sequences]\n",
        "accurate = 0\n",
        "for i, seq in enumerate(sequences):\n",
        "    print(seq)\n",
        "    result = mynet.forward_predict(torch.FloatTensor(seq))\n",
        "    pred_parity = torch.argmax(result)\n",
        "    true_parity = parities[i]\n",
        "    if pred_parity == true_parity: accurate += 1\n",
        "    print(f\"true parity: {true_parity} prediction: {pred_parity}\\n\")\n",
        "print(f\"accuracy {accurate/len(sequences)}\")"
      ],
      "execution_count": 69,
      "outputs": [
        {
          "output_type": "stream",
          "text": [
            "[0, 1, 0, 0, 0, 1, 0, 1, 1, 1]\n",
            "true parity: 1 prediction: 1\n",
            "\n",
            "[0, 1, 1, 0, 1, 1, 1, 1, 0]\n",
            "true parity: 0 prediction: 0\n",
            "\n",
            "[0, 1, 0, 0, 1, 0]\n",
            "true parity: 0 prediction: 0\n",
            "\n",
            "[1, 1, 0, 1, 0, 0, 1, 0]\n",
            "true parity: 0 prediction: 0\n",
            "\n",
            "[1, 1, 0, 1, 1, 1, 1]\n",
            "true parity: 0 prediction: 1\n",
            "\n",
            "accuracy 0.8\n"
          ],
          "name": "stdout"
        }
      ]
    },
    {
      "cell_type": "code",
      "metadata": {
        "id": "UqPMe8QS1vwy",
        "colab_type": "code",
        "colab": {}
      },
      "source": [
        ""
      ],
      "execution_count": 0,
      "outputs": []
    }
  ]
}